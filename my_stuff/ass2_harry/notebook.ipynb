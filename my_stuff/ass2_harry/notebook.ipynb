{
 "cells": [
  {
   "cell_type": "markdown",
   "metadata": {},
   "source": [
    "# Assignment 2"
   ]
  },
  {
   "cell_type": "markdown",
   "metadata": {},
   "source": [
    "## Guidelines\n",
    "\n",
    "> Remember that this is a code notebook - add an explanation of what you do using text boxes and markdown, and comment your code. Answers without explanations may get less points.\n",
    ">\n",
    "> If you re-use a substantial portion of code you find online, e.g on Stackoverflow, you need to add a link to it and make the borrowing explicit. The same applies of you take it and modify it, even substantially. There is nothing bad in doing that, providing you are acknowledging it and make it clear you know what you're doing.\n",
    ">\n",
    "> The **Generative AI policy** from the syllabus for the programming assignments applies. Generative AI can be used as a source of information in these assignments if properly referenced. You can use generative AI assistance for writing code, but you must reference the chat used as a source, just as if you would take from StackOverflow. In ChatGPT, you can make an URL to the information you obtained by clicking the \"Share link to Chat\" button and then \"Copy Link\". This allows you to cite the source of the information you use in your answer or code solution. Of course, as you know, GenAI tools are not always a reliable source and its answers are intransparantly drawn from other sources - it is recommended to cross-check its output with other sources or your own understanding of the topic.\n",
    "> \n",
    "> For the explanations of what you do that you provide with each question, as well as for (sub)questions that ask about things like motivation of choices or your opinion, the answer to this must be conceptualized and written by yourself and not copied from a generative AI source.\n",
    ">\n",
    "> Make sure your notebooks have been run when you submit, as I won't run them myself. Submit both the `.ipynb` file along with an `.html` export of the same. Submit all necessary auxilliary files as well. Please compress your submission into a `.zip` archive. Only `.zip` files can be submitted.\n",
    "> If you are using Google Colab, here is a tutorial for obtaining an HTML export: https://stackoverflow.com/questions/53460051/convert-ipynb-notebook-to-html-in-google-colab .\n",
    ">\n",
    "> With Jupyter, you can simply export it as HTML through the File menu."
   ]
  },
  {
   "cell_type": "markdown",
   "metadata": {},
   "source": [
    "## Grading policy\n",
    "> As follows:\n",
    ">\n",
    "> * 70 points for correctly completing the assignment.\n",
    ">\n",
    "> * 20 points for appropriately writing and organizing your code in terms of structure, readibility (also by humans), comments and minimal documentation. It is important to be concise but also to explain what you did and why, when not obvious. Feel free to re-use functions and variables from previous questions if that helps for structure and readability - you do not need to repeat previous steps for each question.\n",
    "> \n",
    "> * 10 points for doing something extra, e.g., if you go beyond expectations (overall or on something specific). Some ideas for extras might be mentioned in the exercises, or you can come up with your own. You don't need to do them all to get the bonus. The sum of points is 90, doing (some of) the extras can bring you to 100, so the extras are not necessary to get an A.\n",
    "> \n",
    "\n",
    "**The AUC code of conduct applies to this assignment: please only submit your own work and follow the instructions on referencing external sources above.**"
   ]
  },
  {
   "cell_type": "markdown",
   "metadata": {},
   "source": [
    "---"
   ]
  },
  {
   "cell_type": "markdown",
   "metadata": {},
   "source": [
    "# Introduction\n",
    "\n",
    "In this assignment, you will build and compare vector models for measuring **semantic similarity**.\n",
    "\n",
    "First, you are going to use different count-based methods to create these models. Secondly you are going to created dense, lower-dimensionality models from them. Thirdly, you are going to use prediction-based models as well.\n",
    "\n",
    "Eventually, you are asked to assess the performance of these models against a human gold standard.\n",
    "\n",
    "I recommend basing your code on the examples in the course notebooks on this topic."
   ]
  },
  {
   "cell_type": "markdown",
   "metadata": {},
   "source": [
    "---"
   ]
  },
  {
   "cell_type": "markdown",
   "metadata": {},
   "source": [
    "# Corpus preparation (8 points)"
   ]
  },
  {
   "cell_type": "markdown",
   "metadata": {},
   "source": [
    "## Question 1 (8 points)\n",
    "\n",
    "Prepare for creating a distributional space by **counting and filtering** the surface co-occurrences in a symmetric ±5 word collocations span from the following corpus:\n",
    "\n",
    "* A lemmatized version of the Reuters corpus (the choice of the lemmatizer is up to you). For this step, you might need a PoS-tagger: you are welcome to choose one yourself. In case you can't do PoS tagging on your own, you can use the following command to load the provided corpus in `data/reuters.pos` (uploaded as a `.zip` file, so first unzip it):\n",
    "\n",
    "```python\n",
    "with open(\"data/reuters.pos\", \"rb\") as corpus_file:\n",
    "    reuter_PoSTagged = pickle.load(corpus_file)\n",
    "```\n",
    "\n",
    "Remember to make motivated choices for the different strategies in building word vectors as described in class. Be explicit about:\n",
    "\n",
    "1. what lemmas you want to describe (i.e., what will be your target vectors?);\n",
    "2. how you want to describe them (i.e., what will be your contexts?);\n",
    "3. what filtering strategy you are going to choose (i.e., what do you exclude?).\n",
    "\n",
    "That means you should describe these things in text.\n",
    "\n",
    "**Possible extra**\n",
    "\n",
    "Actually create the space with these counts as values (i.e. make a vector with the counts, as in the subsequent questions where we put weighted counts in the vector)."
   ]
  },
  {
   "cell_type": "code",
   "execution_count": 1,
   "metadata": {},
   "outputs": [],
   "source": [
    "# your code here\n",
    "\n",
    "from nltk import WordNetLemmatizer as lemmatizer\n",
    "from nltk import pos_tag\n",
    "from nltk.corpus import reuters, wordnet\n",
    "from collections import Counter\n",
    "from itertools import chain\n",
    "import numpy as np\n",
    "import matplotlib.pyplot as plt\n",
    "\n",
    "reuters_le = []\n",
    "un_to_wn_map = {\"VERB\" : wordnet.VERB,\n",
    "                \"NOUN\" : wordnet.NOUN,\n",
    "                \"ADJ\" : wordnet.ADJ,\n",
    "                \"ADV\" : wordnet.ADV}\n",
    "\n",
    "for sentence in reuters.sents():\n",
    "    sentence_le = []\n",
    "\n",
    "    for (word, pos) in pos_tag(list(map(lambda x: x.lower(), sentence)),\n",
    "                               tagset = \"universal\"):\n",
    "\n",
    "        if pos in un_to_wn_map.keys():\n",
    "            lemma = lemmatizer().lemmatize(word, pos = un_to_wn_map[pos])\n",
    "        elif pos not in {'.', 'X'}:\n",
    "            lemma = lemmatizer().lemmatize(word)\n",
    "\n",
    "        if lemma.isalpha() and len(lemma) > 2:\n",
    "            sentence_le.append('-'.join([lemma, pos]))\n",
    "        \n",
    "    reuters_le.append(sentence_le)"
   ]
  },
  {
   "cell_type": "code",
   "execution_count": 2,
   "metadata": {},
   "outputs": [
    {
     "name": "stdout",
     "output_type": "stream",
     "text": [
      ">> [(('loss-NOUN', 'loss-NOUN'), 8570), (('company-NOUN', 'the-DET'), 5504), (('rev-NOUN', 'mln-ADJ'), 4221), (('year-NOUN', 'the-DET'), 4150), (('dlrs-NOUN', 'dlrs-NOUN'), 4146), (('loss-NOUN', 'net-ADJ'), 4009), (('pct-NOUN', 'the-DET'), 3776), (('dlrs-NOUN', 'dlrs-.'), 3580), (('loss-NOUN', 'mln-ADJ'), 3552), (('dlrs-NOUN', 'mln-NOUN'), 3475), (('mln-NOUN', 'dlrs-NOUN'), 3475), (('shr-NOUN', 'net-ADJ'), 3448), (('bank-NOUN', 'the-DET'), 3244), (('profit-NOUN', 'profit-NOUN'), 3080), (('dlrs-NOUN', 'and-CONJ'), 3010), (('year-NOUN', 'year-.'), 2997), (('profit-NOUN', 'loss-NOUN'), 2907), (('loss-NOUN', 'profit-NOUN'), 2907), (('market-NOUN', 'the-DET'), 2900), (('rev-NOUN', 'net-ADJ'), 2887)]\n",
      "1285767 surface co-occurrences\n"
     ]
    }
   ],
   "source": [
    "# calculating the surface co-occurrences\n",
    "\n",
    "surface_co = Counter()\n",
    "\n",
    "# use a generator to save space complexity\n",
    "def gen_span(i: int, sentence: list[str]):\n",
    "    \"\"\"\n",
    "    Generates a span of +/-5 around an index\n",
    "    \"\"\"\n",
    "    for j in range(max(i - 5, 0), i):\n",
    "        yield sentence[j]\n",
    "\n",
    "    for j in range(i + 1, min(i + 6, len(sentence))):\n",
    "        yield sentence[j]\n",
    "\n",
    "for sentence in reuters_le:\n",
    "    for i, word in enumerate(sentence):\n",
    "        if word.split('-')[-1] == \"NOUN\":\n",
    "            # we're only interested\n",
    "            # in target nouns apparently?\n",
    "            for context in gen_span(i, sentence):\n",
    "                surface_co[(word, context)] += 1\n",
    "\n",
    "print(\">>\", surface_co.most_common(20))\n",
    "print(f\"{len(surface_co)} surface co-occurrences\")"
   ]
  },
  {
   "cell_type": "code",
   "execution_count": 3,
   "metadata": {},
   "outputs": [
    {
     "data": {
      "image/png": "[encoded data removed]",
      "text/plain": [
       "<Figure size 640x480 with 1 Axes>"
      ]
     },
     "metadata": {},
     "output_type": "display_data"
    }
   ],
   "source": [
    "# visualise the frequency distribution\n",
    "\n",
    "x = np.arange(1, len(surface_co) + 1) # offset by 1\n",
    "y = np.array(sorted(surface_co.values(), reverse = True))\n",
    "\n",
    "plt.plot(x, y)\n",
    "plt.yscale(\"log\")\n",
    "plt.ylabel(\"Log of word frequency (descending)\")\n",
    "plt.show()"
   ]
  },
  {
   "cell_type": "code",
   "execution_count": 4,
   "metadata": {},
   "outputs": [
    {
     "name": "stdout",
     "output_type": "stream",
     "text": [
      "4650 filtered target items\n",
      "8056 filtered context items\n",
      "\n",
      "Contexts:\n",
      ">> [('say-VERB', 27038), ('mln-ADJ', 10500), ('dlrs-NOUN', 9935), ('pct-NOUN', 8501), ('year-NOUN', 8382), ('mln-NOUN', 8071), ('net-ADJ', 6024), ('share-NOUN', 5812), ('company-NOUN', 5535), ('loss-NOUN', 5531), ('bank-NOUN', 4669), ('not-ADV', 4389), ('price-NOUN', 4022), ('market-NOUN', 3623), ('oil-NOUN', 3453)]\n",
      "<< [('equatorial-NOUN', 6), ('witte-NOUN', 6), ('kadoorie-NOUN', 6), ('bamberger-NOUN', 6), ('messidor-NOUN', 6), ('tseng-NOUN', 6), ('xiamen-NOUN', 6), ('sugarman-NOUN', 6), ('barreto-NOUN', 6), ('tonka-NOUN', 6), ('mamman-NOUN', 6), ('hussein-NOUN', 6), ('dawkins-NOUN', 6), ('alitalia-NOUN', 6), ('gurria-NOUN', 6)]\n",
      "\n",
      "Targets:\n",
      ">> [('dlrs-NOUN', 9935), ('pct-NOUN', 8501), ('year-NOUN', 8382), ('mln-NOUN', 8071), ('share-NOUN', 5812), ('company-NOUN', 5535), ('loss-NOUN', 5531), ('bank-NOUN', 4669), ('price-NOUN', 4022), ('market-NOUN', 3623), ('oil-NOUN', 3453), ('profit-NOUN', 3421), ('sale-NOUN', 3281), ('rate-NOUN', 3197), ('stock-NOUN', 3169)]\n",
      "<< [('equatorial-NOUN', 6), ('witte-NOUN', 6), ('kadoorie-NOUN', 6), ('bamberger-NOUN', 6), ('messidor-NOUN', 6), ('tseng-NOUN', 6), ('xiamen-NOUN', 6), ('sugarman-NOUN', 6), ('barreto-NOUN', 6), ('tonka-NOUN', 6), ('mamman-NOUN', 6), ('hussein-NOUN', 6), ('dawkins-NOUN', 6), ('alitalia-NOUN', 6), ('gurria-NOUN', 6)]\n"
     ]
    }
   ],
   "source": [
    "# filtering out low frequency lemmas and auxiliary verbs\n",
    "\n",
    "reuters_freq = Counter(chain(*reuters_le)) # unpacks into a counter\n",
    "# print(len(reuters_freq))\n",
    "# print(list(reversed(reuters_freq.most_common()))[:10])\n",
    "\n",
    "filtered_freq = Counter()\n",
    "filtered_noun_freq = Counter()\n",
    "stop_verbs = {\"be\", \"have\", \"do\", \"would\", \"will\", \"could\"}\n",
    "\n",
    "for lemma, freq in reuters_freq.items():\n",
    "    word, pos = lemma.split('-')\n",
    "\n",
    "    if freq > 5 and word not in stop_verbs:\n",
    "        if pos in {\"NOUN\", \"VERB\", \"ADJ\", \"ADV\"}:\n",
    "            filtered_freq[lemma] = freq\n",
    "            \n",
    "            if pos == \"NOUN\":\n",
    "                filtered_noun_freq[lemma] = freq\n",
    "\n",
    "print(f\"{len(filtered_noun_freq)} filtered target items\")\n",
    "print(f\"{len(filtered_freq)} filtered context items\")\n",
    "\n",
    "print(\"\\nContexts:\")\n",
    "print(\">>\", filtered_freq.most_common(15))\n",
    "print(\"<<\", list(reversed(filtered_freq.most_common()))[:15])\n",
    "\n",
    "print(\"\\nTargets:\")\n",
    "print(\">>\", filtered_noun_freq.most_common(15))\n",
    "print(\"<<\", list(reversed(filtered_noun_freq.most_common()))[:15])"
   ]
  },
  {
   "cell_type": "code",
   "execution_count": 5,
   "metadata": {},
   "outputs": [
    {
     "name": "stdout",
     "output_type": "stream",
     "text": [
      "[(('loss-NOUN', 'loss-NOUN'), 8570), (('rev-NOUN', 'mln-ADJ'), 4221), (('dlrs-NOUN', 'dlrs-NOUN'), 4146), (('loss-NOUN', 'net-ADJ'), 4009), (('loss-NOUN', 'mln-ADJ'), 3552), (('dlrs-NOUN', 'mln-NOUN'), 3475), (('mln-NOUN', 'dlrs-NOUN'), 3475), (('shr-NOUN', 'net-ADJ'), 3448), (('profit-NOUN', 'profit-NOUN'), 3080), (('profit-NOUN', 'loss-NOUN'), 2907), (('loss-NOUN', 'profit-NOUN'), 2907), (('rev-NOUN', 'net-ADJ'), 2887), (('mln-NOUN', 'mln-NOUN'), 2878), (('profit-NOUN', 'mln-ADJ'), 2552), (('pct-NOUN', 'pct-NOUN'), 2528), (('profit-NOUN', 'net-ADJ'), 2523), (('share-NOUN', 'dlrs-NOUN'), 2417), (('dlrs-NOUN', 'share-NOUN'), 2417), (('dlrs-NOUN', 'mln-ADJ'), 2382), (('avg-NOUN', 'mln-ADJ'), 2344)]\n",
      "775024 surface co-occurrences after filtering\n"
     ]
    }
   ],
   "source": [
    "filtered_co = Counter()\n",
    "\n",
    "for co, freq in surface_co.items():\n",
    "    if co[0] in filtered_noun_freq and co[1] in filtered_freq:\n",
    "        filtered_co[co] = freq\n",
    "\n",
    "print(filtered_co.most_common(20))\n",
    "print(f\"{len(filtered_co)} surface co-occurrences after filtering\")"
   ]
  },
  {
   "cell_type": "markdown",
   "metadata": {},
   "source": [
    "<h3> EXPLANATION </h3>\n",
    "\n",
    "I followed the same preprocessing steps that were demonstrated in Notebook 4 for the most part. I decided early on to remove all lemmas of length 2 or less because the tokenizer produces many such short tokens, such as \"'s\" or \"v\".\n",
    "\n",
    "After lemmatising the Reuters corpus, I proceeded to calculate the surface co-occurrences of lemmas in the corpus, then filter out all auxiliary verbs and infrequent lemmas. A threshold of freq=5 was used for this, as the amount of words that occur less frequently than this overwhelms the dataset. A value higher than 5, however, would limit the dataset too much."
   ]
  },
  {
   "cell_type": "markdown",
   "metadata": {},
   "source": [
    "---"
   ]
  },
  {
   "cell_type": "markdown",
   "metadata": {},
   "source": [
    "# Vector representations (45 points)"
   ]
  },
  {
   "cell_type": "markdown",
   "metadata": {},
   "source": [
    "## Question 2 (15 points)\n",
    "\n",
    "Weight the counts in the space you created for the previous question by using the following association measures on both spaces:\n",
    "\n",
    "1. One **measure of your choice** among those available in the [nltk.BigramAssocMeasures](http://www.nltk.org/howto/metrics.html#association-measures) module.\n",
    "2. The **Positive Local Mutual Information** measure (as shown in class/lab).\n",
    "\n",
    "**Possible extra**\n",
    "\n",
    "3. Also use the **smoothed ppmi measure** proposed by [Levy et al. (2015)](http://www.aclweb.org/anthology/Q15-1016). Recall that the authors proposed to smooth the ppmi by raising the context counts to the power of $\\alpha$ (where $\\alpha= 0.75$ is reported to work well). That is, if $V_c$ is the vocabulary of all the contexts in a given space and $f(c)$ is the context frequency, they proposed the following association measure:"
   ]
  },
  {
   "cell_type": "markdown",
   "metadata": {},
   "source": [
    "$$PPMI_\\alpha (w,c) = max \\left(0, \\ log_2 \\left(\\frac{p(w,c)}{p(w) \\cdot p_\\alpha(c)}\\right)  \\right) $$"
   ]
  },
  {
   "cell_type": "markdown",
   "metadata": {},
   "source": [
    "$$where: \\ \\ p_\\alpha(c) = \\frac{f(c)^\\alpha}{\\sum_{c' \\in V_c} f(c')^\\alpha}$$"
   ]
  },
  {
   "cell_type": "code",
   "execution_count": 6,
   "metadata": {},
   "outputs": [],
   "source": [
    "# your code here\n",
    "\n",
    "# defining the measures chi_sq, plmi, and smoothed ppmi\n",
    "\n",
    "from nltk.metrics.association import BigramAssocMeasures as BAM\n",
    "from math import log\n",
    "\n",
    "def chi_sq(f12: int, f1x: int, fx2: int, fxx: int) -> float:\n",
    "    \"\"\"\n",
    "    Computes the chi-squared score from target-context frequencies\n",
    "    \"\"\"\n",
    "    # unconventional parameter names but\n",
    "    # helps me understand better\n",
    "    return round(BAM.chi_sq(f12, (f1x, fx2), fxx), 3)\n",
    "\n",
    "def plmi(f12: int, f1x: int, fx2: int, fxx: int) -> float:\n",
    "    \"\"\"\n",
    "    Computes PLMI from target-context frequencies\n",
    "    \"\"\"\n",
    "    # return f12 * bam.pmi(f12, (f1x, fx2), fxx)\n",
    "    \n",
    "    f12_exp = (f1x * fx2) / fxx\n",
    "    plmi = f12 * max(0, log(f12 / f12_exp, 2))\n",
    "\n",
    "    return round(plmi, 3)\n",
    "\n",
    "def smoothed_ppmi(f12: int, f1x: int, fx2: int, alpha_sum: float, alpha = 0.75) -> float:\n",
    "    \"\"\"\n",
    "    Computes smoothed PPMI from target-context frequencies\n",
    "    \"\"\"\n",
    "    fx2_alpha = (fx2 ** alpha) / alpha_sum\n",
    "    # print(\"done here\")\n",
    "    smoothed_ppmi = max(0, log(f12 / (f1x * fx2_alpha), 2))\n",
    "\n",
    "    return round(smoothed_ppmi, 3)"
   ]
  },
  {
   "cell_type": "code",
   "execution_count": 7,
   "metadata": {},
   "outputs": [
    {
     "name": "stdout",
     "output_type": "stream",
     "text": [
      "Chi-squared scores:\n",
      ">> [(('arabica-NOUN', 'cherry-VERB'), 18658123.25), (('robusta-NOUN', 'robusta-NOUN'), 10174752.0), (('loss-NOUN', 'loss-NOUN'), 9551388.233), (('robusta-NOUN', 'cherry-VERB'), 9538826.4), (('ovr-NOUN', 'unc-VERB'), 8723277.727), (('nil-NOUN', 'nil-ADJ'), 7658133.817), (('und-NOUN', 'unc-VERB'), 7246460.859), (('arabica-NOUN', 'arabica-NOUN'), 7065792.0), (('distillery-NOUN', 'corby-ADJ'), 6056392.381), (('ovr-NOUN', 'ovr-NOUN'), 5191192.49)]\n",
      "<< [(('price-NOUN', 'credit-NOUN'), 0.0), (('credit-NOUN', 'price-NOUN'), 0.0), (('coffee-NOUN', 'net-ADJ'), 0.0), (('rev-NOUN', 'other-ADJ'), 0.0), (('year-NOUN', 'committee-NOUN'), 0.0), (('committee-NOUN', 'year-NOUN'), 0.0), (('loss-NOUN', 'proposal-NOUN'), 0.0), (('proposal-NOUN', 'loss-NOUN'), 0.0), (('output-NOUN', 'share-NOUN'), 0.0), (('share-NOUN', 'output-NOUN'), 0.0)]\n",
      "\n",
      "PLMI scores:\n",
      ">> [(('loss-NOUN', 'loss-NOUN'), 86735.033), (('rev-NOUN', 'mln-ADJ'), 39623.51), (('loss-NOUN', 'net-ADJ'), 35686.273), (('shr-NOUN', 'net-ADJ'), 33600.97), (('profit-NOUN', 'profit-NOUN'), 30894.413), (('dlrs-NOUN', 'dlrs-NOUN'), 30610.912), (('loss-NOUN', 'mln-ADJ'), 28150.784), (('rev-NOUN', 'net-ADJ'), 27833.032), (('profit-NOUN', 'loss-NOUN'), 26901.762), (('loss-NOUN', 'profit-NOUN'), 26901.762)]\n",
      "<< [(('talk-NOUN', 'net-ADJ'), 0), (('budget-NOUN', 'mln-ADJ'), 0), (('note-NOUN', 'tonne-NOUN'), 0), (('tonne-NOUN', 'note-NOUN'), 0), (('coffee-NOUN', 'net-ADJ'), 0), (('loss-NOUN', 'west-ADJ'), 0), (('fall-NOUN', 'mln-ADJ'), 0), (('agreement-NOUN', 'rise-VERB'), 0), (('move-NOUN', 'mln-ADJ'), 0), (('loss-NOUN', 'money-NOUN'), 0)]\n",
      "\n",
      "SPPMI scores:\n",
      ">> [(('arabica-NOUN', 'cherry-VERB'), 17.298), (('arabica-NOUN', 'arabica-NOUN'), 16.597), (('robusta-NOUN', 'cherry-VERB'), 16.445), (('ovr-NOUN', 'unc-VERB'), 16.419), (('distillery-NOUN', 'corby-ADJ'), 16.375), (('robusta-NOUN', 'robusta-NOUN'), 16.308), (('ovr-NOUN', 'ovr-NOUN'), 16.208), (('hambrecht-NOUN', 'hambrecht-NOUN'), 16.182), (('kohlberg-NOUN', 'kravis-NOUN'), 16.015), (('kravis-NOUN', 'kohlberg-NOUN'), 16.015)]\n",
      "<< [(('loss-NOUN', 'think-VERB'), 0), (('loss-NOUN', 'ask-VERB'), 0), (('loss-NOUN', 'where-ADV'), 0), (('quarter-NOUN', 'policy-NOUN'), 0), (('share-NOUN', 'base-NOUN'), 0), (('pct-NOUN', 'resolve-VERB'), 0), (('mln-NOUN', 'worker-NOUN'), 0), (('mln-NOUN', 'bonus-NOUN'), 0), (('dlrs-NOUN', 'talk-VERB'), 0), (('share-NOUN', 'shipment-NOUN'), 0)]\n"
     ]
    }
   ],
   "source": [
    "# applying these measures over the distributional space\n",
    "\n",
    "N = sum(surface_co.values())\n",
    "# print(N)\n",
    "chisq_co = Counter()\n",
    "plmi_co = Counter()\n",
    "sppmi_co = Counter()\n",
    "\n",
    "alpha = 0.75\n",
    "alpha_sum = sum([freq ** alpha for freq in reuters_freq.values()])\n",
    "\n",
    "for word, freq in filtered_co.items():\n",
    "    chisq_co[word] = chi_sq(freq, reuters_freq[word[0]], reuters_freq[word[1]], N)\n",
    "    plmi_co[word] = plmi(freq, reuters_freq[word[0]], reuters_freq[word[1]], N)\n",
    "    sppmi_co[word] = smoothed_ppmi(freq, reuters_freq[word[0]], reuters_freq[word[1]], alpha_sum, alpha)\n",
    "\n",
    "print(\"Chi-squared scores:\")\n",
    "print(\">>\", chisq_co.most_common(10))\n",
    "print(\"<<\", list(reversed(chisq_co.most_common()))[:10])\n",
    "\n",
    "print(\"\\nPLMI scores:\")\n",
    "print(\">>\", plmi_co.most_common(10))\n",
    "print(\"<<\", list(reversed(plmi_co.most_common()))[:10])\n",
    "\n",
    "print(\"\\nSPPMI scores:\")\n",
    "print(\">>\", sppmi_co.most_common(10))\n",
    "print(\"<<\", list(reversed(sppmi_co.most_common()))[:10])"
   ]
  },
  {
   "cell_type": "code",
   "execution_count": 8,
   "metadata": {},
   "outputs": [],
   "source": [
    "# creating and populating matrices based on our weighted co-occurrence spaces\n",
    "\n",
    "sorted_target_freq = sorted(filtered_noun_freq)\n",
    "# rows: target nouns\n",
    "target_indices = {\n",
    "    lemma: index\n",
    "    for index, lemma in enumerate(sorted(filtered_noun_freq))\n",
    "}\n",
    "# columns: context words\n",
    "context_indices = {\n",
    "    lemma: index\n",
    "    for index, lemma in enumerate(filtered_freq)\n",
    "}\n",
    "\n",
    "surface_co_mat = np.zeros((len(target_indices), len(context_indices)))\n",
    "chisq_mat = np.zeros((len(target_indices), len(context_indices)))\n",
    "plmi_mat = np.zeros((len(target_indices), len(context_indices)))\n",
    "sppmi_mat = np.zeros((len(target_indices), len(context_indices)))\n",
    "\n",
    "for (target, context), weight in filtered_co.items():\n",
    "    surface_co_mat[target_indices[target]][context_indices[context]] = weight\n",
    "\n",
    "for (target, context), weight in chisq_co.items():\n",
    "    chisq_mat[target_indices[target]][context_indices[context]] = weight\n",
    "\n",
    "for (target, context), weight in plmi_co.items():\n",
    "    plmi_mat[target_indices[target]][context_indices[context]] = weight\n",
    "\n",
    "for (target, context), weight in sppmi_co.items():\n",
    "    sppmi_mat[target_indices[target]][context_indices[context]] = weight"
   ]
  },
  {
   "cell_type": "markdown",
   "metadata": {},
   "source": [
    "<h3> EXPLANATION </h3>\n",
    "\n",
    "For this question, I applied three different measures over the surface co-occurrences to create my distributional spaces, in addition to one based solely on the surface co-occurrences (the extra from the previous question).\n",
    "\n",
    "From the Bigram Association Measures module, I imported the chi-squared measure to test for independence between target and context items. Then, I implemented the Pointwise Local Mutual Information and Smoothed Positive Pointwise Mutual Information scores, using the suggested value of alpha=0.75 for the latter. In calculating these measures, I took the frequencies over the original, unfiltered corpus in order to better capture the original distribution, even if we're not interested in most of the words within.\n",
    "\n",
    "Finally, I populate matrices created from these measures in order to build our distributional spaces."
   ]
  },
  {
   "cell_type": "markdown",
   "metadata": {},
   "source": [
    "## Question 3 (15 points)\n",
    "\n",
    "Up to this point, you should have created 2 different distributional spaces (4 if you did the extras).\n",
    "\n",
    "Use **Singular Value Decomposition** to reduce their dimensionality retaining only the first 100 dimensions. For this question, you can either re-use the SVD code from the lab, or import the SVD functions from external libraries such as [sklearn](https://scikit-learn.org/stable/modules/generated/sklearn.decomposition.TruncatedSVD.html) or [scipy](https://docs.scipy.org/doc/scipy/reference/generated/scipy.linalg.svd.html).\n",
    "\n",
    "**Possible extra**\n",
    "\n",
    "Find the 'optimal' number of dimensions to retain using the approach shown in the lab. Use a model with this dimensionality instead of 100."
   ]
  },
  {
   "cell_type": "code",
   "execution_count": 9,
   "metadata": {
    "tags": []
   },
   "outputs": [],
   "source": [
    "# your code here\n",
    "\n",
    "from sklearn.decomposition import TruncatedSVD as TSVD\n",
    "from sklearn.metrics.pairwise import cosine_similarity\n",
    "\n",
    "surface_co_tsvd100 = TSVD(n_components = 100, algorithm = \"arpack\")\n",
    "surface_co_tsvd100_mat = surface_co_tsvd100.fit_transform(surface_co_mat)\n",
    "\n",
    "chisq_tsvd100 = TSVD(n_components = 100, algorithm = \"arpack\")\n",
    "chisq_tsvd100_mat = chisq_tsvd100.fit_transform(chisq_mat)\n",
    "\n",
    "plmi_tsvd100 = TSVD(n_components = 100, algorithm = \"arpack\")\n",
    "plmi_tsvd100_mat = plmi_tsvd100.fit_transform(plmi_mat)\n",
    "\n",
    "sppmi_tsvd100 = TSVD(n_components = 100, algorithm = \"arpack\")\n",
    "sppmi_tsvd100_mat = sppmi_tsvd100.fit_transform(sppmi_mat)"
   ]
  },
  {
   "cell_type": "code",
   "execution_count": 10,
   "metadata": {},
   "outputs": [
    {
     "data": {
      "image/png": "[encoded data removed]",
      "text/plain": [
       "<Figure size 640x480 with 4 Axes>"
      ]
     },
     "metadata": {},
     "output_type": "display_data"
    }
   ],
   "source": [
    "# finding optimal number of dimensions\n",
    "\n",
    "measure_to_svd = {\"Co-occurrences TSVD100\" : surface_co_tsvd100,\n",
    "                  \"Chi-squared TSVD100\" : chisq_tsvd100,\n",
    "                 \"PLMI TSVD100\" : plmi_tsvd100,\n",
    "                 \"Smoothed PPMI TSVD100\" : sppmi_tsvd100}\n",
    "\n",
    "fig, axes = plt.subplots(2, 2)\n",
    "\n",
    "for i, (measure, svd) in enumerate(measure_to_svd.items()):\n",
    "    S_sq = svd.singular_values_ ** 2\n",
    "    explained_var = (S_sq / sum(S_sq)) * 100\n",
    "    y = explained_var[:20]\n",
    "    x = np.arange(len(y))\n",
    "\n",
    "    axes[i // 2][i % 2].plot(x, y, ls = '-')\n",
    "    axes[i // 2][i % 2].set_title(measure)\n",
    "\n",
    "fig.suptitle(\"Relative variance (%) to singular values\")\n",
    "fig.tight_layout()\n",
    "plt.show()"
   ]
  },
  {
   "cell_type": "code",
   "execution_count": 11,
   "metadata": {},
   "outputs": [],
   "source": [
    "# using new values for dimensions based on\n",
    "# the inflection points in scree plot\n",
    "\n",
    "surface_co_tsvdopt_mat = TSVD(n_components = 5, algorithm = \"arpack\").fit_transform(surface_co_mat)\n",
    "chisq_tsvdopt_mat = TSVD(n_components = 7, algorithm = \"arpack\").fit_transform(chisq_mat)\n",
    "plmi_tsvdopt_mat = TSVD(n_components = 5, algorithm = \"arpack\").fit_transform(plmi_mat)\n",
    "sppmi_tsvdopt_mat = TSVD(n_components = 2, algorithm = \"arpack\").fit_transform(sppmi_mat)"
   ]
  },
  {
   "cell_type": "markdown",
   "metadata": {},
   "source": [
    "<h3> EXPLANATION </h3>\n",
    "\n",
    "In order to reduce the dimensionality of our original distributional spaces, I used scikit-learn's built-in Truncated SVD function to first reduce the dimensions of these matrices to 100. Instead of directly applying TSVD().fit_transform() in one line, I split these two steps into two lines in order to extract the singular values from these models later.\n",
    "\n",
    "By plotting these singular values against explained variance in a scree plot, we can gain insight into how \"relevant\" each new component is. Based on the inflection points in these plots, I then trained optimised versions of these models with much fewer components, ranging from 2 to 7."
   ]
  },
  {
   "cell_type": "markdown",
   "metadata": {},
   "source": [
    "## Question 4 (15 points)\n",
    "\n",
    "Train a Word2Vec model on the same corpus, for example using [gensim](https://radimrehurek.com/gensim). Make sure to motivate the choice of your hyperparameters.\n",
    "\n",
    "**Possible extra**\n",
    "\n",
    "*Hyperparameter tuning* is the process of finding the optimal hyperparameters in a machine learning task for a given task and data set. Try performing some kind of hyperparameter tuning on your Word2Vec model. Hint: Do this after question 5, so that you'll have a way to know what hyperparameter combination is best."
   ]
  },
  {
   "cell_type": "code",
   "execution_count": 12,
   "metadata": {},
   "outputs": [],
   "source": [
    "# your code here\n",
    "\n",
    "from gensim.models import Word2Vec\n",
    "\n",
    "params = {\n",
    "    'vector_size': 20, # dimensions\n",
    "    'window': 5,\n",
    "    'epochs': 5,\n",
    "    'min_count': 5, # same as surface co-occurrences\n",
    "    'sg': 0, # not the skip-gram (1), use CBOW (0)\n",
    "    'negative': 5,\n",
    "    'workers': 4, # how many cores to use\n",
    "    'alpha': 0.05 # learning rate\n",
    "}\n",
    "\n",
    "reuters_word2vec = []\n",
    "for sentence in reuters_le:\n",
    "    reuters_word2vec.append([\n",
    "        token.split('-')[0]\n",
    "        for token in sentence\n",
    "        if token in filtered_freq\n",
    "    ])\n",
    "\n",
    "cbow_model = Word2Vec(sentences = reuters_word2vec, **params)"
   ]
  },
  {
   "cell_type": "markdown",
   "metadata": {},
   "source": [
    "<h3> EXPLANATION </h3>\n",
    "\n",
    "The Word2Vec model is imported from the GenSim library and trained on an untagged version of the Reuters corpus. Most of the hyperparameters were chosen based on gut feeling. I decided to use 20 dimensions as a compromise between 100 dimensions, which would be too sparse, and the greatly reduced values used after optimisation. The value `min-count` was set to 5 in order to match the threshold I used earlier to filter out surface co-occurrences."
   ]
  },
  {
   "cell_type": "markdown",
   "metadata": {},
   "source": [
    "---"
   ]
  },
  {
   "cell_type": "markdown",
   "metadata": {},
   "source": [
    "# Evaluating on semantic similarity (17 points)"
   ]
  },
  {
   "cell_type": "markdown",
   "metadata": {},
   "source": [
    "## Question 5 (17 points)\n",
    "\n",
    "Evaluate the performance of your models on a **semantic similarity task**. Using `SimLex-999` as gold standard. Evaluate all of your models on the dataset in `data/SimLex-999.txt`, and determine the best performing model. Note: There should be 5 to 8 model evaluations in total. 5 if you did not do any extra (2 from Q2 + 2 from Q3 + 1 from Q4), and 8 if you did them all (1 from Q1, 3 from Q2 + 3 from Q3 + 2 from Q4).\n",
    "\n",
    "1. Your evaluation should follow the approach shown in lab 4 (Section 1.6: \"Evaluating your Model\"), using a **correlation measure** on model predictions and the (human) gold standard. \n",
    "2. Remember to **visualize** your results (e.g., as bar plots).\n",
    "3. Take note (and report) the overlap between your models and the SimLex-999 dataset, i.e., how many pairs are shared by your model and the evaluation dataset.\n",
    "4. Make sure to discuss your results and provide your reasoning on them.\n",
    "\n",
    "### Remarks\n",
    "\n",
    "- The 'SimLex-999' dataset is described in `data/SimLex-999.README.txt`, and [the author's github page](https://fh295.github.io/simlex.html). Hint: the relevant judgements are those in the `SimLex999` column.\n",
    "- To directly compare the models against the gold standard, you will have to find the *overlap* between them, i.e. the pairs that occur in your model *and* the evaluation dataset."
   ]
  },
  {
   "cell_type": "code",
   "execution_count": 13,
   "metadata": {},
   "outputs": [],
   "source": [
    "from scipy.stats import spearmanr as spearmanr\n",
    "\n",
    "# defining the similarity matrices\n",
    "\n",
    "surface_co_simmat100 = cosine_similarity(surface_co_tsvd100_mat)\n",
    "chisq_simmat100 = cosine_similarity(chisq_tsvd100_mat)\n",
    "plmi_simmat100 = cosine_similarity(plmi_tsvd100_mat)\n",
    "sppmi_simmat100 = cosine_similarity(sppmi_tsvd100_mat)\n",
    "\n",
    "surface_co_simmat_opt = cosine_similarity(surface_co_tsvdopt_mat)\n",
    "chisq_simmat_opt = cosine_similarity(chisq_tsvdopt_mat)\n",
    "plmi_simmat_opt = cosine_similarity(plmi_tsvdopt_mat)\n",
    "sppmi_simmat_opt = cosine_similarity(sppmi_tsvdopt_mat)"
   ]
  },
  {
   "cell_type": "code",
   "execution_count": 14,
   "metadata": {},
   "outputs": [
    {
     "name": "stdout",
     "output_type": "stream",
     "text": [
      "Found 43 words in the overlap\n"
     ]
    }
   ],
   "source": [
    "# filter out only pairs found in the Reuters corpus\n",
    "\n",
    "pairs_untagged = {\n",
    "    (item[0].split('-')[0], item[1].split('-')[0])\n",
    "    for item in filtered_co\n",
    "}\n",
    "\n",
    "standard_scores = []\n",
    "measure_scores = {\n",
    "    \"Co-occurrences TSVD100\": (surface_co_simmat100, []),\n",
    "    \"Co-occurrences TSVD5\": (surface_co_simmat_opt, []),\n",
    "    \"Chi-squared TSVD100\": (chisq_simmat100, []),\n",
    "    \"Chi-squared TSVD7\": (chisq_simmat_opt, []),\n",
    "    \"PLMI TSVD100\": (plmi_simmat100, []),\n",
    "    \"PLMI TSVD5\": (plmi_simmat_opt, []),\n",
    "    \"Smoothed PPMI TSVD100 \": (sppmi_simmat100, []),\n",
    "    \"Smoothed PPMI TSVD2\": (sppmi_simmat_opt, []),\n",
    "}\n",
    "word2vec_scores = []\n",
    "measure_rhos = {k: 0 for k in measure_scores.keys()}\n",
    "\n",
    "with open(\"data/SimLex-999.txt\", 'r') as f:\n",
    "    next(f) # skip header\n",
    "\n",
    "    for n, line in enumerate(f.read().split(\"\\n\")):\n",
    "        # enumerate can also be applied to generators like read!\n",
    "\n",
    "        items = line.split(\"\\t\")\n",
    "\n",
    "        if len(items) > 3:\n",
    "            target, context = items[0], items[1]\n",
    "            # we look at SimLex999 scores in the fourth column\n",
    "            # and normalise by dividing by 10 (max)\n",
    "            score = round(float(items[3]) / 10, 3)\n",
    "\n",
    "            if (target, context) in pairs_untagged:\n",
    "                target_tagged = f\"{target}-NOUN\"\n",
    "                # context might not be a noun, so use nltk\n",
    "                context_tagged = '-'.join(\n",
    "                    pos_tag([context], tagset = \"universal\")[0]\n",
    "                )\n",
    "                # print(target_tagged, context_tagged)\n",
    "\n",
    "                target_id = target_indices[target_tagged]\n",
    "                context_id = context_indices[context_tagged]\n",
    "\n",
    "                in_flag = True # do we have a score?\n",
    "\n",
    "                for measure in measure_scores.values():\n",
    "                    try:\n",
    "                        measure[1].append(round(measure[0][target_id, context_id], 3))\n",
    "                    except:\n",
    "                        in_flag = False\n",
    "                        break\n",
    "\n",
    "                if in_flag:\n",
    "                    # these always have scores\n",
    "                    standard_scores.append(score)\n",
    "                    word2vec_scores.append(round(cbow_model.wv.similarity(target, context), 3))\n",
    "\n",
    "print(f\"Found {len(standard_scores)} words in the overlap\")"
   ]
  },
  {
   "cell_type": "code",
   "execution_count": 15,
   "metadata": {},
   "outputs": [
    {
     "name": "stdout",
     "output_type": "stream",
     "text": [
      "Co-occurrences TSVD100-based space vs. SimLex-999 - Spearman's correlation\n",
      "0.40732628863517\n",
      "Co-occurrences TSVD5-based space vs. SimLex-999 - Spearman's correlation\n",
      "0.2938066498777696\n",
      "Chi-squared TSVD100-based space vs. SimLex-999 - Spearman's correlation\n",
      "0.2642015410182807\n",
      "Chi-squared TSVD7-based space vs. SimLex-999 - Spearman's correlation\n",
      "0.21736339649573164\n",
      "PLMI TSVD100-based space vs. SimLex-999 - Spearman's correlation\n",
      "0.408519323017864\n",
      "PLMI TSVD5-based space vs. SimLex-999 - Spearman's correlation\n",
      "0.3385457981640676\n",
      "Smoothed PPMI TSVD100 -based space vs. SimLex-999 - Spearman's correlation\n",
      "0.08285498583956638\n",
      "Smoothed PPMI TSVD2-based space vs. SimLex-999 - Spearman's correlation\n",
      "0.34780310257019215\n",
      "Word2Vec-based space vs. SimLex-999 - Spearman's correlation\n",
      "0.15799411326144935\n"
     ]
    },
    {
     "data": {
      "image/png": "[encoded data removed]",
      "text/plain": [
       "<Figure size 640x480 with 1 Axes>"
      ]
     },
     "metadata": {},
     "output_type": "display_data"
    }
   ],
   "source": [
    "rhos = []\n",
    "\n",
    "measure_scores[\"Word2Vec\"] = (None, word2vec_scores)\n",
    "for label, measure in measure_scores.items():\n",
    "    print(f\"{label}-based space vs. SimLex-999 - Spearman's correlation\")\n",
    "\n",
    "    rho = spearmanr(standard_scores, measure[1])[0]\n",
    "    print(rho)\n",
    "    rhos.append(rho)\n",
    "\n",
    "colours = [\"red\", \"orangered\", \"indigo\", \"mediumpurple\",\n",
    "           \"green\", \"seagreen\", \"teal\", \"turquoise\", \"gold\"]\n",
    "\n",
    "plt.bar(range(len(rhos)), rhos, color = colours)\n",
    "plt.xticks(range(len(rhos)), measure_scores.keys(), size = 'small', rotation = 'vertical')\n",
    "plt.show()"
   ]
  },
  {
   "cell_type": "markdown",
   "metadata": {},
   "source": [
    "<h3> EXPLANATION </h3>\n",
    "\n",
    "To evaluate the range of models we've created, I first defined the cosine similarity matrices for each of them except for the Word2Vec model. Then, in order to work with the SimLex-999 data, I had to first define a list of untagged surface co-occurrences to match the ones contained in the SimLex-999 file. Then, whenever there was a match between pairs contained by SimLex-999 and our own surface co-occurrences, I would append the score for said pair from each of our measures if our measures did in fact have a score for it, and ignored it otherwise.\n",
    "\n",
    "I found only 43 words in the union between the two datasets, which initially surprised me. However, taking a closer look at each corpus revealed that unions between the two were unlikely to begin with. This is because SimLex-999, on the one hand, mostly contains semantically related words, such as synonyms, which might not naturally co-occur in the same short context window; the Reuters corpus, on the other hand, contains only words from a restricted lexical field of news reporting and is not as general as SimLex-999.\n",
    "\n",
    "Finally, I used Spearman's rank correlation to test if the scores of our measures were correlated with the SimLex-999 standard scoring. As the figure above displays, it seems like the co-occurences and PLMI measures with 100 dimensions performed the best, while the smoothed PPMI with 100 dimensions performed the worst. All \"optimised\" models seemed to perform slightly worse than their counterparts with 100 dimensions, with the notable exception of the smoothed PPMI measure with only 2 dimensions. In general, all the rho values fell between 0.05 and 0.45, suggesting not a very strong correlation. However, this could also be a bias with the correlation metric itself, as it only measures for a monotonic relationship between variables. If a different correlation test were used, such as Pearson's linear rank, then the results could look different."
   ]
  },
  {
   "cell_type": "markdown",
   "metadata": {},
   "source": [
    "---"
   ]
  }
 ],
 "metadata": {
  "kernelspec": {
   "display_name": "Python 3 (ipykernel)",
   "language": "python",
   "name": "python3"
  },
  "language_info": {
   "codemirror_mode": {
    "name": "ipython",
    "version": 3
   },
   "file_extension": ".py",
   "mimetype": "text/x-python",
   "name": "python",
   "nbconvert_exporter": "python",
   "pygments_lexer": "ipython3",
   "version": "3.11.7"
  },
  "toc": {
   "base_numbering": 1,
   "nav_menu": {},
   "number_sections": true,
   "sideBar": true,
   "skip_h1_title": false,
   "title_cell": "Table of Contents",
   "title_sidebar": "Contents",
   "toc_cell": false,
   "toc_position": {},
   "toc_section_display": true,
   "toc_window_display": true
  }
 },
 "nbformat": 4,
 "nbformat_minor": 4
}
