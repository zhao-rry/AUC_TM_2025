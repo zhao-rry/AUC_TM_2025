{
 "cells": [
  {
   "cell_type": "markdown",
   "metadata": {
    "id": "AQzYGMVl4-1n"
   },
   "source": [
    "# Assignment 3"
   ]
  },
  {
   "cell_type": "markdown",
   "metadata": {
    "id": "Dloey_mk4-1q"
   },
   "source": [
    "## Guidelines\n",
    "\n",
    "> Remember that this is a code notebook - add an explanation of what you do using text boxes and markdown, and comment your code. Answers without explanations may get less points.\n",
    ">\n",
    "> If you re-use a substantial portion of code you find online, e.g on Stackoverflow, you need to add a link to it and make the borrowing explicit. The same applies of you take it and modify it, even substantially. There is nothing bad in doing that, providing you are acknowledging it and make it clear you know what you're doing.\n",
    ">\n",
    "> The **Generative AI policy** from the syllabus for the programming assignments applies. Generative AI can be used as a source of information in these assignments if properly referenced. You can use generative AI assistance for writing code, but you must reference the chat used as a source, just as if you would take from StackOverflow. In ChatGPT, you can make an URL to the information you obtained by clicking the \"Share link to Chat\" button and then \"Copy Link\". This allows you to cite the source of the information you use in your answer or code solution. Of course, as you know, GenAI tools are not always a reliable source and its answers are intransparantly drawn from other sources - it is recommended to cross-check its output with other sources or your own understanding of the topic.\n",
    "> \n",
    "> For the explanations of what you do that you provide with each question, as well as for (sub)questions that ask about things like motivation of choices or your opinion, the answer to this must be conceptualized and written by yourself and not copied from a generative AI source.\n",
    ">\n",
    "> Make sure your notebooks have been run when you submit, as I won't run them myself. Submit both the `.ipynb` file along with an `.html` export of the same. Submit all necessary auxilliary files as well. Please compress your submission into a `.zip` archive. Only `.zip` files can be submitted.\n",
    "> If you are using Google Colab, here is a tutorial for obtaining an HTML export: https://stackoverflow.com/questions/53460051/convert-ipynb-notebook-to-html-in-google-colab .\n",
    ">\n",
    "> With Jupyter, you can simply export it as HTML through the File menu."
   ]
  },
  {
   "cell_type": "markdown",
   "metadata": {
    "id": "zfy-TozC4-1s"
   },
   "source": [
    "## Grading policy\n",
    "> As follows:\n",
    ">\n",
    "> * 80 points for correctly completing the assignment.\n",
    ">\n",
    "> * 20 points for appropriately writing and organizing your code in terms of structure, readibility (also by humans), comments and minimal documentation. It is important to be concise but also to explain what you did and why, when not obvious. Feel free to re-use functions and variables from previous questions if that helps for structure and readability - you do not need to repeat previous steps for each question.\n",
    "> \n",
    "> Note that there are no extras for this assignment, as all 100 points are accrued via questions and question 6 has 10 'advanced' points to get.\n",
    "\n",
    "**The AUC code of conduct applies to this assignment: please only submit your own work and follow the instructions on referencing external sources above.**"
   ]
  },
  {
   "cell_type": "markdown",
   "metadata": {
    "id": "qRnI9EF74-1t"
   },
   "source": [
    "---"
   ]
  },
  {
   "cell_type": "markdown",
   "metadata": {
    "id": "MmAFtiS14-1u"
   },
   "source": [
    "# Introduction\n",
    "\n",
    "In this assignment, you will build and compare classifiers for measuring the **sentiment of tweets related to COVID-19** from the early days of the first outbreak.\n",
    "\n",
    "The dataset you will work with is [publicly available in Kaggle](https://www.kaggle.com/datatattle/covid-19-nlp-text-classification) (and attached to the assignment for your convenience). Make sure to check its minimal Kaggle documentation before starting.\n",
    "\n",
    "This is a real dataset, and therefore messy. It is possible that you won't achieve great results on the classification task with your classifier. That is normal, don't worry about it! You also may find text encoding issues with this dataset. Try to find a simple solution to this problem, I don't think there is an easy way to fix it completely for these files.\n",
    "\n",
    "*Please note: this dataset should not but might contain content which could be considered as offensive.*"
   ]
  },
  {
   "cell_type": "markdown",
   "metadata": {
    "id": "Rv4avAae4-1v"
   },
   "source": [
    "---"
   ]
  },
  {
   "cell_type": "markdown",
   "metadata": {
    "id": "TTwyDa3M4-1v"
   },
   "source": [
    "# Skeleton pipeline (20 points)"
   ]
  },
  {
   "cell_type": "markdown",
   "metadata": {
    "id": "nXgFtpSY4-1x"
   },
   "source": [
    "## Question 1 (8 points)\n",
    "\n",
    "Your dataset contains tweets, including handlers, hashtags, URLs, etc. Set-up a **minimal pre-processing pipeline** for them (focus on the `OriginalTweet` column), possibly including:\n",
    "\n",
    "* Tokenization\n",
    "* Filtering\n",
    "* Lemmatization/Stemming\n",
    "\n",
    "Please note that what to include is up to you, motivate your choices and remember that more is not necessarily better: if you are not sure why you are doing something, it might be better not to. Feel free to use NLTK, spaCy or anything else you like here."
   ]
  },
  {
   "cell_type": "markdown",
   "metadata": {
    "id": "jcGyC86g4-13"
   },
   "source": [
    "*Note: we only really use the `OriginalTweet` and `Sentiment` columns for this assignment.*"
   ]
  },
  {
   "cell_type": "code",
   "execution_count": 1,
   "metadata": {
    "id": "AbGfZgBN4-14"
   },
   "outputs": [
    {
     "name": "stdout",
     "output_type": "stream",
     "text": [
      "                                       OriginalTweet           Sentiment\n",
      "0  @MeNyrbie @Phil_Gahan @Chrisitv https://t.co/i...             Neutral\n",
      "1  advice Talk to your neighbours family to excha...            Positive\n",
      "2  Coronavirus Australia: Woolworths to give elde...            Positive\n",
      "3  My food stock is not the only one which is emp...            Positive\n",
      "4  Me, ready to go at supermarket during the #COV...  Extremely Negative\n",
      "<class 'pandas.core.frame.DataFrame'>\n",
      "RangeIndex: 41157 entries, 0 to 41156\n",
      "Data columns (total 2 columns):\n",
      " #   Column         Non-Null Count  Dtype \n",
      "---  ------         --------------  ----- \n",
      " 0   OriginalTweet  41157 non-null  object\n",
      " 1   Sentiment      41157 non-null  object\n",
      "dtypes: object(2)\n",
      "memory usage: 643.2+ KB\n",
      "None\n"
     ]
    }
   ],
   "source": [
    "# your code here\n",
    "\n",
    "import numpy as np\n",
    "import pandas as pd\n",
    "from pathlib import Path\n",
    "\n",
    "DATA_PATH = Path.cwd() / \"data/Corona_NLP_train.csv\"\n",
    "\n",
    "# the file is not UTF-8 encoded, so change encoding\n",
    "df_data = pd.read_csv(DATA_PATH, encoding = \"latin1\")\n",
    "df_data = df_data[[\"OriginalTweet\", \"Sentiment\"]]\n",
    "print(df_data.head())\n",
    "print(df_data.info())"
   ]
  },
  {
   "cell_type": "code",
   "execution_count": 2,
   "metadata": {},
   "outputs": [
    {
     "name": "stdout",
     "output_type": "stream",
     "text": [
      "                                       OriginalTweet           Sentiment\n",
      "0  menyrbie philgahan chrisitv httpstcoifzfan and...             Neutral\n",
      "1  advice talk your neighbours family exchange ph...            Positive\n",
      "2  coronavirus australia woolworths give elderly ...            Positive\n",
      "3  food stock not the only one which empty   plea...            Positive\n",
      "4  ready supermarket during the covid outbreak  n...  Extremely Negative\n"
     ]
    }
   ],
   "source": [
    "import spacy\n",
    "\n",
    "nlp = spacy.load(\"en_core_web_sm\",\n",
    "                exclude=[\"tok2vec\", \"parser\", \"ner\"])\n",
    "\n",
    "texts = df_data[\"OriginalTweet\"]\n",
    "\n",
    "def doc_to_string(doc) -> str:\n",
    "    \"\"\"\n",
    "    Reformats strings returned by the SpaCy pipeline\n",
    "    \"\"\"\n",
    "    \n",
    "    s = \"\"\n",
    "    for token in doc:\n",
    "        if len(str(token)) > 2:\n",
    "            s += ''.join([\n",
    "                char for char in str(token).lower()\n",
    "                if char.isalpha()\n",
    "            ]) + ' '\n",
    "\n",
    "    return s.rstrip()\n",
    "\n",
    "docs = [doc_to_string(doc) for doc in nlp.pipe(texts)]\n",
    "\n",
    "df_data[\"OriginalTweet\"] = docs\n",
    "print(df_data.head())"
   ]
  },
  {
   "cell_type": "markdown",
   "metadata": {},
   "source": [
    "<h3> EXPLANATION </h3>\n",
    "\n",
    "I loaded the file, which was formatted using the \"latin1\" encoding. I only kept two columns of interest, i.e. `OriginalTweet` and `Sentiment`. I preprocessed the tweets using a SpaCy pipeline with a custom function that only keeps lower case alphabetic characters of length 3 or more, thus eliminating any links, punctuations, special characters, and so on."
   ]
  },
  {
   "cell_type": "markdown",
   "metadata": {
    "id": "eeR26J-N4-15"
   },
   "source": [
    "---"
   ]
  },
  {
   "cell_type": "markdown",
   "metadata": {
    "id": "JyDE26-i4-15"
   },
   "source": [
    "## Question 2 (4 points)\n",
    "\n",
    "**Split your data into a train and a validation set**. You can use 85% for training and 15% for validation, or similar proportions. Remember to shuffle your data before splitting, specifying a seed to be able to replicate your results."
   ]
  },
  {
   "cell_type": "code",
   "execution_count": 3,
   "metadata": {
    "id": "9vWDVkRB4-16"
   },
   "outputs": [
    {
     "name": "stdout",
     "output_type": "stream",
     "text": [
      "(34984,) (6173,) (34984,) (6173,)\n"
     ]
    }
   ],
   "source": [
    "# your code here\n",
    "\n",
    "from sklearn.model_selection import train_test_split\n",
    "\n",
    "(X_val, X_train,\n",
    " y_val, y_train) = train_test_split(\n",
    "     df_data[\"OriginalTweet\"], df_data[\"Sentiment\"], test_size = 0.85, random_state = 777\n",
    " )\n",
    "\n",
    "print(X_train.shape, X_val.shape, y_train.shape, y_val.shape)"
   ]
  },
  {
   "cell_type": "markdown",
   "metadata": {
    "id": "QpfNtdX04-16"
   },
   "source": [
    "---"
   ]
  },
  {
   "cell_type": "markdown",
   "metadata": {
    "id": "I328Auig4-17"
   },
   "source": [
    "## Question 3 (8 points)\n",
    "\n",
    "Write a function which, given as input a set of predictions and a set of ground truth labels and the name of the method, prints out a **classification report** including:\n",
    "* Name of the method\n",
    "* Accuracy\n",
    "* Precision, recall and F1 measure\n",
    "* An example of a correctly classified datapoint (e.g. a tweet)\n",
    "* An example of a wrongly classified datapoint\n",
    "\n",
    "*Note: You can do this question at the same time as question 4 so that you have something to report (the result of the baseline)*"
   ]
  },
  {
   "cell_type": "code",
   "execution_count": 4,
   "metadata": {
    "id": "uGTHtBPu4-18"
   },
   "outputs": [],
   "source": [
    "# your code here\n",
    "\n",
    "from sklearn.metrics import confusion_matrix\n",
    "\n",
    "# LABELS = np.unique(df_data[\"Sentiment\"])\n",
    "LABELS = [\"Extremely Negative\", \"Negative\", \"Neutral\", \"Positive\", \"Extremely Positive\"]\n",
    "\n",
    "def classification_report(pred, truth, data, model: str):\n",
    "    \"\"\"\n",
    "    Prints a classification report for a given method\n",
    "    \"\"\"\n",
    "    global LABELS\n",
    "\n",
    "    print(f\"Results for {model}\")\n",
    "\n",
    "    total_correct = np.sum(pred == truth)\n",
    "    accuracy = total_correct / len(truth)\n",
    "    print(f\"Accuracy:   {round(accuracy*100, 1)}%\")\n",
    "    \n",
    "    cm = confusion_matrix(truth, pred, labels=LABELS)\n",
    "    # print(labels, cm)\n",
    "\n",
    "    # rows = underlying class\n",
    "    # cols = labelled class\n",
    "    row_sums = np.sum(cm, axis = 1)\n",
    "    col_sums = np.sum(cm, axis = 0)\n",
    "    \n",
    "    for i, label in enumerate(LABELS):\n",
    "        print(f\"\\nScores for class \\\"{label}\\\"\")\n",
    "        \n",
    "        t_pos = cm[i, i]\n",
    "        f_neg = row_sums[i] - t_pos\n",
    "        f_pos = col_sums[i] - t_pos\n",
    "        t_neg = total_correct - t_pos\n",
    "        \n",
    "        precision = t_pos / (t_pos + f_pos)\n",
    "        recall = t_pos / (t_pos + f_neg)\n",
    "        f_measure = 2 * ((precision * recall) / (precision + recall))\n",
    "        print(f\"Precision:  {round(precision * 100, 1)}%\")\n",
    "        print(f\"Recall:     {round(recall * 100, 1)}%\")\n",
    "        print(f\"F1 Measure: {round(f_measure * 100, 1)}%\")\n",
    "\n",
    "    first_correct = np.where(pred == truth)[0][0]\n",
    "    # where()[0] returns indices\n",
    "    print(f\"\\nTweet correctly identified as {pred[first_correct]}:\\n>> {data.iloc[first_correct]}\")\n",
    "    \n",
    "    first_wrong = np.where(pred != truth)[0][0]\n",
    "    print(f\"\\nTweet incorrectly labelled as {pred[first_wrong]} instead of {truth.iloc[first_wrong]}:\")\n",
    "    print(f\">> {data.iloc[first_wrong]}\")"
   ]
  },
  {
   "cell_type": "markdown",
   "metadata": {
    "id": "PZG3nFTa4-18"
   },
   "source": [
    "---"
   ]
  },
  {
   "cell_type": "markdown",
   "metadata": {
    "id": "YwLrjSBV4-18"
   },
   "source": [
    "# Classifying (45 points)"
   ]
  },
  {
   "cell_type": "markdown",
   "metadata": {},
   "source": [
    "As you will be performing classification on real data, processes may take a while to run. This is normal, but it should not take hours. Here's some advice if you find that some of your code takes a long time to run:\n",
    "- If you are doing a hyperparameter search, try to make it quite small. Every hyperparameter combination that you try means training a new model, and runtimes can explode. You do not need to do a huge search for this assignment, it is enough if I can see that you are able to do it with a small example.\n",
    "- If you are doing a grid search, try to know how many combinations of hyperparameters your code will check and try to have print statements to know where you are at. Computation time grows exponentially for each additional hyperparameter option so this can get out of hand quickly. Also, if training a single model as a step of your grid search takes longer than just training the model separately, there might be an issue with your grid search code.\n",
    "- In a real project, you would want to make your code such that you can pause and resume training or optimization without having to re-do everything, e.g. by writing the results to a file. But for the purpose of this assignment it is not necessary to make it that complicated.\n",
    "- Use separate code blocks especially for the part of code that trains a model. That way, you only need to run the training step once, while you can mess around with the output/evaluation etc. without having to wait for a new model to be trained each time."
   ]
  },
  {
   "cell_type": "markdown",
   "metadata": {
    "id": "n_gI9lIS4-19"
   },
   "source": [
    "## Question 4 (10 points)\n",
    "\n",
    "An important first step when dealing with a real-world task is establishing a **solid baseline**. The baseline allows to a) develop the first full pipeline for your task, and b) to have something to compare against when you develop more advanced models.\n",
    "\n",
    "Pick a method to use as a baseline. *A good option might be a TF-IDF Logistic Regression*. Feel free to use scikit-learn or another library of choice. See [here](https://scikit-learn.org/stable/supervised_learning.html#supervised-learning) for more options.\n",
    "\n",
    "Use your classification report function and the validation set to report on the performance of your baseline. *Pay attention: the validation data only needs to be transformed, and must not be used to fit any transformation. For example, if you have used a TF-IDF vectorizer by fitting it to your train data and then transformed it, use the same fitted vectorizer to transform your validation data.*"
   ]
  },
  {
   "cell_type": "code",
   "execution_count": 5,
   "metadata": {
    "id": "DOyDJ8494-1-"
   },
   "outputs": [
    {
     "name": "stdout",
     "output_type": "stream",
     "text": [
      "Results for TF-IDF Logistic Regression\n",
      "Accuracy:   56.9%\n",
      "\n",
      "Scores for class \"Extremely Negative\"\n",
      "Precision:  62.7%\n",
      "Recall:     48.2%\n",
      "F1 Measure: 54.5%\n",
      "\n",
      "Scores for class \"Negative\"\n",
      "Precision:  51.3%\n",
      "Recall:     51.0%\n",
      "F1 Measure: 51.2%\n",
      "\n",
      "Scores for class \"Neutral\"\n",
      "Precision:  64.4%\n",
      "Recall:     67.9%\n",
      "F1 Measure: 66.1%\n",
      "\n",
      "Scores for class \"Positive\"\n",
      "Precision:  51.6%\n",
      "Recall:     60.9%\n",
      "F1 Measure: 55.8%\n",
      "\n",
      "Scores for class \"Extremely Positive\"\n",
      "Precision:  65.4%\n",
      "Recall:     52.5%\n",
      "F1 Measure: 58.2%\n",
      "\n",
      "Tweet correctly identified as Negative:\n",
      ">> gps warn hidden medical cost coronavirus httpstcokirsfqvy\n",
      "\n",
      "Tweet incorrectly labelled as Negative instead of Neutral:\n",
      ">> wall streetâs rally fizzles oil prices suddenly plunge coronavirus covid httpstcogyffpykbz httpstcoxewwglbarm\n"
     ]
    }
   ],
   "source": [
    "# your code here\n",
    "\n",
    "from sklearn.feature_extraction.text import TfidfVectorizer as TFIDF\n",
    "from sklearn.linear_model import LogisticRegression\n",
    "\n",
    "tfidf = TFIDF(\n",
    "    max_df = 0.5,\n",
    "    min_df = 2\n",
    ")\n",
    "X_train_tfidf = tfidf.fit_transform(X_train)\n",
    "X_val_tfidf = tfidf.transform(X_val) # do not fit!\n",
    "\n",
    "tfidf_logreg = LogisticRegression(solver = \"sag\")\n",
    "tfidf_logreg.fit(X_train_tfidf, y_train)\n",
    "# no transformation needed for logistic regression\n",
    "y_pred_tfidf_logreg = tfidf_logreg.predict(X_val_tfidf)\n",
    "\n",
    "classification_report(y_pred_tfidf_logreg, y_val, X_val, \"TF-IDF Logistic Regression\")"
   ]
  },
  {
   "cell_type": "markdown",
   "metadata": {},
   "source": [
    "<h3> EXPLANATION </h3>\n",
    "\n",
    "I at first thought the choice of using logistic regression was strange because the dataset has five possible classes, while logistic regression is only suitable for handling binary classification problems. It turns out that the `scikit-learn` logistic regression model is capable of handling multinominal cases as well.\n",
    "\n",
    "I first transformed the tweets using a TF-IDF Vectoriser, setting upper and lower bounds for document frequency because both highly frequent and infrequent terms are likely uninformative. I fitted the logistic regression using the SAG (stochastic average gradient) solver because the default LBFGS solver takes far too long for what is only going to be used as a baseline model.\n",
    "\n",
    "This baseline model gives us an overall accuracy of 57%, which is not too bad, considering that the default accuracy of a random model is only 20%."
   ]
  },
  {
   "cell_type": "markdown",
   "metadata": {
    "id": "EnnmO3Kf4-1-"
   },
   "source": [
    "---"
   ]
  },
  {
   "cell_type": "markdown",
   "metadata": {
    "id": "zOE_ZHLv4-1-"
   },
   "source": [
    "## Question 5 (20 points)\n",
    "\n",
    "Try now to **beat your baseline**. Feel free to use scikit-learn or another library of choice. See [here](https://scikit-learn.org/stable/supervised_learning.html#supervised-learning) for more options.\n",
    "\n",
    "How to beat the baseline? There are many ways:\n",
    "1. You could have a better text representation (e.g., using PPMI instead of TF-IDF, note that this is challenging because there is no ready-made scikit-learn vectorizer for this).\n",
    "2. You can pick a more powerful model (e.g., random forests or SVMs).\n",
    "3. You have to find good hyperparameters for your model, and not just use the default ones.\n",
    "\n",
    "Regarding point 3 above, make sure to perform some hyperparameter searching using [grid search](https://scikit-learn.org/stable/modules/generated/sklearn.model_selection.GridSearchCV.html) or [randomized search](https://scikit-learn.org/stable/modules/generated/sklearn.model_selection.RandomizedSearchCV.html).\n",
    "\n",
    "Use your classification report function and the validation set to report on the performance of your baseline. *Pay attention: the validation data only needs to be transformed, and must not be used to fit any transformation. For example, if you have used a TF-IDF vectorizer by fitting it to your train data and then transformed it, use the same fitted vectorizer to transform your validation data.*"
   ]
  },
  {
   "cell_type": "code",
   "execution_count": 6,
   "metadata": {
    "id": "pIcbBVMO4-1_"
   },
   "outputs": [
    {
     "name": "stdout",
     "output_type": "stream",
     "text": [
      "Results for TF-IDF Linear Discriminant Analysis with TSVD\n",
      "Accuracy:   59.9%\n",
      "\n",
      "Scores for class \"Extremely Negative\"\n",
      "Precision:  63.2%\n",
      "Recall:     57.9%\n",
      "F1 Measure: 60.5%\n",
      "\n",
      "Scores for class \"Negative\"\n",
      "Precision:  54.0%\n",
      "Recall:     51.6%\n",
      "F1 Measure: 52.7%\n",
      "\n",
      "Scores for class \"Neutral\"\n",
      "Precision:  63.9%\n",
      "Recall:     68.3%\n",
      "F1 Measure: 66.0%\n",
      "\n",
      "Scores for class \"Positive\"\n",
      "Precision:  55.9%\n",
      "Recall:     62.3%\n",
      "F1 Measure: 58.9%\n",
      "\n",
      "Scores for class \"Extremely Positive\"\n",
      "Precision:  70.6%\n",
      "Recall:     59.9%\n",
      "F1 Measure: 64.8%\n",
      "\n",
      "Tweet correctly identified as Negative:\n",
      ">> gps warn hidden medical cost coronavirus httpstcokirsfqvy\n",
      "\n",
      "Tweet incorrectly labelled as Negative instead of Neutral:\n",
      ">> wall streetâs rally fizzles oil prices suddenly plunge coronavirus covid httpstcogyffpykbz httpstcoxewwglbarm\n"
     ]
    }
   ],
   "source": [
    "# your code here\n",
    "\n",
    "from sklearn.decomposition import TruncatedSVD as TSVD\n",
    "from sklearn.discriminant_analysis import LinearDiscriminantAnalysis as LDA\n",
    "\n",
    "# first reduce dimensions with SVD\n",
    "svd = TSVD(n_components = 2500, random_state = 1)\n",
    "X_train_tfidf_svd = svd.fit_transform(X_train_tfidf)\n",
    "X_val_tfidf_svd = svd.transform(X_val_tfidf)\n",
    "\n",
    "lda = LDA(solver = \"svd\")\n",
    "lda.fit(X_train_tfidf_svd, y_train)\n",
    "y_pred_tfidf_lda = lda.predict(X_val_tfidf_svd)\n",
    "\n",
    "classification_report(y_pred_tfidf_lda, y_val, X_val, \"TF-IDF Linear Discriminant Analysis with TSVD\")"
   ]
  },
  {
   "cell_type": "markdown",
   "metadata": {},
   "source": [
    "<h3> EXPLANATION </h3>\n",
    "\n",
    "I took a somewhat lazy approach and kept the TF-IDF measure, as defining a new measure on our tweets is time-consuming both to implement and to run. I opted to run a Linear Discriminant Analysis model, which is non-parametric and thus cannot be optimised using hyperparameter search. However, I soon found out that I would have to greatly reduce the dimensions of our TF-IDF measure, so I applied a truncated SVD transformer as an intermediate step. After a couple of trials, it quickly became apparent that increasing the number of components both increased accuracy and computing time.\n",
    "\n",
    "At last, I settled on using 2500 components, which takes much longer than our baseline model but gives us a slightly higher accuracy at around 60%. It particularly performs better on extremely negative and positive tweets, as can be seen in the increase of the F-measure from 0.54 to 0.60 for extremely negative samples, and 0.59 to 0.64 for extremely positive ones."
   ]
  },
  {
   "cell_type": "markdown",
   "metadata": {
    "id": "EnnmO3Kf4-1-"
   },
   "source": [
    "---"
   ]
  },
  {
   "cell_type": "markdown",
   "metadata": {
    "id": "fV-1eX7y4-1_"
   },
   "source": [
    "## Question 6 (15 points)\n",
    "\n",
    "Design, develop and train a **neural network-based classifier** for this task, using scikit-learn, PyTorch or the Transformers library. The scikit-learn approach is demonstrated in Notebook 7_1, the Pytorch approach is demonstrated in Notebook 7_2. The Transformers approach is the most state-of-the-art approach, which involves taking a pre-trained LLM and tuning a sequence classification head for your text classification task. You can find a basic example in the Huggingface documentation: https://huggingface.co/docs/transformers/en/tasks/sequence_classification\n",
    "\n",
    "The scikit-learn option is probably simpler than you think. Pytorch and Transformers classifiers are more advanced and challenging, but due to the current popularity of Transformer models it is relatively easy to find solutions to your problems with Transformer models. If you are up for a challenge, choose Pytorch if you are more interested in foundations of neural networks and machine learning more broadly, or choose Transformers if you are interested in LLMs and textual data.\n",
    "\n",
    "The classifier can have the structure that you prefer and use an embedding model of your choice, just make sure to motivate your choices.\n",
    "\n",
    "*Note: an NN-based classifier with scikit-learn yields 5 points max; one with PyTorch or a pre-tuned Transformers-based model yields 10 points max; one with PyTorch and pre-trained embeddings or a Transformers-based model tuned by yourself yields 15 points max. If you try PyTorch or Transformers but get stuck, you can still get partial points if you have a good explanation of what you tried.*\n",
    "\n",
    "Use your classification report function and the validation set to report on the performance of your baseline. *Pay attention: the validation data only needs to be transformed, and must not be used to fit any transformation. For example, if you have used a TF-IDF vectorizer by fitting it to your train data and then transformed it, use the same fitted vectorizer to transform your validation data.*"
   ]
  },
  {
   "cell_type": "code",
   "execution_count": 7,
   "metadata": {
    "id": "tDn5kJj54-2A"
   },
   "outputs": [],
   "source": [
    "# your code here\n",
    "\n",
    "# !pip install transformers\n",
    "# !pip install hf_xet\n",
    "import torch\n",
    "from torch.nn.functional import softmax\n",
    "from torch.utils.data import Dataset #, DataLoader\n",
    "from transformers import (\n",
    "    DistilBertTokenizerFast, DistilBertForSequenceClassification,\n",
    "    TrainingArguments, Trainer, logging\n",
    ")\n",
    "\n",
    "MAX_LEN = 80\n",
    "TRAIN_BATCH_SIZE = 4\n",
    "VAL_BATCH_SIZE = 2\n",
    "EPOCHS = 3\n",
    "tokeniser = DistilBertTokenizerFast.from_pretrained('distilbert-base-uncased')\n",
    "\n",
    "device = torch.device(\"cuda\" if torch.cuda.is_available() else \"cpu\")\n",
    "# print(device)\n",
    "\n",
    "label_to_id = {label: i for i, label in enumerate(LABELS)}\n",
    "id_to_label = {i: label for i, label in enumerate(LABELS)}\n",
    "\n",
    "class TweetDataset(Dataset):\n",
    "    # inherits from default dataset\n",
    "    def __init__(self, X, y, tokeniser, max_len: int, return_labels: bool):\n",
    "        global label_to_id\n",
    "        self.__len = len(X)\n",
    "        self.__tokenizer = tokeniser\n",
    "        self.__max_len = max_len\n",
    "        self.__return_labels = return_labels\n",
    "        \n",
    "        self.__data = pd.DataFrame()\n",
    "        # turn labels into their id for the model\n",
    "        self.__data[\"Sentiment\"] = y.map(label_to_id)\n",
    "        # apply tokeniser\n",
    "        self.__data[\"OriginalTweet\"] = X\n",
    "        # print(self.__data.info())\n",
    "\n",
    "    def __getitem__(self, index: int) -> dict:\n",
    "        \"\"\"\n",
    "        For tweet at given index, tokenise and return the\n",
    "        tokenised item + label as a dictionary\n",
    "        \"\"\"\n",
    "        tweet = self.__tokenizer(self.__data.iloc[index][\"OriginalTweet\"],\n",
    "                                 return_offsets_mapping = True,\n",
    "                                 padding = \"max_length\",\n",
    "                                 truncation = True,\n",
    "                                 max_length = self.__max_len)\n",
    "        label = self.__data.iloc[index][\"Sentiment\"]\n",
    "\n",
    "        # transform tweet into PyTorch tensor\n",
    "        item = {key: torch.as_tensor(val) for key, val in tweet.items()}\n",
    "        if self.__return_labels:\n",
    "            item[\"label\"] = torch.as_tensor(label)\n",
    "\n",
    "        return item\n",
    "    \n",
    "    def __len__(self):\n",
    "        \"\"\" Get the length of the dataframe \"\"\"\n",
    "        return self.__len\n",
    "\n",
    "training_set = TweetDataset(X_train, y_train, tokeniser, MAX_LEN, True)\n",
    "# hide labels from the test set\n",
    "validation_set = TweetDataset(X_val, y_val, tokeniser, MAX_LEN, False)\n",
    "# training_loader = DataLoader(training_set, batch_size = TRAIN_BATCH_SIZE, shuffle = True)\n",
    "# validation_loader = DataLoader(validation_set, batch_size = VAL_BATCH_SIZE, shuffle = True)"
   ]
  },
  {
   "cell_type": "code",
   "execution_count": 8,
   "metadata": {},
   "outputs": [
    {
     "name": "stdout",
     "output_type": "stream",
     "text": [
      "Results for BERT for Sequence Classification\n",
      "Accuracy:   82.7%\n",
      "\n",
      "Scores for class \"Extremely Negative\"\n",
      "Precision:  78.3%\n",
      "Recall:     88.0%\n",
      "F1 Measure: 82.9%\n",
      "\n",
      "Scores for class \"Negative\"\n",
      "Precision:  79.7%\n",
      "Recall:     75.7%\n",
      "F1 Measure: 77.6%\n",
      "\n",
      "Scores for class \"Neutral\"\n",
      "Precision:  90.1%\n",
      "Recall:     83.0%\n",
      "F1 Measure: 86.4%\n",
      "\n",
      "Scores for class \"Positive\"\n",
      "Precision:  82.4%\n",
      "Recall:     82.1%\n",
      "F1 Measure: 82.2%\n",
      "\n",
      "Scores for class \"Extremely Positive\"\n",
      "Precision:  83.5%\n",
      "Recall:     90.5%\n",
      "F1 Measure: 86.9%\n",
      "\n",
      "Tweet correctly identified as Negative:\n",
      ">> gps warn hidden medical cost coronavirus httpstcokirsfqvy\n",
      "\n",
      "Tweet incorrectly labelled as Extremely Negative instead of Negative:\n",
      ">> ktrtrs  eatalarajender  narendramodi  pmoindia  coronavirus  coronalockdown  govt shud augment the ambulance services and control prices  telangana  unreachable sick spend hours road hitch ride  httpstcobgtctjdax  downlo\n"
     ]
    }
   ],
   "source": [
    "logging.set_verbosity_error()\n",
    "\n",
    "MODEL_PATH = Path.cwd() / \"model\"\n",
    "\n",
    "trained = True\n",
    "if not trained:\n",
    "    model = DistilBertForSequenceClassification.from_pretrained(\n",
    "        \"distilbert-base-uncased\",\n",
    "        num_labels = len(LABELS),\n",
    "        id2label = id_to_label,\n",
    "        label2id = label_to_id\n",
    "    )\n",
    "    model.to(device)\n",
    "\n",
    "    training_args = TrainingArguments(\n",
    "        output_dir = Path.cwd() / \"results\",\n",
    "        eval_strategy = \"epoch\",\n",
    "        save_strategy = \"epoch\",\n",
    "        logging_dir = Path.cwd() / \"logs\",\n",
    "        per_device_train_batch_size = TRAIN_BATCH_SIZE,\n",
    "        per_device_eval_batch_size = VAL_BATCH_SIZE,\n",
    "        num_train_epochs = EPOCHS,\n",
    "        weight_decay = 0.01,\n",
    "        load_best_model_at_end = True,\n",
    "        metric_for_best_model = \"accuracy\"\n",
    "    )\n",
    "\n",
    "    def compute_metrics(eval_pred) -> dict:\n",
    "        \"\"\" Return accuracy as a dictionary for the trainer \"\"\"\n",
    "        logits, labels = eval_pred\n",
    "        preds = np.argmax(logits, axis = 1)\n",
    "        return {\"accuracy\": np.mean(labels == preds)}\n",
    "    \n",
    "    trainer = Trainer(\n",
    "        model = model,\n",
    "        args = training_args,\n",
    "        train_dataset = training_set,\n",
    "        eval_dataset = validation_set,\n",
    "        compute_metrics = compute_metrics,\n",
    "        processing_class = tokeniser\n",
    "    )\n",
    "\n",
    "    trainer.train()\n",
    "    trainer.save_model(MODEL_PATH)\n",
    "    tokeniser.save_vocabulary(str(MODEL_PATH))\n",
    "else:\n",
    "    model = DistilBertForSequenceClassification.from_pretrained(MODEL_PATH)\n",
    "    model.to(device)\n",
    "\n",
    "    trainer = Trainer(model = model)\n",
    "\n",
    "val_logits = trainer.predict(test_dataset = validation_set).predictions\n",
    "y_pred_bert = [id_to_label[id] for id in np.argmax(val_logits, axis = 1)]\n",
    "classification_report(y_pred_bert, y_val, X_val, \"BERT for Sequence Classification\")"
   ]
  },
  {
   "cell_type": "markdown",
   "metadata": {},
   "source": [
    "<h3> EXPLANATION </h3>\n",
    "\n",
    "In order to complete this question, I took partial inspiration from the Transformers NER lab but also relied on ChatGPT for further guidance. The transcript can be accessed [here](https://chatgpt.com/share/67f82b52-d92c-8008-a50a-229ba2ffc73b). Following the lab, I imported the PyTorch and Transformer libraries, and defined a new dataset class inheriting from the default Dataset class. A key insight that ChatGPT offered here was that the labels should be hidden when creating a dataset for the test data, as defined in the `__getitem__` method.\n",
    "\n",
    "Then, I loaded, trained, and saved the base DistilBertForSequenceClassification model, which took around an hour or so. This model is by far the best performing model, with an accuracy of 83%, much better than both the baseline and the LDA model."
   ]
  },
  {
   "cell_type": "markdown",
   "metadata": {
    "id": "A8K-n8Ak4-2A"
   },
   "source": [
    "---"
   ]
  },
  {
   "cell_type": "markdown",
   "metadata": {
    "id": "hjiTUFSZ4-2A"
   },
   "source": [
    "# Evaluating your classifiers (15 points)"
   ]
  },
  {
   "cell_type": "markdown",
   "metadata": {
    "id": "H9JXwtnF4-2B"
   },
   "source": [
    "## Question 7 (8 points)\n",
    "\n",
    "Evaluate the performance of your models on the **test set**. Make sure to transform your test data as you did for your train data, and as needed for each classifier. *Pay attention: the test data only needs to be transformed, and must not be used to fit any transformation. For example, if you have used a TF-IDF vectorizer by fitting it to your train data and then transformed your train and validation with it, use the same fitted vectorizer to transform your test data.*\n",
    "\n",
    "* Report the accuracy of each classifier, as well as its precision, recall and F1 score. \n",
    "* Plot a [confusion matrix](https://scikit-learn.org/stable/auto_examples/model_selection/plot_confusion_matrix.html) for your best classifier.\n",
    "* Briefly discuss your results."
   ]
  },
  {
   "cell_type": "code",
   "execution_count": 9,
   "metadata": {
    "id": "FDr66A_j4-2B"
   },
   "outputs": [
    {
     "name": "stdout",
     "output_type": "stream",
     "text": [
      "Results for TF-IDF Logistic Regression\n",
      "Accuracy:   53.9%\n",
      "\n",
      "Scores for class \"Extremely Negative\"\n",
      "Precision:  60.0%\n",
      "Recall:     41.7%\n",
      "F1 Measure: 49.2%\n",
      "\n",
      "Scores for class \"Negative\"\n",
      "Precision:  48.8%\n",
      "Recall:     51.1%\n",
      "F1 Measure: 49.9%\n",
      "\n",
      "Scores for class \"Neutral\"\n",
      "Precision:  61.5%\n",
      "Recall:     63.5%\n",
      "F1 Measure: 62.5%\n",
      "\n",
      "Scores for class \"Positive\"\n",
      "Precision:  46.8%\n",
      "Recall:     60.8%\n",
      "F1 Measure: 52.9%\n",
      "\n",
      "Scores for class \"Extremely Positive\"\n",
      "Precision:  70.1%\n",
      "Recall:     49.7%\n",
      "F1 Measure: 58.2%\n",
      "\n",
      "Tweet correctly identified as Positive:\n",
      ">> when could nt find hand sanitizer fred meyer turned amazon but  for pack purellcheck out how coronavirus concerns are driving prices httpstcoygbipbflmy\n",
      "\n",
      "Tweet incorrectly labelled as Neutral instead of Extremely Negative:\n",
      ">> trending new yorkers encounter empty supermarket shelves pictured wegmans brooklyn sold out online grocers foodkick maxdelivery coronavirus fearing shoppers stock httpstcogrpcrlwh httpstcoivmkmsqdt\n",
      "\n",
      "\n",
      "Results for TF-IDF Linear Discriminant Analysis with TSVD\n",
      "Accuracy:   56.7%\n",
      "\n",
      "Scores for class \"Extremely Negative\"\n",
      "Precision:  65.0%\n",
      "Recall:     53.4%\n",
      "F1 Measure: 58.6%\n",
      "\n",
      "Scores for class \"Negative\"\n",
      "Precision:  51.2%\n",
      "Recall:     51.7%\n",
      "F1 Measure: 51.4%\n",
      "\n",
      "Scores for class \"Neutral\"\n",
      "Precision:  59.3%\n",
      "Recall:     61.6%\n",
      "F1 Measure: 60.4%\n",
      "\n",
      "Scores for class \"Positive\"\n",
      "Precision:  49.8%\n",
      "Recall:     60.8%\n",
      "F1 Measure: 54.8%\n",
      "\n",
      "Scores for class \"Extremely Positive\"\n",
      "Precision:  73.8%\n",
      "Recall:     56.9%\n",
      "F1 Measure: 64.3%\n",
      "\n",
      "Tweet correctly identified as Positive:\n",
      ">> when could nt find hand sanitizer fred meyer turned amazon but  for pack purellcheck out how coronavirus concerns are driving prices httpstcoygbipbflmy\n",
      "\n",
      "Tweet incorrectly labelled as Neutral instead of Extremely Negative:\n",
      ">> trending new yorkers encounter empty supermarket shelves pictured wegmans brooklyn sold out online grocers foodkick maxdelivery coronavirus fearing shoppers stock httpstcogrpcrlwh httpstcoivmkmsqdt\n",
      "\n",
      "\n",
      "Results for BERT for Sequence Classification\n",
      "Accuracy:   79.5%\n",
      "\n",
      "Scores for class \"Extremely Negative\"\n",
      "Precision:  78.8%\n",
      "Recall:     84.6%\n",
      "F1 Measure: 81.6%\n",
      "\n",
      "Scores for class \"Negative\"\n",
      "Precision:  75.2%\n",
      "Recall:     76.0%\n",
      "F1 Measure: 75.6%\n",
      "\n",
      "Scores for class \"Neutral\"\n",
      "Precision:  88.5%\n",
      "Recall:     78.7%\n",
      "F1 Measure: 83.3%\n",
      "\n",
      "Scores for class \"Positive\"\n",
      "Precision:  76.5%\n",
      "Recall:     77.5%\n",
      "F1 Measure: 77.0%\n",
      "\n",
      "Scores for class \"Extremely Positive\"\n",
      "Precision:  84.5%\n",
      "Recall:     84.6%\n",
      "F1 Measure: 84.6%\n",
      "\n",
      "Tweet correctly identified as Positive:\n",
      ">> when could nt find hand sanitizer fred meyer turned amazon but  for pack purellcheck out how coronavirus concerns are driving prices httpstcoygbipbflmy\n",
      "\n",
      "Tweet incorrectly labelled as Negative instead of Extremely Negative:\n",
      ">> trending new yorkers encounter empty supermarket shelves pictured wegmans brooklyn sold out online grocers foodkick maxdelivery coronavirus fearing shoppers stock httpstcogrpcrlwh httpstcoivmkmsqdt\n"
     ]
    }
   ],
   "source": [
    "# your code here\n",
    "\n",
    "df_test = pd.read_csv(\"data/Corona_NLP_test.csv\")\n",
    "X_test = pd.Series(doc_to_string(doc) for doc in nlp.pipe(df_test[\"OriginalTweet\"]))\n",
    "y_test = df_test[\"Sentiment\"]\n",
    "\n",
    "X_test_tfidf = tfidf.transform(X_test)\n",
    "y_testpred_logreg = tfidf_logreg.predict(X_test_tfidf)\n",
    "classification_report(y_testpred_logreg, y_test, X_test, \"TF-IDF Logistic Regression\")\n",
    "\n",
    "print(\"\\n\")\n",
    "X_test_tfidf_svd = svd.transform(X_test_tfidf)\n",
    "y_testpred_lda = lda.predict(X_test_tfidf_svd)\n",
    "classification_report(y_testpred_lda, y_test, X_test, \"TF-IDF Linear Discriminant Analysis with TSVD\")\n",
    "\n",
    "print(\"\\n\")\n",
    "test_set = TweetDataset(X_test, y_test, tokeniser, MAX_LEN, False)\n",
    "test_logits = trainer.predict(test_dataset = test_set).predictions\n",
    "y_testpred_bert = [id_to_label[id] for id in np.argmax(test_logits, axis = 1)]\n",
    "classification_report(y_testpred_bert, y_test, X_test, \"BERT for Sequence Classification\")"
   ]
  },
  {
   "cell_type": "code",
   "execution_count": 10,
   "metadata": {},
   "outputs": [
    {
     "data": {
      "image/png": "[encoded data removed]",
      "text/plain": [
       "<Figure size 640x480 with 2 Axes>"
      ]
     },
     "metadata": {},
     "output_type": "display_data"
    }
   ],
   "source": [
    "import matplotlib.pyplot as plt\n",
    "from sklearn.metrics import ConfusionMatrixDisplay\n",
    "\n",
    "ax = plt.subplots()[1]\n",
    "disp = ConfusionMatrixDisplay.from_predictions(\n",
    "    y_test, y_testpred_bert,\n",
    "    display_labels = LABELS,\n",
    "    ax = ax,\n",
    "    xticks_rotation = 45\n",
    ")\n",
    "ax.title.set_text(\"Confusion Matrix for BERT\")\n",
    "plt.show()"
   ]
  },
  {
   "cell_type": "markdown",
   "metadata": {},
   "source": [
    "<h3> EXPLANATION </h3>\n",
    "\n",
    "Unsurprisingly, the BERT model again performs the best when evaluated on the unseen test data with an accuracy of 80%, while the baseline and LDA models are roughly on par at 54-56% accuracy.\n",
    "\n",
    "The confusion matrix for the BERT model shows that it does correctly classify the vast majority of tweets, with the main source of confusion coming from the extreme and neutral classes. It often misidentifies neutral tweets as being extremely negative, while also mistaking extremely positive tweets for being neutral or even negative.\n",
    "\n",
    "This surprised me at first, but I thought of a few reasons why this could have happened. First and foremost, the sentiment of a tweet could easily be changed by just having a single negation. Many tweets also probably do not explicitly use emotive expressions, but simply imply their attitude through the literal message or the context. Also, both sides of extreme tweets likely share \"neutral\" intensifiers, such as \"extremely\" or \"very\", which can be confusing to categorise."
   ]
  },
  {
   "cell_type": "markdown",
   "metadata": {
    "id": "JRm9J4-o4-2C"
   },
   "source": [
    "---"
   ]
  },
  {
   "cell_type": "markdown",
   "metadata": {
    "id": "nKxvAsxg4-2C",
    "tags": []
   },
   "source": [
    "## Question 8 (7 points)\n",
    "\n",
    "When you perform a classification or labeling task, you may want to perform an error analysis to look for avenues for improvement. You can do this both quantitatively and qualitatively.\n",
    "\n",
    "For your best classifier:\n",
    "* Collect misclassified samples, e.g. by modifying your evaluation code from Question 7.\n",
    "\n",
    "Perform a brief quantitative error analysis of your best classifier:\n",
    "* Choose some properties that you think are relevant to classification quality, such as the length of the tweet or use of emoji. Come up with three interesting properties.\n",
    "* Compute and compare these three properties for the misclassified samples to the average distribution over all samples.\n",
    "* Describe your conclusions.\n",
    "\n",
    "Perform a brief qualitative error analysis of your best classifier:\n",
    "* Look at the misclassified samples, and make observations about their properties. Identify some properties that you think are relevant to classification quality but that you can't easily quantify, such as usage of sarcasm or irony, negation issues (not bad != bad), spelling or grammar issues, interpretation of emojis, context dependence of the tweet, or other observations.\n",
    "* Describe your conclusions.\n"
   ]
  },
  {
   "cell_type": "code",
   "execution_count": 11,
   "metadata": {
    "id": "ONz1PmOM4-2E"
   },
   "outputs": [
    {
     "name": "stdout",
     "output_type": "stream",
     "text": [
      "trending new yorkers encounter empty supermarket shelves pictured wegmans brooklyn sold out online grocers foodkick maxdelivery coronavirus fearing shoppers stock httpstcogrpcrlwh httpstcoivmkmsqdt\n",
      "\n",
      "panic buying hits newyork city anxious shoppers stock foodampmedical supplies after healthcare worker her s becomes bigapple st confirmed coronavirus patient bloomberg staged event  httpstcoiasiregpc  qanon qanon qanon  election cdc httpstcoiszoewxu\n",
      "\n",
      "drtedros cant stop covid without protecting healthworkers  prices surgical masks have increased six fold n respirators have more than trebled amp gowns cost twice muchdrtedros coronavirus\n",
      "\n",
      "twitter pharmacist sell hand sanitizer for living when any exists like masks sold the fuck out everywhere should you worried use soap should you visit twenty pharmacies looking for the last bottle pharmacies are full sick people\n",
      "\n",
      "best quality couches unbelievably low prices available order  are boksburg  for more info whatsapp      supertuesdsy powertalk  covid sayentrepreneur  djsbu httpstcohhdjhyqdc\n",
      "\n",
      "airsewa  flyspicejet not providing webchecin customers free seats  passengers are forced choose paid seats free seats are made available only airport counter  this should stopped its discriminatory and against travellers rights  hardeepspuri mocagoi\n",
      "\n",
      "what precautionary measures have you all taken your respective restaurants and hotels comment below   covid coronavirus  covid hotel chains enforce precautionary measures issue safety hygiene advisories  httpstcozovqspzy\n",
      "\n",
      "coronavirus covid people are starting become frightened and panicshopping many shelves meanwhile turn empty goods are sold facemasks amp disinfection liquid are sold out they are sold for exorbitant prices blockchain cryptonews httpstcoakrlmlekf\n",
      "\n",
      "control over stocks and gold lost  gold coming back very nicely loves wallbridge and balmoral and warns listeners about coronavirus sprott money ltd recently put money ocg genm mmg and many more  httpstcoaurzesj\n",
      "\n",
      "coronavirus exposure all the holes the social safety net says nelp government affairs director judy conti  unemployment paidleaveforall  httpstcobrcyijwsv\n",
      "\n",
      "not due brexit all then gtgt supermarkets begin foodrationing after wave coronavirus fuelled panic buying httpstcoakgkhxotw\n",
      "\n",
      "howroute its not even over food  what the actual heck have news for these people   you need food and water before you need the paper wipe your a just sayin  covid covid coronavirus corona virus panic\n",
      "\n",
      "far pennsylvanians have reached out office report inflated prices everything from disinfectant spray liquid soap  price gouging like this isnt just wrong its illegal keep your emails coming pricegougingattorneygeneralgov coronavirus\n",
      "\n",
      "ignore online offers for vaccinations there currently are vaccines pills potions lotions lozenges other prescription over the counter products available treat cure coronavirus disease  covid online stores  ftc tips httpstcosqbflhbh httpstcodxpokdqi\n",
      "\n",
      "come guys please like bob  covid panicbuying coronavirus httpstcokmlyznynr\n",
      "\n",
      "Average tweet lengths\n",
      "Misclassified:        189.37660668380462\n",
      "Correctly classified: 176.42251655629138\n",
      "\n",
      "Number of hyperlinks\n",
      "Misclassified:        0.4601542416452442\n",
      "Correctly classified: 0.4857615894039735\n",
      "\n",
      "Mentions of COVID\n",
      "Misclassified:        1.4074550128534704\n",
      "Correctly classified: 1.4781456953642385\n"
     ]
    }
   ],
   "source": [
    "# your code here\n",
    "\n",
    "wrong_cond = y_testpred_bert != y_test\n",
    "wrong, correct = X_test[wrong_cond], X_test[~wrong_cond]\n",
    "# print(len(wrong), len(correct))\n",
    "for tweet in wrong.head(15):\n",
    "    print(tweet, end = \"\\n\\n\")\n",
    "\n",
    "print(\"Average tweet lengths\")\n",
    "print(f\"Misclassified:        {np.mean([len(i) for i in wrong])}\")\n",
    "print(f\"Correctly classified: {np.mean([len(i) for i in correct])}\")\n",
    "\n",
    "print(\"\\nNumber of hyperlinks\")\n",
    "print(f\"Misclassified:        {np.mean([i.count('http') for i in wrong])}\")\n",
    "print(f\"Correctly classified: {np.mean([i.count('http') for i in correct])}\")\n",
    "\n",
    "print(\"\\nMentions of COVID\")\n",
    "print(f\"Misclassified:        {np.mean([i.count('covid') + i.count('corona') for i in wrong])}\")\n",
    "print(f\"Correctly classified: {np.mean([i.count('covid') + i.count('corona') for i in correct])}\")"
   ]
  },
  {
   "cell_type": "markdown",
   "metadata": {},
   "source": [
    "<h3> EXPLANATION </h3>\n",
    "\n",
    "Interestingly, from a qualitative point of view, many wrongly identified tweets relate in some way to the retail/service industry, with frequent mentions of supermarket supply shortages and inflated prices. This could just be a biased sample because I'm only looking at the head, but the nature of this kind of tweet possibly does lead to confusing sentiments, depending on whether someone is complaining or assuaging others.\n",
    "\n",
    "On the quantitative side, I looked at average tweet lengths, number of hyperlinks per tweet, and mentions of COVID-19. I didn't expect to find strong differences, and indeed, this is true from the dataset. Misclassified tweets tend to be around 15 characters longer than correctly classified tweets, but this is likely not too statistically significant if this translates to a difference of about just 4 or 5 words per tweet."
   ]
  },
  {
   "cell_type": "markdown",
   "metadata": {
    "id": "e2z2g9eF4-2E"
   },
   "source": [
    "---"
   ]
  }
 ],
 "metadata": {
  "colab": {
   "collapsed_sections": [],
   "name": "notebook_a3.ipynb",
   "provenance": []
  },
  "kernelspec": {
   "display_name": "Python 3 (ipykernel)",
   "language": "python",
   "name": "python3"
  },
  "language_info": {
   "codemirror_mode": {
    "name": "ipython",
    "version": 3
   },
   "file_extension": ".py",
   "mimetype": "text/x-python",
   "name": "python",
   "nbconvert_exporter": "python",
   "pygments_lexer": "ipython3",
   "version": "3.11.7"
  },
  "toc": {
   "base_numbering": 1,
   "nav_menu": {},
   "number_sections": true,
   "sideBar": true,
   "skip_h1_title": false,
   "title_cell": "Table of Contents",
   "title_sidebar": "Contents",
   "toc_cell": false,
   "toc_position": {},
   "toc_section_display": true,
   "toc_window_display": true
  }
 },
 "nbformat": 4,
 "nbformat_minor": 4
}
