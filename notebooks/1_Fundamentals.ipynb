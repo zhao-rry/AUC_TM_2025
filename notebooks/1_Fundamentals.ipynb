{
 "cells": [
  {
   "cell_type": "markdown",
   "metadata": {
    "id": "HsabNKJYYSQE"
   },
   "source": [
    "# Python fundamentals"
   ]
  },
  {
   "cell_type": "markdown",
   "metadata": {
    "id": "VFcSWlMTYSQI"
   },
   "source": [
    "### The Zen of Python\n",
    "\n",
    "The 20 principles that influences the design of Python. \n",
    "\n",
    "Written in the 1999, they have been included as the 20th entry of the Python Enhancement Proposals (a.k.a. [PEP 20](https://www.python.org/dev/peps/pep-0020/))."
   ]
  },
  {
   "cell_type": "code",
   "execution_count": 1,
   "metadata": {
    "id": "LaTcIU2IYSQK",
    "outputId": "91462f98-3abe-47c3-818f-8dfb2938e2a7"
   },
   "outputs": [
    {
     "name": "stdout",
     "output_type": "stream",
     "text": [
      "The Zen of Python, by Tim Peters\n",
      "\n",
      "Beautiful is better than ugly.\n",
      "Explicit is better than implicit.\n",
      "Simple is better than complex.\n",
      "Complex is better than complicated.\n",
      "Flat is better than nested.\n",
      "Sparse is better than dense.\n",
      "Readability counts.\n",
      "Special cases aren't special enough to break the rules.\n",
      "Although practicality beats purity.\n",
      "Errors should never pass silently.\n",
      "Unless explicitly silenced.\n",
      "In the face of ambiguity, refuse the temptation to guess.\n",
      "There should be one-- and preferably only one --obvious way to do it.\n",
      "Although that way may not be obvious at first unless you're Dutch.\n",
      "Now is better than never.\n",
      "Although never is often better than *right* now.\n",
      "If the implementation is hard to explain, it's a bad idea.\n",
      "If the implementation is easy to explain, it may be a good idea.\n",
      "Namespaces are one honking great idea -- let's do more of those!\n"
     ]
    }
   ],
   "source": [
    "# eastern egg\n",
    "import this"
   ]
  },
  {
   "cell_type": "markdown",
   "metadata": {
    "id": "L3Vf3A2QYSQL"
   },
   "source": [
    "*In December 1989, Van Rossum had been looking for a \"'hobby' programming project that would keep [him] occupied during the week around Christmas\" as his office was closed when he decided to write an interpreter for a \"new scripting language [he] had been thinking about lately: a descendant of ABC that would appeal to Unix/C hackers\". He attributes choosing the name \"Python\" to \"being in a slightly irreverent mood (and a big fan of Monty Python's Flying Circus)\".* https://en.wikipedia.org/wiki/Guido_van_Rossum"
   ]
  },
  {
   "cell_type": "markdown",
   "metadata": {
    "id": "5I3MvTZ4YSQL"
   },
   "source": [
    "## Getting Started\n",
    "\n",
    "If you have installed Python on your own machine, the simplest way is to type commands directly in the **Interactive** IPython shell:"
   ]
  },
  {
   "cell_type": "code",
   "execution_count": null,
   "metadata": {
    "id": "wkJt0C6zYSQM",
    "outputId": "113439ed-0f7c-460c-c902-462f139ca6bc"
   },
   "outputs": [
    {
     "name": "stdout",
     "output_type": "stream",
     "text": [
      "Are we having fun yet?\n"
     ]
    }
   ],
   "source": [
    "print(\"Are we having fun yet?\")"
   ]
  },
  {
   "cell_type": "markdown",
   "metadata": {
    "id": "HuGCodx0a2oh"
   },
   "source": [
    "If you are using **Google Colab**, you can bring up an interactive shell by using !bash and then asking it to run Python 3 (type python3 into the input field once bash loads, and then execute commands):"
   ]
  },
  {
   "cell_type": "code",
   "execution_count": null,
   "metadata": {
    "id": "0z1YKSfqbed0"
   },
   "outputs": [],
   "source": [
    "!bash"
   ]
  },
  {
   "cell_type": "markdown",
   "metadata": {
    "id": "HV1K6qCVYSQM"
   },
   "source": [
    "This is great for testing purposes, or for exploratory analysis, but it is very inefficient if you want to reuse the same program multiple times. An alternative is to write your instructions in a Jupyter Notebook, in which you can also explain your code to the reader using text blocks, and which can be loaded by Google Colab or Jupyter Notebook in Anaconda.\n",
    "\n",
    "A more traditional alternative when you are working on your own machine is to write your instructions in a `\\*.py` **text file** and to ask the Python interpreter to execute this file by listing its name in a python command.\n",
    "\n",
    "1. In you current working directory (`%pwd`), or somewhere else (e.g., `/stuff`), create a text file called `fun.py` \n",
    "\n",
    "2. Open this file with a text editor\n",
    "\n",
    "3. Copy the following code, save and close the file \n",
    "\n",
    "```python \n",
    "print(\"Are we having fun yet? (file version)\")\n",
    "```\n",
    "\n",
    "Launch the Python interpreter by dialing the following command in the shell:\n",
    "\n",
    "```bash \n",
    "python fun.py\n",
    "```"
   ]
  },
  {
   "cell_type": "code",
   "execution_count": null,
   "metadata": {
    "id": "umkZfIOOYSQN",
    "outputId": "f6301ad6-d0e2-458c-e321-f65d91d2b238"
   },
   "outputs": [
    {
     "name": "stdout",
     "output_type": "stream",
     "text": [
      "Are we having fun yet? (file version)\n"
     ]
    }
   ],
   "source": [
    "# shell commands can be launched from IPythoon as well\n",
    "!python stuff/fun.py"
   ]
  },
  {
   "cell_type": "code",
   "execution_count": null,
   "metadata": {
    "id": "l5N-D_ZOYSQN",
    "outputId": "c6726180-72cb-48dd-a1b2-4ddf3d4a1430",
    "scrolled": true
   },
   "outputs": [
    {
     "name": "stdout",
     "output_type": "stream",
     "text": [
      "Are we having fun yet? (file version)\n"
     ]
    }
   ],
   "source": [
    "# the same results can be obtained using the %run magic, with a slightly different syntax\n",
    "%run stuff/fun.py"
   ]
  },
  {
   "cell_type": "markdown",
   "metadata": {
    "id": "LX8yFX3NYSQN"
   },
   "source": [
    "More magic? Use the `quickref` command to list them all:"
   ]
  },
  {
   "cell_type": "code",
   "execution_count": null,
   "metadata": {
    "id": "cbhCIWt3YSQO"
   },
   "outputs": [],
   "source": [
    "# IPython - Quick Reference Card\n",
    "%quickref"
   ]
  },
  {
   "cell_type": "markdown",
   "metadata": {
    "id": "k5XCew-3YSQO"
   },
   "source": [
    "Even if writing programs with simple text editors is perfectly possible, life is much easier when you used an IDE (Integrated Development Environment) or a text editor on steroids. Desirable features of these environments include syntax highlighting, inspection capabilities, code profiling features, autocomplete, support for interactive shells, package managers and so forth.\n",
    "\n",
    "If you are not participating to the everlasting [editor war](https://en.wikipedia.org/wiki/Editor_war), or if you don't have experience with any IDE, you could consider using [Spyder](https://pythonhosted.org/spyder/), the IDE that comes with Anaconda [[Tutorial](http://www.southampton.ac.uk/~fangohr/blog/spyder-the-python-ide.html)].\n",
    "\n",
    "Some customizable text editors you might also like are [Sublime Text](https://www.sublimetext.com/) or [Atom](https://atom.io/) (Linux, macOS, Windows)."
   ]
  },
  {
   "cell_type": "markdown",
   "metadata": {
    "id": "2YA6GloAYSQO"
   },
   "source": [
    "## Variables\n",
    "\n",
    "Variables are reserved **memory locations** used by a computer program.\n",
    "\n",
    "Each variable is associated with an **identifier** (i.e. a name). Python restricts the naming possibilities of a variable:\n",
    "\n",
    "- identifier characters may be letters, digits or underscores...\n",
    "\n",
    "- ... but the first character cannot be a number\n",
    "\n",
    "- Python keywords cannot be used as identifiers"
   ]
  },
  {
   "cell_type": "code",
   "execution_count": null,
   "metadata": {
    "id": "qKwbEyI5YSQP",
    "outputId": "846b6385-c0b0-42a0-d6b7-a35bda1ec2a9"
   },
   "outputs": [
    {
     "name": "stdout",
     "output_type": "stream",
     "text": [
      "['False', 'None', 'True', 'and', 'as', 'assert', 'async', 'await', 'break', 'class', 'continue', 'def', 'del', 'elif', 'else', 'except', 'finally', 'for', 'from', 'global', 'if', 'import', 'in', 'is', 'lambda', 'nonlocal', 'not', 'or', 'pass', 'raise', 'return', 'try', 'while', 'with', 'yield']\n"
     ]
    }
   ],
   "source": [
    "# list of Python keywords\n",
    "import keyword\n",
    "print(keyword.kwlist)"
   ]
  },
  {
   "cell_type": "code",
   "execution_count": null,
   "metadata": {
    "id": "3vZRrUI4YSQP",
    "outputId": "f7a2e318-d87e-49d5-f79f-d722480f95af"
   },
   "outputs": [
    {
     "ename": "SyntaxError",
     "evalue": "cannot assign to None (<ipython-input-7-9d8c28c434e0>, line 2)",
     "output_type": "error",
     "traceback": [
      "\u001b[0;36m  File \u001b[0;32m\"<ipython-input-7-9d8c28c434e0>\"\u001b[0;36m, line \u001b[0;32m2\u001b[0m\n\u001b[0;31m    None = 10\u001b[0m\n\u001b[0m    ^\u001b[0m\n\u001b[0;31mSyntaxError\u001b[0m\u001b[0;31m:\u001b[0m cannot assign to None\n"
     ]
    }
   ],
   "source": [
    "# Nope.\n",
    "None = 10"
   ]
  },
  {
   "cell_type": "code",
   "execution_count": null,
   "metadata": {
    "id": "0reA8G6LYSQQ"
   },
   "outputs": [],
   "source": [
    "# Works, but please don't.\n",
    "none = 10"
   ]
  },
  {
   "cell_type": "code",
   "execution_count": null,
   "metadata": {
    "id": "3HmqM9sMYSQQ"
   },
   "outputs": [],
   "source": [
    "# What's wrong with you?!\n",
    "_None = 10"
   ]
  },
  {
   "cell_type": "markdown",
   "metadata": {
    "id": "iqvWip5OYSQQ"
   },
   "source": [
    "##### Python does not require variables to be declared explicitly\n",
    "\n",
    "Variables are created when you first assign a value to them.\n",
    "\n",
    "The symbol `=` is used to assign values to variables."
   ]
  },
  {
   "cell_type": "code",
   "execution_count": null,
   "metadata": {
    "id": "uWYBwGnPYSQR"
   },
   "outputs": [],
   "source": [
    "# let's associate the value 55 to the variable named \"a_number\"\n",
    "a_number = 55"
   ]
  },
  {
   "cell_type": "code",
   "execution_count": null,
   "metadata": {
    "id": "kqeJ7472YSQR",
    "outputId": "8c30544d-f8a9-453b-94a6-a6b0c542c1cf"
   },
   "outputs": [
    {
     "data": {
      "text/plain": [
       "int"
      ]
     },
     "execution_count": 11,
     "metadata": {},
     "output_type": "execute_result"
    }
   ],
   "source": [
    "# the type of value of the variable can be inspected with the function type()\n",
    "type(a_number)"
   ]
  },
  {
   "cell_type": "code",
   "execution_count": null,
   "metadata": {
    "id": "lz4qA1CXYSQS",
    "outputId": "dcb4e3be-eafe-49f7-ee70-219daf86a36c"
   },
   "outputs": [
    {
     "data": {
      "text/plain": [
       "4540387360"
      ]
     },
     "execution_count": 12,
     "metadata": {},
     "output_type": "execute_result"
    }
   ],
   "source": [
    "# the function id() returns the identity of the object's memory address\n",
    "id(a_number)"
   ]
  },
  {
   "cell_type": "markdown",
   "metadata": {
    "id": "SCWIyntiYSQS"
   },
   "source": [
    "##### Variable types can change during the execution of a command"
   ]
  },
  {
   "cell_type": "code",
   "execution_count": null,
   "metadata": {
    "id": "CFiDrT6_YSQT",
    "outputId": "2a3bc71f-43fc-4163-d13c-090cdaeea45c"
   },
   "outputs": [
    {
     "data": {
      "text/plain": [
       "str"
      ]
     },
     "execution_count": 13,
     "metadata": {},
     "output_type": "execute_result"
    }
   ],
   "source": [
    "# Let's convert our numerical variable into a digit (i.e. into text)\n",
    "a_number = str(a_number)\n",
    "a_number\n",
    "type(a_number)"
   ]
  },
  {
   "cell_type": "markdown",
   "metadata": {
    "id": "qXgEwGupYSQT"
   },
   "source": [
    "## Built-in data types\n",
    "\n",
    "Python natively supports the following basic types:\n",
    "\n",
    "- **Boolean**: *bool*\n",
    "\n",
    "- **None**: *NoneType*\n",
    "\n",
    "- **Numerical**: *int*, *float*, *long*, *complex*\n",
    "\n",
    "- **Sequence**: *string*, *list*, *tuple*\n",
    "\n",
    "- **Set**: *set*, *frozenset*\n",
    "\n",
    "- **Dictionaries**\n"
   ]
  },
  {
   "cell_type": "markdown",
   "metadata": {
    "id": "vqzukuYKYSQU"
   },
   "source": [
    "#### Mutable vs. Immutable objects\n",
    "\n",
    "Python data types can be organized by distinguishing those types whose objects can change after their creation (**Mutable**) and those that do not admit such possibility (**Immutable**)\n",
    "\n",
    "| Immutables|   Mutables|\n",
    "|:---------:|:---------:|\n",
    "|  Numerical|          -|\n",
    "|     String|          -|\n",
    "|      Tuple|       List|\n",
    "|  Frozenset|        Set|\n",
    "|          -| Dictionary|"
   ]
  },
  {
   "cell_type": "markdown",
   "metadata": {
    "id": "5csVZROyYSQU"
   },
   "source": [
    "### NoneType\n",
    "\n",
    "It has one sole value: `None`. It is used to represent the absence of a value.\n"
   ]
  },
  {
   "cell_type": "markdown",
   "metadata": {
    "id": "0CvtsTq0YSQU"
   },
   "source": [
    "### bool\n",
    "\n",
    "Boolean logical values, can be `True` or `False`.\n",
    "\n",
    "To be used to represent the truth or falsity of some condition."
   ]
  },
  {
   "cell_type": "markdown",
   "metadata": {
    "id": "1yAVo63KYSQU"
   },
   "source": [
    "#### Boolean Operators\n",
    "\n",
    "- **and**: conjunction\n",
    "- **or**: inclusive disjunction\n",
    "- **not**: negation"
   ]
  },
  {
   "cell_type": "code",
   "execution_count": null,
   "metadata": {
    "id": "4lyh9QC7YSQU",
    "outputId": "fb6532ff-3858-4b4d-9fd6-d4b577766f70"
   },
   "outputs": [
    {
     "data": {
      "text/plain": [
       "True"
      ]
     },
     "execution_count": 14,
     "metadata": {},
     "output_type": "execute_result"
    }
   ],
   "source": [
    "True and False or True"
   ]
  },
  {
   "cell_type": "markdown",
   "metadata": {
    "id": "va4MEiwwYSQV"
   },
   "source": [
    "### Numerical Types\n",
    "\n",
    "- **int**: integers, e.g. `92`\n",
    "- **long**: long integers of non-limited length, e.g. `15L`\n",
    "- **float**: floating-point numbers, e.g. `8.75638`\n",
    "- **complex**: complex numbers, e.g. `1.23+4.56j`\n",
    "\n",
    "\n"
   ]
  },
  {
   "cell_type": "markdown",
   "metadata": {
    "id": "NrJVov2cYSQV"
   },
   "source": [
    "#### Using Python as a Calculator\n",
    "\n",
    "The simplest way to perform calculations with Python is by using the interactive shell as a fancy calculator. \n",
    "\n",
    "Some of the operations supported by all the numeric types are:"
   ]
  },
  {
   "cell_type": "code",
   "execution_count": null,
   "metadata": {
    "id": "5jsSH-s8YSQV",
    "outputId": "57bf2494-1bf7-4d4b-e9bf-a63fbe0479df"
   },
   "outputs": [
    {
     "data": {
      "text/plain": [
       "8"
      ]
     },
     "execution_count": 15,
     "metadata": {},
     "output_type": "execute_result"
    }
   ],
   "source": [
    "# addition\n",
    "3 + 5"
   ]
  },
  {
   "cell_type": "code",
   "execution_count": null,
   "metadata": {
    "id": "jVFW6k_QYSQW",
    "outputId": "0c1703c0-4186-4e73-af87-236bd40e5b55"
   },
   "outputs": [
    {
     "data": {
      "text/plain": [
       "4"
      ]
     },
     "execution_count": 16,
     "metadata": {},
     "output_type": "execute_result"
    }
   ],
   "source": [
    "# difference\n",
    "9 - 5"
   ]
  },
  {
   "cell_type": "code",
   "execution_count": null,
   "metadata": {
    "id": "jBPp66CEYSQW",
    "outputId": "4b2d1fc1-f616-45ee-ee5f-b922a770cee4"
   },
   "outputs": [
    {
     "data": {
      "text/plain": [
       "450"
      ]
     },
     "execution_count": 17,
     "metadata": {},
     "output_type": "execute_result"
    }
   ],
   "source": [
    "# product\n",
    "9 * 50"
   ]
  },
  {
   "cell_type": "code",
   "execution_count": null,
   "metadata": {
    "id": "CMRx1MGFYSQY",
    "outputId": "8fd23e6b-a2bb-4916-a53f-053a34089e18"
   },
   "outputs": [
    {
     "data": {
      "text/plain": [
       "4.5"
      ]
     },
     "execution_count": 18,
     "metadata": {},
     "output_type": "execute_result"
    }
   ],
   "source": [
    "# quotient\n",
    "9 / 2"
   ]
  },
  {
   "cell_type": "markdown",
   "metadata": {
    "id": "LW_3aLHHYSQZ"
   },
   "source": [
    "> Note: In Python 2.x (but not in Python 3.x) integer division truncates the remainder and returns an integer (i.e. it calculates the so-called \"floored\" quotient)."
   ]
  },
  {
   "cell_type": "code",
   "execution_count": null,
   "metadata": {
    "id": "5toAR9YSYSQZ",
    "outputId": "7163306f-e486-4921-a9b8-8176a9f53e07"
   },
   "outputs": [
    {
     "data": {
      "text/plain": [
       "4"
      ]
     },
     "execution_count": 19,
     "metadata": {},
     "output_type": "execute_result"
    }
   ],
   "source": [
    "# Floor division gives us the default behavior of division in Python 2\n",
    "9 // 2"
   ]
  },
  {
   "cell_type": "code",
   "execution_count": null,
   "metadata": {
    "id": "hz2tbBaOYSQZ",
    "outputId": "153df3b6-4624-4f08-ede7-89e815d533e6"
   },
   "outputs": [
    {
     "data": {
      "text/plain": [
       "1"
      ]
     },
     "execution_count": 20,
     "metadata": {},
     "output_type": "execute_result"
    }
   ],
   "source": [
    "# the remainder of the floored quotient\n",
    "9 % 2"
   ]
  },
  {
   "cell_type": "code",
   "execution_count": null,
   "metadata": {
    "id": "tfbGJts9YSQa",
    "outputId": "27f00ea2-1c62-43b0-9fcd-d60b188288a7"
   },
   "outputs": [
    {
     "data": {
      "text/plain": [
       "9"
      ]
     },
     "execution_count": 21,
     "metadata": {},
     "output_type": "execute_result"
    }
   ],
   "source": [
    "# x to the power of y\n",
    "3 ** 2"
   ]
  },
  {
   "cell_type": "code",
   "execution_count": null,
   "metadata": {
    "id": "oQWlz8RbYSQa",
    "outputId": "c532c28e-b244-4a5f-ca7c-e42213adaf65"
   },
   "outputs": [
    {
     "data": {
      "text/plain": [
       "1.765"
      ]
     },
     "execution_count": 22,
     "metadata": {},
     "output_type": "execute_result"
    }
   ],
   "source": [
    "# Round a number to a given precision in decimal digits (default 0 digits)\n",
    "round(1.765432, 3)"
   ]
  },
  {
   "cell_type": "markdown",
   "metadata": {
    "id": "Hn9C1YXRYSQa"
   },
   "source": [
    "---"
   ]
  },
  {
   "cell_type": "markdown",
   "metadata": {
    "id": "8S0i69QIYSQa"
   },
   "source": [
    "### Quiz\n",
    "\n",
    "Calculate the number of seconds we're going to spend in this classroom together."
   ]
  },
  {
   "cell_type": "code",
   "execution_count": null,
   "metadata": {
    "id": "nMKyUVJYYSQa"
   },
   "outputs": [],
   "source": [
    "# your code here"
   ]
  },
  {
   "cell_type": "markdown",
   "metadata": {
    "id": "tHlTMdcJYSQb"
   },
   "source": [
    "---"
   ]
  },
  {
   "cell_type": "markdown",
   "metadata": {
    "id": "DB4macD4YSQb"
   },
   "source": [
    "While the previous operators produce new variables, the following perform the operation **in-place**. \n",
    "\n",
    "That is, the variable itself is changed in the result of the process."
   ]
  },
  {
   "cell_type": "code",
   "execution_count": null,
   "metadata": {
    "id": "pChlWTP6YSQb"
   },
   "outputs": [],
   "source": [
    "# our variable\n",
    "a_number = 8"
   ]
  },
  {
   "cell_type": "code",
   "execution_count": null,
   "metadata": {
    "id": "iCiwjuetYSQb",
    "outputId": "ecdce183-2f84-4d5f-d594-e6ec6cb6641c"
   },
   "outputs": [
    {
     "data": {
      "text/plain": [
       "11"
      ]
     },
     "execution_count": 25,
     "metadata": {},
     "output_type": "execute_result"
    }
   ],
   "source": [
    "# IN PLACE addition\n",
    "a_number += 3\n",
    "a_number"
   ]
  },
  {
   "cell_type": "code",
   "execution_count": null,
   "metadata": {
    "id": "YrwyQd7MYSQb",
    "outputId": "ec4422e7-95ef-40eb-c05c-877d64cbc7c4"
   },
   "outputs": [
    {
     "data": {
      "text/plain": [
       "8"
      ]
     },
     "execution_count": 26,
     "metadata": {},
     "output_type": "execute_result"
    }
   ],
   "source": [
    "# IN PLACE subtraction\n",
    "a_number -= 3\n",
    "a_number"
   ]
  },
  {
   "cell_type": "code",
   "execution_count": null,
   "metadata": {
    "id": "0ErHsHcyYSQb",
    "outputId": "5eef7744-12a7-4ab0-a80f-9ba6e769ddfa"
   },
   "outputs": [
    {
     "data": {
      "text/plain": [
       "24"
      ]
     },
     "execution_count": 27,
     "metadata": {},
     "output_type": "execute_result"
    }
   ],
   "source": [
    "# IN PLACE multiplication\n",
    "a_number *= 3\n",
    "a_number"
   ]
  },
  {
   "cell_type": "code",
   "execution_count": null,
   "metadata": {
    "id": "M8l7RtUzYSQc",
    "outputId": "a92236fe-ba21-4f8f-c431-12806867958a"
   },
   "outputs": [
    {
     "data": {
      "text/plain": [
       "8.0"
      ]
     },
     "execution_count": 28,
     "metadata": {},
     "output_type": "execute_result"
    }
   ],
   "source": [
    "# IN PLACE division\n",
    "a_number /= 3\n",
    "a_number"
   ]
  },
  {
   "cell_type": "code",
   "execution_count": null,
   "metadata": {
    "id": "bve40B7JYSQc",
    "outputId": "ec25ebc6-e506-448b-a587-ef9ec773ec76"
   },
   "outputs": [
    {
     "data": {
      "text/plain": [
       "2.0"
      ]
     },
     "execution_count": 29,
     "metadata": {},
     "output_type": "execute_result"
    }
   ],
   "source": [
    "# IN PLACE modulus\n",
    "a_number %= 3\n",
    "a_number"
   ]
  },
  {
   "cell_type": "markdown",
   "metadata": {
    "id": "7ufV4nVXYSQc"
   },
   "source": [
    "### Relational Operators\n",
    "\n",
    "Comparisons are supported by all objects. The main comparison operators are:\n",
    "\n",
    "|   Operator|                Semantics|\n",
    "|:---------:|:-----------------------:|\n",
    "|         ==|                    equal|\n",
    "|         !=|                not equal|\n",
    "|          <|                less-than|\n",
    "|         <=|    less-than or equal to|\n",
    "|          >|             greater-then|\n",
    "|         >=| greater-then or equal to|\n",
    "|         is| object identity|\n",
    "|         is not| negated object identity|\n",
    "\n",
    "Relational operators are used to **test conditions**, and the output is a boolean value"
   ]
  },
  {
   "cell_type": "code",
   "execution_count": null,
   "metadata": {
    "id": "8UMRmIeiYSQc",
    "outputId": "fb600dab-2f6a-412b-e0c3-70d2220c5c1f"
   },
   "outputs": [
    {
     "data": {
      "text/plain": [
       "False"
      ]
     },
     "execution_count": 30,
     "metadata": {},
     "output_type": "execute_result"
    }
   ],
   "source": [
    "# is 7 bigger than 9?\n",
    "7 > 9"
   ]
  },
  {
   "cell_type": "markdown",
   "metadata": {
    "id": "jiSRPMQDYSQd"
   },
   "source": [
    "NOTE: `is` checks if two things **are the same object**, not just if they are equal"
   ]
  },
  {
   "cell_type": "code",
   "execution_count": null,
   "metadata": {
    "id": "AhOEq7pgYSQd",
    "outputId": "13bf293c-e2aa-4c1a-fd49-6c8579cc59cc"
   },
   "outputs": [
    {
     "name": "stdout",
     "output_type": "stream",
     "text": [
      "True\n",
      "False\n"
     ]
    },
    {
     "name": "stderr",
     "output_type": "stream",
     "text": [
      "<>:3: SyntaxWarning: \"is\" with a literal. Did you mean \"==\"?\n",
      "<>:3: SyntaxWarning: \"is\" with a literal. Did you mean \"==\"?\n",
      "<ipython-input-48-e183d8e41538>:3: SyntaxWarning: \"is\" with a literal. Did you mean \"==\"?\n",
      "  print(False is 0)\n"
     ]
    }
   ],
   "source": [
    "# the value 0 (of any numerical type) is considered to be False, but 0 is not False\n",
    "print(False == 0)\n",
    "print(False is 0)\n",
    "# PS if you get a SyntaxWarning, this was introduced in 3.8 to help avoid mistaking == for is "
   ]
  },
  {
   "cell_type": "markdown",
   "metadata": {
    "id": "yDThUReFYSQd"
   },
   "source": [
    "---"
   ]
  },
  {
   "cell_type": "markdown",
   "metadata": {
    "id": "WFannVeMYSQd"
   },
   "source": [
    "### Quiz\n",
    "\n",
    "use the function `id()` to explain the behavior of `is`"
   ]
  },
  {
   "cell_type": "code",
   "execution_count": null,
   "metadata": {
    "id": "7Y_zcMTOYSQd"
   },
   "outputs": [],
   "source": [
    "# your code here"
   ]
  },
  {
   "cell_type": "markdown",
   "metadata": {
    "id": "CeQ8cRiIYSQd"
   },
   "source": [
    "---"
   ]
  },
  {
   "cell_type": "markdown",
   "metadata": {
    "id": "NvnEa3QgYSQe"
   },
   "source": [
    "## Sequences\n",
    "\n",
    "We will focus on three types of sequences: **strings**, **lists** and **tuples** (see the [documentation](https://docs.python.org/2/library/stdtypes.html#sequence-types-str-unicode-list-tuple-bytearray-buffer-xrange) for the full list). \n",
    "\n",
    "Most sequence types support the following operations (where `s` and `t` are sequences, `n`, `i` and `j` integers):\n",
    "\n",
    "|   Operation|                Result|\n",
    "|:----------:|:-----------------------:|\n",
    "|      x in s|  True if an item of s is equal to x|\n",
    "|  x not in s|  False if an item of s is equal to x|\n",
    "|       s + t| Concatenation of s and t|\n",
    "|       s * n|   add s to itself n times (negative n are treated as 0)|\n",
    "|        s[i]|\tith item of s, origin 0|\n",
    "|      s[i:j]|   slice of s from i to j|\n",
    "|    s[i:j:k]| slice of s from i to j with step k|\n",
    "|      len(s)| length of s|\t \n",
    "|      min(s)| smallest item of s|\n",
    "|      max(s)| largest item of s|\n",
    "|  s.index(x)| index of the first occurrence of x in s |\n",
    "|  s.count(x)| total number of occurrences of x in s|"
   ]
  },
  {
   "cell_type": "markdown",
   "metadata": {
    "id": "--oT_9VbYSQe"
   },
   "source": [
    "### Lists\n",
    "\n",
    "\n",
    "Lists are **ordered** **mutable** sequences of **heterogeneous** elements.\n",
    "\n",
    "In the Python language, lists are defined by square brackets `[]` and their elements are separated by commas."
   ]
  },
  {
   "cell_type": "code",
   "execution_count": null,
   "metadata": {
    "id": "UjX9UZiCYSQe",
    "outputId": "79463b15-21db-4b08-b77d-8a666452f7bd"
   },
   "outputs": [
    {
     "name": "stdout",
     "output_type": "stream",
     "text": [
      "['text', 23, 92, 'another_text', [1, 2, 3]]\n"
     ]
    }
   ],
   "source": [
    "# lists can contain different types of objects (even another list like [1,2,3])\n",
    "demo_list = [\"text\", 23, 92, \"another_text\", [1,2,3]]\n",
    "print(demo_list)"
   ]
  },
  {
   "cell_type": "code",
   "execution_count": null,
   "metadata": {
    "id": "XZmrFW4WYSQe",
    "outputId": "57baad99-53f4-473d-ebe2-f6070938d2c1"
   },
   "outputs": [
    {
     "data": {
      "text/plain": [
       "5"
      ]
     },
     "execution_count": 34,
     "metadata": {},
     "output_type": "execute_result"
    }
   ],
   "source": [
    "# len() returns the length of the list\n",
    "len(demo_list)"
   ]
  },
  {
   "cell_type": "code",
   "execution_count": null,
   "metadata": {
    "id": "3JCTn_3QYSQe",
    "outputId": "e08d9f25-d1d0-4672-e3ea-4bf3dd5d2c12"
   },
   "outputs": [
    {
     "data": {
      "text/plain": [
       "True"
      ]
     },
     "execution_count": 35,
     "metadata": {},
     "output_type": "execute_result"
    }
   ],
   "source": [
    "# membership verification (return a boolean value)\n",
    "23 in demo_list"
   ]
  },
  {
   "cell_type": "code",
   "execution_count": null,
   "metadata": {
    "id": "t_c7bjXJYSQf",
    "outputId": "d6c57fbc-69b1-42dd-d688-1ea11880ad1e"
   },
   "outputs": [
    {
     "data": {
      "text/plain": [
       "['text',\n",
       " 23,\n",
       " 92,\n",
       " 'another_text',\n",
       " [1, 2, 3],\n",
       " 'text',\n",
       " 23,\n",
       " 92,\n",
       " 'another_text',\n",
       " [1, 2, 3]]"
      ]
     },
     "execution_count": 36,
     "metadata": {},
     "output_type": "execute_result"
    }
   ],
   "source": [
    "# concatenation\n",
    "new_demo_list = demo_list + demo_list\n",
    "new_demo_list"
   ]
  },
  {
   "cell_type": "code",
   "execution_count": null,
   "metadata": {
    "id": "4_7998nPYSQf",
    "outputId": "5a05e27e-40a6-49ae-8f6b-acdd47767a54"
   },
   "outputs": [
    {
     "data": {
      "text/plain": [
       "['text',\n",
       " 23,\n",
       " 92,\n",
       " 'another_text',\n",
       " [1, 2, 3],\n",
       " 'text',\n",
       " 23,\n",
       " 92,\n",
       " 'another_text',\n",
       " [1, 2, 3],\n",
       " 'text',\n",
       " 23,\n",
       " 92,\n",
       " 'another_text',\n",
       " [1, 2, 3]]"
      ]
     },
     "execution_count": 37,
     "metadata": {},
     "output_type": "execute_result"
    }
   ],
   "source": [
    "# repetition\n",
    "new_demo_list = demo_list * 3\n",
    "new_demo_list"
   ]
  },
  {
   "cell_type": "markdown",
   "metadata": {
    "id": "a4bQz5yrYSQf"
   },
   "source": [
    "#### Lists are ordered"
   ]
  },
  {
   "cell_type": "code",
   "execution_count": null,
   "metadata": {
    "id": "fDpxm1MoYSQg",
    "outputId": "ce6afc7c-0539-4bf3-e050-6711490c1724"
   },
   "outputs": [
    {
     "data": {
      "text/plain": [
       "'text'"
      ]
     },
     "execution_count": 38,
     "metadata": {},
     "output_type": "execute_result"
    }
   ],
   "source": [
    "# lists are ordered, elements can be recalled by using their index (remember that the index of the first element is 0)\n",
    "demo_list[0]"
   ]
  },
  {
   "cell_type": "code",
   "execution_count": null,
   "metadata": {
    "id": "MmK8xyCNYSQg",
    "outputId": "9d0402ce-5559-4de1-9fe9-a11660743258"
   },
   "outputs": [
    {
     "data": {
      "text/plain": [
       "[1, 2, 3]"
      ]
     },
     "execution_count": 39,
     "metadata": {},
     "output_type": "execute_result"
    }
   ],
   "source": [
    "# the index \"-1\" is associated with the last element\n",
    "demo_list[-1]"
   ]
  },
  {
   "cell_type": "code",
   "execution_count": null,
   "metadata": {
    "id": "VtfF189JYSQg",
    "outputId": "77caebaa-0563-470e-f3dd-7ff03b40b5c9"
   },
   "outputs": [
    {
     "data": {
      "text/plain": [
       "1"
      ]
     },
     "execution_count": 40,
     "metadata": {},
     "output_type": "execute_result"
    }
   ],
   "source": [
    "# check the position of the element \"23\"\n",
    "demo_list.index(23)"
   ]
  },
  {
   "cell_type": "markdown",
   "metadata": {
    "id": "FpC-1S7MYSQg"
   },
   "source": [
    "#### Slicing\n",
    "\n",
    "\n",
    "Slicing is a **computationally fast** way to extract a portion of a sequence in order to create a new sequence. \n",
    "\n",
    "Slicing Notation works in the following way:\n",
    "\n",
    "\n",
    "```python\n",
    "sequence[start:stop:step]\n",
    "```"
   ]
  },
  {
   "cell_type": "markdown",
   "metadata": {
    "id": "FQE-RkWLYSQg"
   },
   "source": [
    "##### Slicing rules\n",
    "\n",
    "- The slice of the sequence `s` from `start` to `stop` is defined as the sequence of items with index `k` such that `start` <= `k` < `stop`. \n",
    "\n",
    "\n",
    "- If `start` or `stop` is greater than len(`s`), use len(`s`). \n",
    "\n",
    "\n",
    "- If `start` is omitted or `None`, use 0. \n",
    "\n",
    "\n",
    "- If `stop` is omitted or `None`, use len(`s`). \n",
    "\n",
    "\n",
    "- If `start` or `stop` is negative, the index is relative to the end of sequence."
   ]
  },
  {
   "cell_type": "markdown",
   "metadata": {
    "id": "sNjPy2hCYSQh"
   },
   "source": [
    "![alt text](https://github.com/bloemj/AUC_TMCI_2022/blob/main/notebooks/images/list-slicing.png?raw=1)"
   ]
  },
  {
   "cell_type": "code",
   "execution_count": null,
   "metadata": {
    "id": "3DELgASyYSQh",
    "outputId": "30423c69-c4f8-4173-8a5c-8dd2d4b9e46b"
   },
   "outputs": [
    {
     "name": "stdout",
     "output_type": "stream",
     "text": [
      "['text', 23, 92, 'another_text', [1, 2, 3]]\n"
     ]
    }
   ],
   "source": [
    "print(demo_list)"
   ]
  },
  {
   "cell_type": "code",
   "execution_count": null,
   "metadata": {
    "id": "gQRGvcwJYSQh",
    "outputId": "e3c9e429-9aa2-4b31-f190-3de407866a6a"
   },
   "outputs": [
    {
     "data": {
      "text/plain": [
       "[23, 92]"
      ]
     },
     "execution_count": 42,
     "metadata": {},
     "output_type": "execute_result"
    }
   ],
   "source": [
    "# slicing with positive indices \n",
    "demo_list[1:3]"
   ]
  },
  {
   "cell_type": "code",
   "execution_count": null,
   "metadata": {
    "id": "TbR6NrZ5YSQh",
    "outputId": "1831bd94-a240-4402-a000-3116d01b6621"
   },
   "outputs": [
    {
     "data": {
      "text/plain": [
       "[92, 'another_text']"
      ]
     },
     "execution_count": 43,
     "metadata": {},
     "output_type": "execute_result"
    }
   ],
   "source": [
    "# slicing works with negative indices as well \n",
    "demo_list[-3:-1]"
   ]
  },
  {
   "cell_type": "code",
   "execution_count": null,
   "metadata": {
    "id": "_LKCAtutYSQh",
    "outputId": "6e7d2fbf-2a30-4ae3-cc8a-cbcdb93d6a55"
   },
   "outputs": [
    {
     "data": {
      "text/plain": [
       "[23, 92]"
      ]
     },
     "execution_count": 44,
     "metadata": {},
     "output_type": "execute_result"
    }
   ],
   "source": [
    "# slicing works with a mixture of positive and negative indices\n",
    "demo_list[1:-2]"
   ]
  },
  {
   "cell_type": "code",
   "execution_count": null,
   "metadata": {
    "id": "B4bYh2ifYSQi",
    "outputId": "816e1689-2732-4ced-b731-0763bb6f6848"
   },
   "outputs": [
    {
     "data": {
      "text/plain": [
       "[92, 'another_text', [1, 2, 3]]"
      ]
     },
     "execution_count": 45,
     "metadata": {},
     "output_type": "execute_result"
    }
   ],
   "source": [
    "# if an index is omitted, Python reaches the first or the last element of the list\n",
    "demo_list[2:]"
   ]
  },
  {
   "cell_type": "code",
   "execution_count": null,
   "metadata": {
    "id": "S1y3zBmmYSQi",
    "outputId": "85976dd6-a98c-48b0-8ee0-af6ce60d5818"
   },
   "outputs": [
    {
     "data": {
      "text/plain": [
       "['text', 23, 92]"
      ]
     },
     "execution_count": 46,
     "metadata": {},
     "output_type": "execute_result"
    }
   ],
   "source": [
    "# the same as above, with the first index omitted\n",
    "demo_list[:3]"
   ]
  },
  {
   "cell_type": "code",
   "execution_count": null,
   "metadata": {
    "id": "NWT6UfO-YSQi",
    "outputId": "9883a140-3575-45df-fb40-a93b91568ba2"
   },
   "outputs": [
    {
     "data": {
      "text/plain": [
       "[23, 'another_text']"
      ]
     },
     "execution_count": 47,
     "metadata": {},
     "output_type": "execute_result"
    }
   ],
   "source": [
    "# slicing with steps\n",
    "demo_list[1::2]"
   ]
  },
  {
   "cell_type": "markdown",
   "metadata": {
    "id": "SOUWkL-3YSQi"
   },
   "source": [
    "---"
   ]
  },
  {
   "cell_type": "markdown",
   "metadata": {
    "id": "UiqS8nwDYSQi"
   },
   "source": [
    "### Quiz\n",
    "\n",
    "The following code creates a list whose length is a-priori unknown. Extract:\n",
    "\n",
    "- the last element of the list by using a positive index\n",
    "\n",
    "\n",
    "- the first element of the list by using a negative index"
   ]
  },
  {
   "cell_type": "code",
   "execution_count": 13,
   "metadata": {
    "id": "-izJy8eMYSQi",
    "outputId": "ab94eb99-7b95-4f11-8918-270d9d0bf4b4"
   },
   "outputs": [
    {
     "data": {
      "text/plain": [
       "[74, 40, 59, 94, 72, 85, 64, 54, 41, 70, 98, 82]"
      ]
     },
     "execution_count": 13,
     "metadata": {},
     "output_type": "execute_result"
    }
   ],
   "source": [
    "import random  # built-in package\n",
    "\n",
    "random_number_list = []\n",
    "for i in range(15):\n",
    "    random_number = random.randint(1, 99)\n",
    "    if random_number > 32:\n",
    "      random_number_list.append(random_number)\n",
    "\n",
    "random_number_list"
   ]
  },
  {
   "cell_type": "code",
   "execution_count": null,
   "metadata": {
    "id": "-0BtUM0VYSQj"
   },
   "outputs": [],
   "source": [
    "# your code here"
   ]
  },
  {
   "cell_type": "markdown",
   "metadata": {
    "id": "rEzcDJN-YSQj"
   },
   "source": [
    "---"
   ]
  },
  {
   "cell_type": "markdown",
   "metadata": {
    "id": "NEUf_7OQYSQj"
   },
   "source": [
    "#### Lists are mutable\n",
    "\n",
    "Lists methods allows you to manipulate the elements stored in the list quickly and effectively."
   ]
  },
  {
   "cell_type": "code",
   "execution_count": null,
   "metadata": {
    "id": "HnnHIduhYSQj",
    "outputId": "e2d52f27-2837-4f3a-cf8e-04e7df710972"
   },
   "outputs": [
    {
     "name": "stdout",
     "output_type": "stream",
     "text": [
      "['text', 23, 92, 'another_text', [1, 2, 3], 'appended']\n"
     ]
    }
   ],
   "source": [
    "# the method .append() allows you to add an element at the end of the list\n",
    "# Equivalent to `demo_list[len(demo_list):] = [\"appended\"]`\n",
    "demo_list.append(\"appended\")\n",
    "print(demo_list)"
   ]
  },
  {
   "cell_type": "code",
   "execution_count": null,
   "metadata": {
    "id": "7dBZN2O7YSQj",
    "outputId": "538b6fed-43f8-4f29-84ac-0692394a6286"
   },
   "outputs": [
    {
     "name": "stdout",
     "output_type": "stream",
     "text": [
      "['text', 23, 92, 'another_text', [1, 2, 3], 'appended', 'elements', 'of', 'another', 'list']\n"
     ]
    }
   ],
   "source": [
    "# the method .extend() allows you to add all the elements of a second list\n",
    "demo_list.extend([\"elements\",\"of\",\"another\",\"list\"])\n",
    "print(demo_list)"
   ]
  },
  {
   "cell_type": "code",
   "execution_count": null,
   "metadata": {
    "id": "coMww0xpYSQj",
    "outputId": "6e9fa463-5070-416f-ce08-f52d0d60bb58"
   },
   "outputs": [
    {
     "name": "stdout",
     "output_type": "stream",
     "text": [
      "['text', 23, 92, 'another_text', [1, 2, 3], 'elements', 'of', 'another', 'list']\n"
     ]
    }
   ],
   "source": [
    "# the method .remove() allows you to remove a given elements from a list\n",
    "demo_list.remove(\"appended\")\n",
    "print(demo_list)"
   ]
  },
  {
   "cell_type": "markdown",
   "metadata": {
    "id": "GrrtJxwTYSQk"
   },
   "source": [
    "**Bonus question: What happens if the list contained duplicates of the removed element?**"
   ]
  },
  {
   "cell_type": "code",
   "execution_count": null,
   "metadata": {
    "id": "u3_r4ZxyYSQk",
    "outputId": "89789a49-5390-4415-ae40-25f6fc99222a"
   },
   "outputs": [
    {
     "name": "stdout",
     "output_type": "stream",
     "text": [
      "['list', 'another', 'of', 'elements', [1, 2, 3], 'another_text', 92, 23, 'text']\n"
     ]
    }
   ],
   "source": [
    "# the method .reverse() reverses a list IN PLACE (i.e. the original list is modified)\n",
    "demo_list.reverse()\n",
    "print(demo_list)"
   ]
  },
  {
   "cell_type": "code",
   "execution_count": null,
   "metadata": {
    "id": "ersTAl0gYSQk",
    "outputId": "53c2effa-86f2-464b-e636-9cda18235d2b"
   },
   "outputs": [
    {
     "name": "stdout",
     "output_type": "stream",
     "text": [
      "['list', 'new_text', 7, 38, 'elements', [1, 2, 3], 'another_text', 92, 23, 'text']\n"
     ]
    }
   ],
   "source": [
    "# slicing can be used also to replace elements in a list\n",
    "demo_list[1:3] = [\"new_text\", 7, 38]\n",
    "print(demo_list)"
   ]
  },
  {
   "cell_type": "code",
   "execution_count": null,
   "metadata": {
    "id": "HEzswr1FYSQk",
    "outputId": "00e78a20-7fa7-4318-de7f-5f3a6e5b8884"
   },
   "outputs": [
    {
     "name": "stdout",
     "output_type": "stream",
     "text": [
      "['list', 'new_text', 7, 38, 'another_text', 92, 23, 'text']\n"
     ]
    }
   ],
   "source": [
    "# slicing can be used to delete elements\n",
    "demo_list[4:6] = []\n",
    "print(demo_list)"
   ]
  },
  {
   "cell_type": "code",
   "execution_count": null,
   "metadata": {
    "id": "5DqrzwNJYSQk",
    "outputId": "cc040e11-d275-4916-ff7e-f467937f5422"
   },
   "outputs": [
    {
     "data": {
      "text/plain": [
       "[1, 8, 9, 33, 56, 220]"
      ]
     },
     "execution_count": 59,
     "metadata": {},
     "output_type": "execute_result"
    }
   ],
   "source": [
    "# the method .sort() order a list (NOTE: the list elements must be of the same type)\n",
    "homogeneous_list = [1,56,33,8,220,9]\n",
    "homogeneous_list.sort()\n",
    "homogeneous_list"
   ]
  },
  {
   "cell_type": "code",
   "execution_count": null,
   "metadata": {
    "id": "f4uwhfSFYSQk",
    "outputId": "254bd214-7813-4896-c463-a5119d81926c"
   },
   "outputs": [
    {
     "data": {
      "text/plain": [
       "['ant', 'canary', 'elephant', 'hippo', 'kangaroo', 'narwhal', 'raccoon', 'yak']"
      ]
     },
     "execution_count": 60,
     "metadata": {},
     "output_type": "execute_result"
    }
   ],
   "source": [
    "# lists of strings can be sorted as well\n",
    "homogeneous_list = [\"canary\", \"hippo\", \"kangaroo\", \"narwhal\", \"elephant\", \"raccoon\", \"yak\", \"ant\"]\n",
    "homogeneous_list.sort()\n",
    "homogeneous_list"
   ]
  },
  {
   "cell_type": "markdown",
   "metadata": {
    "id": "-D8RAWnxYSQl"
   },
   "source": [
    "---"
   ]
  },
  {
   "cell_type": "markdown",
   "metadata": {
    "id": "_v1bPYwvYSQl"
   },
   "source": [
    "### Quiz\n",
    "\n",
    "Explain the sorting of the following list:"
   ]
  },
  {
   "cell_type": "code",
   "execution_count": null,
   "metadata": {
    "id": "2JQo1xvnYSQl",
    "outputId": "8e7a6da5-d4d9-46bc-9426-4e05e5cae68f"
   },
   "outputs": [
    {
     "data": {
      "text/plain": [
       "['1', '220', '33', '56', '8', '9']"
      ]
     },
     "execution_count": 61,
     "metadata": {},
     "output_type": "execute_result"
    }
   ],
   "source": [
    "homogeneous_list =[\"1\", \"56\", \"33\", \"8\", \"220\", \"9\"]\n",
    "homogeneous_list.sort()\n",
    "homogeneous_list"
   ]
  },
  {
   "cell_type": "markdown",
   "metadata": {
    "id": "_rF8IPQ9YSQl"
   },
   "source": [
    "---"
   ]
  },
  {
   "cell_type": "markdown",
   "metadata": {
    "id": "OVR0YkKWYSQl"
   },
   "source": [
    "#### Lists of numbers\n",
    "\n",
    "Lists of numbers can be manipulated by additional functions, among which **max()**, **min()** and **sum**"
   ]
  },
  {
   "cell_type": "code",
   "execution_count": null,
   "metadata": {
    "id": "NluZ0JmRYSQm",
    "outputId": "f0e5cb01-5282-440f-f2e0-7d9e77be613c"
   },
   "outputs": [
    {
     "name": "stdout",
     "output_type": "stream",
     "text": [
      "9\n",
      "2\n",
      "31\n"
     ]
    }
   ],
   "source": [
    "some_numbers = [4, 8, 2, 6, 2, 9]\n",
    "print(max(some_numbers))\n",
    "print(min(some_numbers))\n",
    "print(sum(some_numbers))"
   ]
  },
  {
   "cell_type": "markdown",
   "metadata": {
    "id": "QHGc80qbYSQm"
   },
   "source": [
    "---"
   ]
  },
  {
   "cell_type": "markdown",
   "metadata": {
    "id": "vwjIDFu0YSQm"
   },
   "source": [
    "### Quiz\n",
    "\n",
    "Compute the average of `some_numbers`:"
   ]
  },
  {
   "cell_type": "code",
   "execution_count": null,
   "metadata": {
    "id": "NpJmoJu1YSQm"
   },
   "outputs": [],
   "source": [
    "# your code here"
   ]
  },
  {
   "cell_type": "markdown",
   "metadata": {
    "id": "_Q4NTHkCYSQm"
   },
   "source": [
    "---"
   ]
  },
  {
   "cell_type": "markdown",
   "metadata": {
    "id": "PwoBr0aRYSQn"
   },
   "source": [
    "### Tuples\n",
    "\n",
    "Tuples are the **immutable** counterpart of the lists. \n",
    "\n",
    "They are defined by round brackets `()` and they mainly differ from the list in that they do not accept those methods that tries to manipulate its elements.\n"
   ]
  },
  {
   "cell_type": "code",
   "execution_count": null,
   "metadata": {
    "id": "TKv40hdXYSQn",
    "outputId": "8f8865c1-fb5f-4864-abc1-95a54ed577fc"
   },
   "outputs": [
    {
     "name": "stdout",
     "output_type": "stream",
     "text": [
      "('text', 23, 92, 'another_text', [1, 2, 3])\n"
     ]
    }
   ],
   "source": [
    "# tuples can contain different types of objects (even another list like [1,2,3])\n",
    "demo_tuple = (\"text\", 23, 92, \"another_text\", [1,2,3])\n",
    "print(demo_tuple)"
   ]
  },
  {
   "cell_type": "code",
   "execution_count": null,
   "metadata": {
    "id": "7IEUMSmDYSQn",
    "outputId": "d26fd2ed-5bb7-45e7-b071-ecaab4039142"
   },
   "outputs": [
    {
     "data": {
      "text/plain": [
       "(23, 92)"
      ]
     },
     "execution_count": 51,
     "metadata": {},
     "output_type": "execute_result"
    }
   ],
   "source": [
    "# elements can be accessed on the basis of their index...\n",
    "demo_tuple[1:3]"
   ]
  },
  {
   "cell_type": "code",
   "execution_count": null,
   "metadata": {
    "id": "v93N7SX7YSQo",
    "outputId": "41483f61-60b0-4089-bb0c-cd7130d4c882"
   },
   "outputs": [
    {
     "name": "stdout",
     "output_type": "stream",
     "text": [
      "'tuple' object does not support item assignment\n"
     ]
    }
   ],
   "source": [
    "# ...but they cannot be replaces\n",
    "try:\n",
    "    demo_tuple[1] = 2\n",
    "except TypeError as e:\n",
    "    print(e)"
   ]
  },
  {
   "cell_type": "markdown",
   "metadata": {
    "id": "nNO8HdPeYSQp"
   },
   "source": [
    "### Strings\n",
    "\n",
    "Strings are **immutable**, sequences of characters (so, they are **homogeneus**)\n",
    "\n",
    "In the Python language, strings are defined by single `'` or double quotes `\"`,  and their elements are continguous."
   ]
  },
  {
   "cell_type": "code",
   "execution_count": null,
   "metadata": {
    "id": "mrchuZn8YSQp",
    "outputId": "071860db-2e00-4828-d19e-59ee6adb7208"
   },
   "outputs": [
    {
     "name": "stdout",
     "output_type": "stream",
     "text": [
      "Does Cersei have any friends?\n"
     ]
    }
   ],
   "source": [
    "demo_string = \"Does Cersei have any friends?\"\n",
    "print(demo_string)"
   ]
  },
  {
   "cell_type": "code",
   "execution_count": null,
   "metadata": {
    "id": "P0z8UEXnYSQq",
    "outputId": "d9ad9051-4d0d-467b-adf0-463829f2459c"
   },
   "outputs": [
    {
     "data": {
      "text/plain": [
       "True"
      ]
     },
     "execution_count": 54,
     "metadata": {},
     "output_type": "execute_result"
    }
   ],
   "source": [
    "# using single or double quotes is indifferent\n",
    "demo_string_single = 'Does Cersei have any friends?'\n",
    "demo_string == demo_string_single"
   ]
  },
  {
   "cell_type": "code",
   "execution_count": null,
   "metadata": {
    "id": "FqmfTdkmYSQq",
    "outputId": "ed11f6e0-dc5e-4297-f27b-f332712a3279"
   },
   "outputs": [
    {
     "name": "stdout",
     "output_type": "stream",
     "text": [
      "False\n",
      "\"1979\" type is: <class 'str'>\n",
      "1979 type is:<class 'int'>\n"
     ]
    }
   ],
   "source": [
    "# Remember: Digits =/= numbers! (frequent source of debugging frustration)\n",
    "print (type(\"1979\") == type(1979))\n",
    "print ('\"1979\" type is: ' + str(type(\"1979\")))\n",
    "print ('1979 type is:' + str(type(1979)))"
   ]
  },
  {
   "cell_type": "markdown",
   "metadata": {
    "id": "K80AiIHZYSQq"
   },
   "source": [
    "By being immutable sequences, strings accept all the sequences methods, but they not support item assignment:"
   ]
  },
  {
   "cell_type": "code",
   "execution_count": null,
   "metadata": {
    "id": "dse_Wr9kYSQq",
    "outputId": "62c0d620-a0e4-444c-e238-474f37863962"
   },
   "outputs": [
    {
     "data": {
      "text/plain": [
       "29"
      ]
     },
     "execution_count": 56,
     "metadata": {},
     "output_type": "execute_result"
    }
   ],
   "source": [
    "# you can check the length (in charachters, whitespaces count!!!) of a string\n",
    "len(demo_string)"
   ]
  },
  {
   "cell_type": "code",
   "execution_count": null,
   "metadata": {
    "id": "DhMZ2rIiYSQx",
    "outputId": "10b847de-14d0-4613-e6cd-62b40a980ee2"
   },
   "outputs": [
    {
     "data": {
      "text/plain": [
       "True"
      ]
     },
     "execution_count": 57,
     "metadata": {},
     "output_type": "execute_result"
    }
   ],
   "source": [
    "# strings can be looked for in other strings\n",
    "\"Cersei\" in demo_string"
   ]
  },
  {
   "cell_type": "code",
   "execution_count": null,
   "metadata": {
    "id": "rGsHopyoYSQx",
    "outputId": "3c118ffe-6ab2-412e-c287-93ae52742152"
   },
   "outputs": [
    {
     "data": {
      "text/plain": [
       "2"
      ]
     },
     "execution_count": 58,
     "metadata": {},
     "output_type": "execute_result"
    }
   ],
   "source": [
    "# how many 'a's do we have in our string?\n",
    "demo_string.count(\"a\")"
   ]
  },
  {
   "cell_type": "code",
   "execution_count": null,
   "metadata": {
    "id": "VTGy7PuMYSQx",
    "outputId": "e8b51c48-7fbb-4a47-c728-97bbd9106354"
   },
   "outputs": [
    {
     "data": {
      "text/plain": [
       "'Does Cersei have any friends?\\nNoway!'"
      ]
     },
     "execution_count": 59,
     "metadata": {},
     "output_type": "execute_result"
    }
   ],
   "source": [
    "# concatenation is possible\n",
    "demo_string += \"\\nNoway!\"\n",
    "demo_string"
   ]
  },
  {
   "cell_type": "markdown",
   "metadata": {
    "id": "6u-_lw-MYSQx"
   },
   "source": [
    "The escape sequence `\\n` indicates the end of the line. \n",
    "\n",
    "Python escape sequences are introduced by the escape character `\\`, whose goal is to signal the interpreter that the following character has an \"unusual\" interpretation. Here is a partial list:\n",
    "\n",
    "| Escape Sequence|         Meaning|\n",
    "|:--------------:|:---------------:|\n",
    "|              \\\\\\\\|  backslash|\n",
    "|              \\\\'|  single quote|\n",
    "|              \\\\b|  backspace|\n",
    "|              \\\\n|  new line|\n",
    "|              \\\\t|  horizontal tab|\n"
   ]
  },
  {
   "cell_type": "code",
   "execution_count": null,
   "metadata": {
    "id": "EKgPUjp7YSQy",
    "outputId": "76b3fabd-881c-4c30-cea1-4c1d8b6f297f"
   },
   "outputs": [
    {
     "name": "stdout",
     "output_type": "stream",
     "text": [
      "Does Cersei have any friends?\n",
      "Noway!\n"
     ]
    }
   ],
   "source": [
    "# nicely print our string!\n",
    "print(demo_string)"
   ]
  },
  {
   "cell_type": "code",
   "execution_count": null,
   "metadata": {
    "id": "nIl2iDS9YSQy",
    "outputId": "63f1c44b-a94e-4ef3-c5ad-fa4af9506bdb",
    "scrolled": true
   },
   "outputs": [
    {
     "name": "stdout",
     "output_type": "stream",
     "text": [
      "Does Cersei have any friends?\n",
      "Noway\n"
     ]
    }
   ],
   "source": [
    "# what does a backspace do?\n",
    "print(demo_string  +\"\\b\")"
   ]
  },
  {
   "cell_type": "code",
   "execution_count": null,
   "metadata": {
    "id": "-V211BQQYSQy",
    "outputId": "78b71be4-0cde-4a37-8bd2-0430b9f6b5d4"
   },
   "outputs": [
    {
     "data": {
      "text/plain": [
       "\"can any of you pronounce 's-Hertogenbosch?\""
      ]
     },
     "execution_count": 62,
     "metadata": {},
     "output_type": "execute_result"
    }
   ],
   "source": [
    "# the escape character may be useful when you need single quotes inside a single quote-marked string...\n",
    "'can any of you pronounce \\'s-Hertogenbosch?'"
   ]
  },
  {
   "cell_type": "code",
   "execution_count": null,
   "metadata": {
    "id": "akjvN4mmYSQy",
    "outputId": "ba5d1a4a-365a-4458-8f01-bb550a457b14"
   },
   "outputs": [
    {
     "data": {
      "text/plain": [
       "\"can any of you pronounce 's-Hertogenbosch?\""
      ]
     },
     "execution_count": 63,
     "metadata": {},
     "output_type": "execute_result"
    }
   ],
   "source": [
    "# but I prefer this solution (when possible)\n",
    "\"can any of you pronounce 's-Hertogenbosch?\""
   ]
  },
  {
   "cell_type": "markdown",
   "metadata": {
    "id": "W1J_1JsNYSQz"
   },
   "source": [
    "Strings that span multiple lines can be written in a readable form by using the sequence `\"\"\"` as a delimiter"
   ]
  },
  {
   "cell_type": "code",
   "execution_count": null,
   "metadata": {
    "id": "kq5587buYSQz",
    "outputId": "dfedbd90-e84e-429a-9c17-7760041160b5"
   },
   "outputs": [
    {
     "name": "stdout",
     "output_type": "stream",
     "text": [
      "Unsealed, on a porch a letter sat\n",
      "Then you said, \"I wanna leave it again\"\n",
      "Once I saw her on a beach of weathered sand\n",
      "And on the sand I wanna leave her again\n"
     ]
    }
   ],
   "source": [
    "print(\"\"\"Unsealed, on a porch a letter sat\n",
    "Then you said, \"I wanna leave it again\"\n",
    "Once I saw her on a beach of weathered sand\n",
    "And on the sand I wanna leave her again\"\"\")"
   ]
  },
  {
   "cell_type": "markdown",
   "metadata": {
    "id": "SLuLPtIqYSQz"
   },
   "source": [
    "**Question:**"
   ]
  },
  {
   "cell_type": "code",
   "execution_count": null,
   "metadata": {
    "id": "NOZp5egHYSQ0",
    "outputId": "f6d097d0-4d49-4a1b-d1d2-6b39251cfb47"
   },
   "outputs": [
    {
     "data": {
      "text/plain": [
       "'\"On a weekend I wanna wish it all away, yeah\\nAnd they called and I said that I\\'ll go\\nAnd I said that I\\'ll call out again\\nAnd the reason I ought ta leave her calm, I know\\nI said, \"I don\\'t know whether I\\'m the boxer or the bag'"
      ]
     },
     "execution_count": 65,
     "metadata": {},
     "output_type": "execute_result"
    }
   ],
   "source": [
    "# where do all those '\\n's come from???\n",
    "\"\"\"\"On a weekend I wanna wish it all away, yeah\n",
    "And they called and I said that I'll go\n",
    "And I said that I'll call out again\n",
    "And the reason I ought ta leave her calm, I know\n",
    "I said, \"I don't know whether I'm the boxer or the bag\"\"\"\"\""
   ]
  },
  {
   "cell_type": "markdown",
   "metadata": {
    "id": "mTYYXbt6YSQ0"
   },
   "source": [
    "#### String slicing is a thing:"
   ]
  },
  {
   "cell_type": "markdown",
   "metadata": {
    "id": "bHtomxlNYSQ0"
   },
   "source": [
    "![alt text](https://github.com/bloemj/AUC_TMCI_2022/blob/main/notebooks/images/string-slicing.png?raw=1)\n",
    "\n",
    "\n",
    "Source: [Bird et al. (2009)](http://www.nltk.org/book/ch03.html)"
   ]
  },
  {
   "cell_type": "code",
   "execution_count": null,
   "metadata": {
    "id": "LMaBVig8YSQ1",
    "outputId": "17228a6c-6e10-4d73-d5fa-459b1ce84fff"
   },
   "outputs": [
    {
     "data": {
      "text/plain": [
       "'Monty'"
      ]
     },
     "execution_count": 66,
     "metadata": {},
     "output_type": "execute_result"
    }
   ],
   "source": [
    "# let's try it\n",
    "\"Monty Python\"[-12:-7]"
   ]
  },
  {
   "cell_type": "code",
   "execution_count": null,
   "metadata": {
    "id": "eMbw4YdoYSQ1",
    "outputId": "3d1a3eea-6314-44ec-aaa4-9305ef5b1c31"
   },
   "outputs": [
    {
     "name": "stdout",
     "output_type": "stream",
     "text": [
      "'str' object does not support item assignment\n"
     ]
    }
   ],
   "source": [
    "# ...but single characters cannot be replaced\n",
    "try:\n",
    "    demo_string[5:11] = \"Melisandre\"\n",
    "except TypeError as e:\n",
    "    print(e)"
   ]
  },
  {
   "cell_type": "markdown",
   "metadata": {
    "id": "nnZnKuTNYSQ2"
   },
   "source": [
    "#### String Methods\n",
    "\n",
    "Strings have a buch of dedicated methods (see the [documentation](https://docs.python.org/2/library/stdtypes.html#string-methods) for a complete list), that allows them to be both inspected or manipulated (they are not modified, rather a **new object** is returned). The following are those I use the most:"
   ]
  },
  {
   "cell_type": "code",
   "execution_count": null,
   "metadata": {
    "id": "EBWMVT-xYSQ2",
    "outputId": "00d4d8ee-c57c-4b3c-a13b-7976b8fb1d1c"
   },
   "outputs": [
    {
     "name": "stdout",
     "output_type": "stream",
     "text": [
      "True\n",
      "True\n",
      "False\n"
     ]
    }
   ],
   "source": [
    "# is the string composed SOLELY of 1. digits 2. alphabetic characters 3. both?\n",
    "print('100'.isdigit())\n",
    "print('cat'.isalpha())\n",
    "print('my cat is 100'.isalnum())"
   ]
  },
  {
   "cell_type": "code",
   "execution_count": null,
   "metadata": {
    "id": "_2xZvH2fYSQ3",
    "outputId": "b4ae8545-8f92-4cb2-d86d-cd3f3163f5f8"
   },
   "outputs": [
    {
     "name": "stdout",
     "output_type": "stream",
     "text": [
      "Does Cersei have any friends?\n",
      "Noway!\n"
     ]
    }
   ],
   "source": [
    "print(demo_string)"
   ]
  },
  {
   "cell_type": "code",
   "execution_count": null,
   "metadata": {
    "id": "kQyGFyU9YSQ3",
    "outputId": "f48e6a49-183f-409c-c86e-29f2759ce99d"
   },
   "outputs": [
    {
     "name": "stdout",
     "output_type": "stream",
     "text": [
      "False\n",
      "True\n"
     ]
    }
   ],
   "source": [
    "# does the string starts or ends with a given sequence of characters?\n",
    "print(demo_string.startswith(\"d\"))  # it is case sensitive !!!\n",
    "print(demo_string.endswith(\"Noway!\"))"
   ]
  },
  {
   "cell_type": "code",
   "execution_count": null,
   "metadata": {
    "id": "rxckqL11YSQ4",
    "outputId": "50a96b65-fa6b-4dff-9dd8-9d5f125d9f3e"
   },
   "outputs": [
    {
     "name": "stdout",
     "output_type": "stream",
     "text": [
      "DOES CERSEI HAVE ANY FRIENDS?\n",
      "does cersei have any friends?\n"
     ]
    }
   ],
   "source": [
    "# change case to all the characters of a string\n",
    "print(demo_string_single.upper())\n",
    "print(demo_string_single.lower())"
   ]
  },
  {
   "cell_type": "code",
   "execution_count": null,
   "metadata": {
    "id": "mFWvE-UUYSQ5",
    "outputId": "4d929538-75c8-48cc-baf8-4b5a37481e36"
   },
   "outputs": [
    {
     "name": "stdout",
     "output_type": "stream",
     "text": [
      "Twice minus: - before and after \n",
      "Too much space?\n"
     ]
    }
   ],
   "source": [
    "# remove a given character (default is any whitespace) from the beginning and the end of a string\n",
    "print (\"Twice minus: - before and after -\".strip(\"-\"))\n",
    "print (\"  \\t  Too much space?\".strip())"
   ]
  },
  {
   "cell_type": "code",
   "execution_count": null,
   "metadata": {
    "id": "giOMlBYHYSQ6",
    "outputId": "075b68c1-c521-4944-b081-8a90ba9a24d9"
   },
   "outputs": [
    {
     "name": "stdout",
     "output_type": "stream",
     "text": [
      "Does Melisandre have any friends?\n",
      "Noway!\n"
     ]
    }
   ],
   "source": [
    "# replace a given sequence of characters with another \n",
    "print(demo_string.replace(\"Cersei\", \"Melisandre\"))"
   ]
  },
  {
   "cell_type": "markdown",
   "metadata": {
    "id": "M33pOGUJYSQ7"
   },
   "source": [
    "A string can be transformed into a list of string by splitting it on a given character"
   ]
  },
  {
   "cell_type": "code",
   "execution_count": null,
   "metadata": {
    "id": "qKkBeA2uYSQ7",
    "outputId": "d0253620-e422-41d9-950d-411df1c28dd5"
   },
   "outputs": [
    {
     "data": {
      "text/plain": [
       "['Does', 'Cersei', 'have', 'any', 'friends?']"
      ]
     },
     "execution_count": 74,
     "metadata": {},
     "output_type": "execute_result"
    }
   ],
   "source": [
    "# a whitespace\n",
    "demo_string_single.split(\" \")"
   ]
  },
  {
   "cell_type": "code",
   "execution_count": null,
   "metadata": {
    "id": "2v-T9kKlYSQ7",
    "outputId": "6f336972-0608-4f27-f682-6648acd0400f"
   },
   "outputs": [
    {
     "data": {
      "text/plain": [
       "['Does', 'Cersei', 'have', 'any', 'friends?', 'Noway!']"
      ]
     },
     "execution_count": 75,
     "metadata": {},
     "output_type": "execute_result"
    }
   ],
   "source": [
    "# the default character is any white line (that's convenient)\n",
    "demo_string.split()"
   ]
  },
  {
   "cell_type": "code",
   "execution_count": null,
   "metadata": {
    "id": "P1iG5lQrYSQ8",
    "outputId": "6c5158f0-b9fb-4eaa-ebf3-a2ad878cd340"
   },
   "outputs": [
    {
     "data": {
      "text/plain": [
       "['Does', 'Cersei', 'have any friends?']"
      ]
     },
     "execution_count": 76,
     "metadata": {},
     "output_type": "execute_result"
    }
   ],
   "source": [
    "# the maximun number of slits can be specified\n",
    "demo_string_single.split(\" \", 2)"
   ]
  },
  {
   "cell_type": "markdown",
   "metadata": {
    "id": "ZLX-eSpiYSQ8"
   },
   "source": [
    "The inverse operation is possible, a list of strings can be joined by a single character"
   ]
  },
  {
   "cell_type": "code",
   "execution_count": null,
   "metadata": {
    "id": "ognW_VwNYSQ8",
    "outputId": "ca7b2938-0c26-4e04-9510-7f129354a229"
   },
   "outputs": [
    {
     "data": {
      "text/plain": [
       "'One Two Three'"
      ]
     },
     "execution_count": 77,
     "metadata": {},
     "output_type": "execute_result"
    }
   ],
   "source": [
    "# a whitespace\n",
    "\" \".join([\"One\",\"Two\",\"Three\"])"
   ]
  },
  {
   "cell_type": "code",
   "execution_count": null,
   "metadata": {
    "id": "jgqUo2TGYSQ8",
    "outputId": "09a66626-0ef7-4aeb-f9d1-54811519324b"
   },
   "outputs": [
    {
     "data": {
      "text/plain": [
       "'One-Two-Three'"
      ]
     },
     "execution_count": 78,
     "metadata": {},
     "output_type": "execute_result"
    }
   ],
   "source": [
    "# an hyphen\n",
    "\"-\".join([\"One\",\"Two\",\"Three\"])"
   ]
  },
  {
   "cell_type": "code",
   "execution_count": null,
   "metadata": {
    "id": "c3QerLWDYSQ8",
    "outputId": "f44746a6-41f6-4bed-f828-a4b8c6624ca8"
   },
   "outputs": [
    {
     "data": {
      "text/plain": [
       "'Supercalifragilisticexpialidocious'"
      ]
     },
     "execution_count": 79,
     "metadata": {},
     "output_type": "execute_result"
    }
   ],
   "source": [
    "# no characters at all\n",
    "\"\".join([\"Super\", \"cali\", \"fragilistic\", \"expiali\", \"docious\"] )"
   ]
  },
  {
   "cell_type": "code",
   "execution_count": null,
   "metadata": {
    "id": "3hXII-FxYSQ8",
    "outputId": "72aaba06-e02d-4f6b-c93c-d48d5fbff1ba"
   },
   "outputs": [
    {
     "name": "stdout",
     "output_type": "stream",
     "text": [
      "sequence item 3: expected str instance, int found\n"
     ]
    }
   ],
   "source": [
    "# BEWARE: non string elements in the original list are not admitted\n",
    "try:\n",
    "    \" \".join([\"Today\", \"I\", \"am\", 45])\n",
    "except TypeError as e:\n",
    "    print(e)"
   ]
  },
  {
   "cell_type": "markdown",
   "metadata": {
    "id": "x9z6WZSsYSQ9"
   },
   "source": [
    "---"
   ]
  },
  {
   "cell_type": "markdown",
   "metadata": {
    "id": "UoVmx859YSQ9"
   },
   "source": [
    "### Quiz\n",
    "\n",
    "Italian nobles tends to have an awful lot of names. \n",
    "\n",
    "For instance, \"Vittorio Emanuele di Savoia\" has the 12 names listed in `full_name`. \n",
    "\n",
    "Can you find a pythonic way to eliminate the less used names from this string?"
   ]
  },
  {
   "cell_type": "code",
   "execution_count": null,
   "metadata": {
    "id": "ZmHi_lDaYSQ9"
   },
   "outputs": [],
   "source": [
    "full_name = \"Vittorio Emanuele Alberto Carlo Teodoro Umberto Bonifacio Amedeo Damiano Bernardino Gennaro Maria di Savoia\""
   ]
  },
  {
   "cell_type": "code",
   "execution_count": null,
   "metadata": {
    "id": "wpRm6hoLYSQ9"
   },
   "outputs": [],
   "source": [
    "# your code here"
   ]
  },
  {
   "cell_type": "markdown",
   "metadata": {
    "id": "nicKZ0wBYSQ9"
   },
   "source": [
    "---"
   ]
  },
  {
   "cell_type": "markdown",
   "metadata": {
    "id": "w_g63qdLYSQ9"
   },
   "source": [
    "#### Unicode\n",
    "\n",
    "##### Unicode in brief\n",
    "\n",
    "Characters, the smallest textual units, are abstractions that the computer represent as code points. Code points are integer values, usually denoted in base 16. \n",
    "\n",
    "*The Unicode Standard describes how code points map to characters and vice versa.* (see the [Unicode character table](https://unicode-table.com/en)).\n",
    "\n",
    "\n",
    "##### Encodings\n",
    "\n",
    "Sequences of code points are represented in the computer memory as a set of bytes. \n",
    "\n",
    "*The rules for translating a Unicode string into a sequence of bytes are called an Encoding.*\n",
    "\n",
    "The principal character encoding are `ASCII`, `Latin-1` (`ISO-8859-1`, `iso88591` …), and `UTF-8` (`utf8`, `UTF_8` …). They are partly incompatible, with the following exception: a document stored in `ASCII` can be read using `Latin-1` or `UTF-8`, because `Latin-1` and `UTF-8` are subsets of `ASCII` (i.e. their 0-128 code-points are identical).\n",
    "\n",
    "As a general rule, if you don't know which encoding to choose for your text, you should use `UTF-8`, mainly because it can handle any Unicode point and because it is more compact than other comparable encoding like `UTF-16` and `UTF-32`."
   ]
  },
  {
   "cell_type": "markdown",
   "metadata": {
    "id": "QpZYSORlYSQ-"
   },
   "source": [
    "#### Unicode in Python 3.x\n",
    "\n",
    "Strings are unicode by default in Python 3."
   ]
  },
  {
   "cell_type": "code",
   "execution_count": null,
   "metadata": {
    "id": "6NsA-OrxYSQ-",
    "outputId": "b43b7397-88b3-46b1-b797-fc058de0d8c6"
   },
   "outputs": [
    {
     "data": {
      "text/plain": [
       "str"
      ]
     },
     "execution_count": 83,
     "metadata": {},
     "output_type": "execute_result"
    }
   ],
   "source": [
    "# a byte string is visualised according to your default locale\n",
    "string_1 = \"Does Cersei have any friends?\"\n",
    "type(string_1)"
   ]
  },
  {
   "cell_type": "code",
   "execution_count": null,
   "metadata": {
    "id": "v7KxlTjNYSQ_",
    "outputId": "34d64da8-7164-4e32-b20f-ee4c7a6d613c"
   },
   "outputs": [
    {
     "data": {
      "text/plain": [
       "str"
      ]
     },
     "execution_count": 84,
     "metadata": {},
     "output_type": "execute_result"
    }
   ],
   "source": [
    "# a unicode string\n",
    "string_2 = u\"Does Cersei™ have any friends?\"\n",
    "type(string_2)"
   ]
  },
  {
   "cell_type": "markdown",
   "metadata": {
    "id": "Zxgm6QcsYSQ_"
   },
   "source": [
    "##### From bytes to Unicode (and back)\n",
    "\n",
    "`encode()` allows you to convert unicode strings to byte strings."
   ]
  },
  {
   "cell_type": "code",
   "execution_count": null,
   "metadata": {
    "id": "SqQxUrMwYSQ_",
    "outputId": "38c38251-3cb2-4e01-d5f5-4fb8a7c43dc2"
   },
   "outputs": [
    {
     "name": "stdout",
     "output_type": "stream",
     "text": [
      "<class 'str'>\n",
      "<class 'bytes'>\n",
      "<class 'str'>\n"
     ]
    }
   ],
   "source": [
    "# default Py3 unicode string\n",
    "print(type(string_2))\n",
    "\n",
    "# unicode string to byte string\n",
    "string_2 = string_2.encode('utf8')\n",
    "print(type(string_2))\n",
    "\n",
    "string_2 = string_2.decode(\"utf-8\")\n",
    "print(type(string_2))"
   ]
  },
  {
   "cell_type": "markdown",
   "metadata": {
    "id": "MRoLpkd6YSRA"
   },
   "source": [
    "#### Unicode Decoding and Encoding\n",
    "\n",
    "![alt text](https://github.com/bloemj/AUC_TMCI_2022/blob/main/notebooks/images/unicode.png?raw=1)\n",
    "\n",
    "\n",
    "Source: [Bird et al. (2009)](http://www.nltk.org/book/ch03.html#what-is-unicode)"
   ]
  },
  {
   "cell_type": "markdown",
   "metadata": {
    "id": "bhIoEWCiYSRA"
   },
   "source": [
    "---"
   ]
  },
  {
   "cell_type": "markdown",
   "metadata": {
    "id": "klP3uBYVYSRA"
   },
   "source": [
    "### Sets\n",
    "\n",
    "Sets are collections of **unordered** of **distinct** objects.\n",
    "\n",
    "They are commonly used to test membership, to remove duplicates or to compute mathematical operations such as intersection, union, difference, and symmetric difference. Being unordered collections, they do not support indexing, slicing and any other sequence-like behavior.\n",
    "\n",
    "In Python, sets can be create beither by using the syntax  `set([])` or by using curly braces `{}`."
   ]
  },
  {
   "cell_type": "code",
   "execution_count": null,
   "metadata": {
    "id": "uYmKNEzUYSRA",
    "outputId": "600d1e46-e35e-409f-a2cf-4ee03efe202b"
   },
   "outputs": [
    {
     "name": "stdout",
     "output_type": "stream",
     "text": [
      "{1, 2, 3, 4, 5, 6}\n",
      "{1, 3, 6, 9}\n"
     ]
    }
   ],
   "source": [
    "# when you creates a set, repetitions are removed\n",
    "demo_set = set([1,2,1,2,1,2,3,5,6,4,2,3,5,2])\n",
    "another_demo_set = {1,6,6,3,9}\n",
    "print(demo_set)\n",
    "print(another_demo_set)"
   ]
  },
  {
   "cell_type": "code",
   "execution_count": null,
   "metadata": {
    "id": "6ZRJUA7nYSRA",
    "outputId": "8e4bb5e8-0f46-48a6-ff4e-7e03943862ce"
   },
   "outputs": [
    {
     "data": {
      "text/plain": [
       "{1, 2, 3, 4, 5, 6, 7}"
      ]
     },
     "execution_count": 87,
     "metadata": {},
     "output_type": "execute_result"
    }
   ],
   "source": [
    "# elements may we added with the function add()\n",
    "demo_set.add(7)\n",
    "demo_set"
   ]
  },
  {
   "cell_type": "code",
   "execution_count": null,
   "metadata": {
    "id": "AzZGwvEoYSRB",
    "outputId": "aeb55c26-fa63-402e-cfce-4349c59d03aa"
   },
   "outputs": [
    {
     "data": {
      "text/plain": [
       "{1, 3, 4, 5, 6, 7}"
      ]
     },
     "execution_count": 88,
     "metadata": {},
     "output_type": "execute_result"
    }
   ],
   "source": [
    "# elements may we removed with the function remove()\n",
    "demo_set.remove(2)\n",
    "demo_set"
   ]
  },
  {
   "cell_type": "code",
   "execution_count": null,
   "metadata": {
    "id": "YbRWdsEwYSRB",
    "outputId": "cd60d5dc-eb76-4d08-f4df-e1da411cfa80"
   },
   "outputs": [
    {
     "data": {
      "text/plain": [
       "6"
      ]
     },
     "execution_count": 89,
     "metadata": {},
     "output_type": "execute_result"
    }
   ],
   "source": [
    "# length of a set\n",
    "len(demo_set)"
   ]
  },
  {
   "cell_type": "code",
   "execution_count": null,
   "metadata": {
    "id": "WgRi7ujUYSRB",
    "outputId": "0fdc09af-3ff1-4af3-ac16-1797e37fe9c5"
   },
   "outputs": [
    {
     "data": {
      "text/plain": [
       "True"
      ]
     },
     "execution_count": 90,
     "metadata": {},
     "output_type": "execute_result"
    }
   ],
   "source": [
    "# membership test\n",
    "5 in demo_set"
   ]
  },
  {
   "cell_type": "code",
   "execution_count": null,
   "metadata": {
    "id": "CWfxM9brYSRB",
    "outputId": "f3d17a65-ce57-453c-8fab-9f1d26951461"
   },
   "outputs": [
    {
     "data": {
      "text/plain": [
       "{1, 3, 4, 5, 6, 7, 9}"
      ]
     },
     "execution_count": 91,
     "metadata": {},
     "output_type": "execute_result"
    }
   ],
   "source": [
    "# the union of the two sets\n",
    "demo_set.union(another_demo_set)"
   ]
  },
  {
   "cell_type": "code",
   "execution_count": null,
   "metadata": {
    "id": "4rQBChveYSRC",
    "outputId": "cfc6741f-82bf-476c-cc2f-fa6d190ab790"
   },
   "outputs": [
    {
     "data": {
      "text/plain": [
       "{1, 3, 6}"
      ]
     },
     "execution_count": 92,
     "metadata": {},
     "output_type": "execute_result"
    }
   ],
   "source": [
    "# intersection of the two sets\n",
    "demo_set.intersection(another_demo_set)"
   ]
  },
  {
   "cell_type": "code",
   "execution_count": null,
   "metadata": {
    "id": "sW-bqN5XYSRC",
    "outputId": "8ccefd99-01cb-49db-a66c-aa2c5c2d4424"
   },
   "outputs": [
    {
     "data": {
      "text/plain": [
       "{4, 5, 7}"
      ]
     },
     "execution_count": 93,
     "metadata": {},
     "output_type": "execute_result"
    }
   ],
   "source": [
    "# elements that are in the demo_set but not in another_demo_set\n",
    "demo_set.difference(another_demo_set)"
   ]
  },
  {
   "cell_type": "code",
   "execution_count": null,
   "metadata": {
    "id": "LpMqqFFdYSRC",
    "outputId": "9efef483-8d2d-42cd-c3c7-28bd1ac4c2e5"
   },
   "outputs": [
    {
     "name": "stdout",
     "output_type": "stream",
     "text": [
      "False\n",
      "False\n"
     ]
    }
   ],
   "source": [
    "# every elements of another_demo_set are in demo_set?\n",
    "print(demo_set.issuperset(another_demo_set))\n",
    "print(another_demo_set.issubset(demo_set))"
   ]
  },
  {
   "cell_type": "markdown",
   "metadata": {
    "id": "e6xRFzaYYSRC"
   },
   "source": [
    "---"
   ]
  },
  {
   "cell_type": "markdown",
   "metadata": {
    "id": "eiUZXpIoYSRC"
   },
   "source": [
    "### Quiz\n",
    "\n",
    "The following list contains 100 random extractions (with replacement) of numbers between 1 and 15. \n",
    "\n",
    "Find the number that has never been extracted"
   ]
  },
  {
   "cell_type": "code",
   "execution_count": null,
   "metadata": {
    "id": "LWpOpnXJYSRC"
   },
   "outputs": [],
   "source": [
    "random_numbers = [1, 2, 1, 1, 9, 13, 15, 5, 9, 8, 12, 14, 3, 2, 8, 10, 3, 12, 15, 13, 5, 3, 7, 5, 2, 13, 12, 8, 10, 5, 15, 8, 2, 8, 5, 12, 9, 2, 3, 5, 1, 4, 5, 9, 13, 2, 12, 5, 10, 8, 1, 15, 15, 6, 12, 3, 1, 3, 7, 14, 15, 10, 15, 7, 10, 12, 1, 2, 13, 7, 9, 6, 6, 7, 4, 12, 10, 8, 8, 3, 8, 4, 6, 14, 10, 5, 2, 3, 15, 4, 9, 3, 7, 7, 2, 4, 4, 1, 7, 15]"
   ]
  },
  {
   "cell_type": "code",
   "execution_count": null,
   "metadata": {
    "id": "IQO-4TAPYSRD"
   },
   "outputs": [],
   "source": [
    "# your code here"
   ]
  },
  {
   "cell_type": "markdown",
   "metadata": {
    "id": "oY79MJvyYSRD"
   },
   "source": [
    "---"
   ]
  },
  {
   "cell_type": "markdown",
   "metadata": {
    "id": "GviKhHzkYSRD"
   },
   "source": [
    "### Dictionaries\n",
    "\n",
    "Dictionaries are **associative arrays** mapping **immutable** types (string, numbers, tuples...) to arbitrary objects of any kind (variables, functions, modules...). Intuitively, they can be thought as collections of objects that we can recall by means of a unique key. \n",
    "\n",
    "To visualize a Python dictionary you can think of a telephone book, in which people names are the unique keys that you use to retrieve difference kinds of information (phone numbers, street address, mail address...). The same telephone number, street address or other information can be present in the entries of more people, but a label cannot be associated with more than one entry. \n",
    "\n",
    "In Python, dictionaries are defined by curly brackets `{}`, in which key-value pairs are separated by commas and joint by colons."
   ]
  },
  {
   "cell_type": "code",
   "execution_count": 1,
   "metadata": {
    "id": "26Ap7p7tYSRD",
    "outputId": "67b463bd-d3a3-4502-fca4-080994c7e2be"
   },
   "outputs": [
    {
     "name": "stdout",
     "output_type": "stream",
     "text": [
      "{'black': 'zwart', 'white': 'wit', 'red': 'rood', 'yellow': 'geel'}\n"
     ]
    }
   ],
   "source": [
    "# a English-Dutch dictionary of colors\n",
    "demo_dictionary = {\"black\" : \"zwart\",\n",
    "                  \"white\" : \"wit\",\n",
    "                  \"red\" : \"rood\",\n",
    "                  \"yellow\" : \"geel\"}\n",
    "print(demo_dictionary)"
   ]
  },
  {
   "cell_type": "code",
   "execution_count": 2,
   "metadata": {
    "id": "GPfrm5AzYSRD",
    "outputId": "7a7d8a4d-b834-4009-b9ce-778b0c89b103"
   },
   "outputs": [
    {
     "data": {
      "text/plain": [
       "'wit'"
      ]
     },
     "execution_count": 2,
     "metadata": {},
     "output_type": "execute_result"
    }
   ],
   "source": [
    "# values can be recalled by their keys\n",
    "demo_dictionary[\"white\"]"
   ]
  },
  {
   "cell_type": "code",
   "execution_count": 3,
   "metadata": {
    "id": "XaYcjdYIYSRD",
    "outputId": "bf2bb174-a6f3-4e58-8588-97126dee781f"
   },
   "outputs": [
    {
     "name": "stdout",
     "output_type": "stream",
     "text": [
      "{'black': 'zwart', 'white': 'wit', 'red': 'rood', 'yellow': 'geel'}\n"
     ]
    }
   ],
   "source": [
    "# we can change a value assocaited with a key\n",
    "demo_dictionary[\"white\"] = \"wit\"\n",
    "print(demo_dictionary)"
   ]
  },
  {
   "cell_type": "code",
   "execution_count": 4,
   "metadata": {
    "id": "Y3qYF_BWYSRE",
    "outputId": "d1bbfc8b-9030-4d26-c63c-52d3e4ba39db"
   },
   "outputs": [
    {
     "name": "stdout",
     "output_type": "stream",
     "text": [
      "{'black': 'zwart', 'white': 'wit', 'red': 'rood', 'yellow': 'geel', 'blue': 'blauw'}\n"
     ]
    }
   ],
   "source": [
    "# if the key is missing a new key : value pair is added\n",
    "demo_dictionary[\"blue\"] = \"blauw\"\n",
    "print(demo_dictionary)"
   ]
  },
  {
   "cell_type": "code",
   "execution_count": 5,
   "metadata": {
    "id": "oj2WRRYGYSRE",
    "outputId": "121c5387-26c2-4556-bb9d-1f96563d2b6b"
   },
   "outputs": [
    {
     "name": "stdout",
     "output_type": "stream",
     "text": [
      "{'black': 'zwart', 'white': 'wit', 'red': 'rood', 'yellow': 'geel'}\n"
     ]
    }
   ],
   "source": [
    "# key:values can be deleted with the command \"del()\"\n",
    "del(demo_dictionary[\"blue\"])\n",
    "print(demo_dictionary)"
   ]
  },
  {
   "cell_type": "code",
   "execution_count": 6,
   "metadata": {
    "id": "nyi4Eb28YSRE",
    "outputId": "e4d4c033-f724-4e7a-8440-b4885ff216f5"
   },
   "outputs": [
    {
     "data": {
      "text/plain": [
       "False"
      ]
     },
     "execution_count": 6,
     "metadata": {},
     "output_type": "execute_result"
    }
   ],
   "source": [
    "# check if a dictionary has a given key\n",
    "\"blue\" in demo_dictionary"
   ]
  },
  {
   "cell_type": "code",
   "execution_count": 7,
   "metadata": {
    "id": "Ew8FO7CDYSRE",
    "outputId": "fb8c7397-dd76-4c1c-8dd7-d0a902f51070"
   },
   "outputs": [
    {
     "data": {
      "text/plain": [
       "4"
      ]
     },
     "execution_count": 7,
     "metadata": {},
     "output_type": "execute_result"
    }
   ],
   "source": [
    "# count the number of entries in a dictionary\n",
    "len(demo_dictionary)"
   ]
  },
  {
   "cell_type": "markdown",
   "metadata": {
    "id": "FQj3OPDiYSRF"
   },
   "source": [
    "#### Iterating over a Dictionary"
   ]
  },
  {
   "cell_type": "code",
   "execution_count": 8,
   "metadata": {
    "id": "joGZABNcYSRF",
    "outputId": "68848bab-1584-48d3-ece3-4fa07fbb14ec"
   },
   "outputs": [
    {
     "name": "stdout",
     "output_type": "stream",
     "text": [
      "['black', 'white', 'red', 'yellow']\n",
      "['black', 'white', 'red', 'yellow']\n"
     ]
    }
   ],
   "source": [
    "# iterate over dictionary keys:\n",
    "print(list(demo_dictionary))\n",
    "print(list(demo_dictionary.keys()))"
   ]
  },
  {
   "cell_type": "code",
   "execution_count": 9,
   "metadata": {
    "id": "sT1kKiCGYSRF",
    "outputId": "33d76059-e6a2-42cf-de81-6c012f4671c6"
   },
   "outputs": [
    {
     "name": "stdout",
     "output_type": "stream",
     "text": [
      "['zwart', 'wit', 'rood', 'geel']\n"
     ]
    }
   ],
   "source": [
    "# iterate over dictionary values:\n",
    "print(list(demo_dictionary.values()))"
   ]
  },
  {
   "cell_type": "code",
   "execution_count": 10,
   "metadata": {
    "id": "td9ZGkH6YSRF",
    "outputId": "36c3d9eb-1814-4e8e-ff79-90122cb3ca39"
   },
   "outputs": [
    {
     "name": "stdout",
     "output_type": "stream",
     "text": [
      "[('black', 'zwart'), ('white', 'wit'), ('red', 'rood'), ('yellow', 'geel')]\n"
     ]
    }
   ],
   "source": [
    "# iterate over dictionary key-value pairs:\n",
    "print(list(demo_dictionary.items()))"
   ]
  },
  {
   "cell_type": "markdown",
   "metadata": {
    "id": "A5Sty_JoYSRF"
   },
   "source": [
    "---"
   ]
  },
  {
   "cell_type": "markdown",
   "metadata": {
    "id": "WuwiY0N4YSRG"
   },
   "source": [
    "### Quiz\n",
    "\n",
    "How many characters does the longest Dutch colour name in our dictionary have?"
   ]
  },
  {
   "cell_type": "code",
   "execution_count": 11,
   "metadata": {
    "id": "ppJmwzypYSRG"
   },
   "outputs": [],
   "source": [
    "# your code here"
   ]
  },
  {
   "cell_type": "markdown",
   "metadata": {},
   "source": [
    "If you solved this using what we have learned so far, without flow control, it was probably a bit tricky or you had to hard-code some indices. In the next part of this notebook, we will learn a more efficient way of doing this. After that, you can try to solve this quiz in a more efficient way."
   ]
  },
  {
   "cell_type": "markdown",
   "metadata": {
    "id": "PVHZIZYYYSRG"
   },
   "source": [
    "---"
   ]
  },
  {
   "cell_type": "markdown",
   "metadata": {
    "id": "68ALyRN5YSRG"
   },
   "source": [
    "###  Type casting\n",
    "\n",
    "Sometimes, we may need to change the type of a variable. \n",
    "\n",
    "For instance, we may want to change a list into a set in order to delete all its repeated elements. A quick way to do so is to transform the list in a set.\n",
    "\n",
    "Other example may involve the `join()` operator and the `print()` functions, that do not accept numbers. Conversion functions can be used to quickly switch numbers to strings.\n",
    "\n",
    "Note that not all types of variables can be switched to other types. In what follows we report some common conversion."
   ]
  },
  {
   "cell_type": "code",
   "execution_count": null,
   "metadata": {
    "id": "aau15KTaYSRG",
    "outputId": "a679efc7-b8f8-4ecf-fa33-3ab087da8078"
   },
   "outputs": [
    {
     "data": {
      "text/plain": [
       "'3.123424235454'"
      ]
     },
     "execution_count": 108,
     "metadata": {},
     "output_type": "execute_result"
    }
   ],
   "source": [
    "# from number to string\n",
    "str(3.123424235454)"
   ]
  },
  {
   "cell_type": "code",
   "execution_count": null,
   "metadata": {
    "id": "xEDKx3oXYSRH",
    "outputId": "4e8361ff-aefa-4937-8313-eb3e87ff7556"
   },
   "outputs": [
    {
     "data": {
      "text/plain": [
       "'3.12'"
      ]
     },
     "execution_count": 109,
     "metadata": {},
     "output_type": "execute_result"
    }
   ],
   "source": [
    "# sometimes you want to round the number\n",
    "str(round(3.123424235454, 2))"
   ]
  },
  {
   "cell_type": "code",
   "execution_count": null,
   "metadata": {
    "id": "EolmEENHYSRI",
    "outputId": "8058ab37-a31f-4780-d56b-ea520ba9613b"
   },
   "outputs": [
    {
     "data": {
      "text/plain": [
       "3"
      ]
     },
     "execution_count": 110,
     "metadata": {},
     "output_type": "execute_result"
    }
   ],
   "source": [
    "# from string to integer\n",
    "int(\"3\")"
   ]
  },
  {
   "cell_type": "code",
   "execution_count": null,
   "metadata": {
    "id": "SyJuUMVEYSRI",
    "outputId": "10bce961-abb3-4427-c934-932e2301117e"
   },
   "outputs": [
    {
     "data": {
      "text/plain": [
       "3.0"
      ]
     },
     "execution_count": 111,
     "metadata": {},
     "output_type": "execute_result"
    }
   ],
   "source": [
    "# from string to floating numer\n",
    "float(\"3\")"
   ]
  },
  {
   "cell_type": "code",
   "execution_count": null,
   "metadata": {
    "id": "FMHg0TCUYSRI",
    "outputId": "4cef9f5f-e62e-44d2-8ce9-6939948a7070"
   },
   "outputs": [
    {
     "data": {
      "text/plain": [
       "(['text', 23, 92, 'another_text', [1, 2, 3]],)"
      ]
     },
     "execution_count": 112,
     "metadata": {},
     "output_type": "execute_result"
    }
   ],
   "source": [
    "# from list to tuple (list cannot be used as dictionary keys, tuples can)\n",
    "tuple([demo_list])"
   ]
  },
  {
   "cell_type": "code",
   "execution_count": null,
   "metadata": {
    "id": "Q-47v2RjYSRK",
    "outputId": "8c090272-9b3a-4752-db7f-e5384bc2512c"
   },
   "outputs": [
    {
     "data": {
      "text/plain": [
       "{1, 2, 3}"
      ]
     },
     "execution_count": 113,
     "metadata": {},
     "output_type": "execute_result"
    }
   ],
   "source": [
    "# from list to set\n",
    "set([1,2,3,1,2,3,3])"
   ]
  },
  {
   "cell_type": "code",
   "execution_count": null,
   "metadata": {
    "id": "SfF6dIBlYSRL",
    "outputId": "09654573-9c25-4318-a893-574a27f6e99e"
   },
   "outputs": [
    {
     "name": "stdout",
     "output_type": "stream",
     "text": [
      "['t', 'h', 'i', 's', ' ', 'i', 's', ' ', 'a', ' ', 's', 'e', 'n', 't', 'e', 'n', 'c', 'e']\n"
     ]
    }
   ],
   "source": [
    "# from string to list\n",
    "print(list(\"this is a sentence\"))"
   ]
  },
  {
   "cell_type": "markdown",
   "metadata": {
    "id": "G06cwd5aYSRL"
   },
   "source": [
    "---"
   ]
  },
  {
   "cell_type": "markdown",
   "metadata": {
    "id": "YWj8J7ygYSRL"
   },
   "source": [
    "### Quiz\n",
    "\n",
    "How many different characters did Jonathan Coe use in the tiles of his books?"
   ]
  },
  {
   "cell_type": "code",
   "execution_count": null,
   "metadata": {
    "id": "OR810lLwYSRL"
   },
   "outputs": [],
   "source": [
    "coe_bibliography = [\"The Accidental Woman\", \"A Touch of Love\", \"The Dwarves of Death\", \"What a Carve Up! or The Winshaw Legacy Viking\", \"The House of Sleep\", \"The Rotters' Club\", \"The Closed Circle\", \"The Rain Before It Falls\", \"The Terrible Privacy of Maxwell Sim\", \"Expo 58\", \"Number 11\"]"
   ]
  },
  {
   "cell_type": "code",
   "execution_count": null,
   "metadata": {
    "id": "M7QEvFkgYSRL"
   },
   "outputs": [],
   "source": [
    "# your code here"
   ]
  },
  {
   "cell_type": "markdown",
   "metadata": {
    "id": "NU3wJJ5LYSRM"
   },
   "source": [
    "---"
   ]
  },
  {
   "cell_type": "markdown",
   "metadata": {
    "id": "7UglidyrYSRM"
   },
   "source": [
    "## Python Syntax"
   ]
  },
  {
   "cell_type": "markdown",
   "metadata": {
    "id": "Ajxeux_CYSRM"
   },
   "source": [
    "### The Significant Whitespace\n",
    "\n",
    "Most program languages use characters (e.g. `{...}`) or keyworks (e.g. `begin ... end`) to delimitate blocks of codes. "
   ]
  },
  {
   "cell_type": "markdown",
   "metadata": {
    "id": "32xF8rCyYSRM"
   },
   "source": [
    "#### When writing Python code, you rely on INDENTATION to structure your programs. \n",
    "\n",
    "All programming languages allow you to indent (and you should!), but in Python you **have to.**\n",
    "\n",
    "Otherwise, you'll receive and IndentationError and your code won't work"
   ]
  },
  {
   "cell_type": "markdown",
   "metadata": {
    "id": "NnM_HfU-YSRM"
   },
   "source": [
    "#### How Indentation Works\n",
    "\n",
    "- All statements with the same distance from the left border belong of the same block of code. \n",
    "\n",
    "\n",
    "- Sub-blocks are more indented, while the block ends at the line less indented.\n",
    "\n",
    "\n",
    "- You should use **4 spaces** per indentation level.\n",
    "\n",
    "\n",
    "- When a statement is too long it's good practice to avoid lines of code longer than 80 characters), it can be split with `\"\\\"`\n",
    "\n",
    "\n",
    "- **Never mix** spaces and tabs in a single source file\n"
   ]
  },
  {
   "cell_type": "markdown",
   "metadata": {
    "id": "g_l8mjoXYSRM"
   },
   "source": [
    "> #### Recommended Reading:\n",
    ">\n",
    "> Recommended Reading: [PEP 8 - Style Guide for Python Code](https://www.python.org/dev/peps/pep-0008/)"
   ]
  },
  {
   "cell_type": "markdown",
   "metadata": {
    "id": "pOqwzExCYSRM"
   },
   "source": [
    "##### The code is way more readable:\n",
    "\n",
    "\n",
    "```python\n",
    "# raw_input() reads from standard input (e.g. keyboard)\n",
    "n_string = raw_input('enter a number, please')\n",
    "\n",
    "if not n_string.isdigit():\n",
    "    print(\"this isn't a number...\")\n",
    "else:\n",
    "    n = int(n_string)\n",
    "    if n == 0:\n",
    "        print(\"zero? why zero?\")\n",
    "    elif n % 2 == 0:\n",
    "        print(\"even\")\n",
    "    else:\n",
    "        print(\"odd\")\n",
    "```"
   ]
  },
  {
   "cell_type": "markdown",
   "metadata": {
    "id": "tdw3aMbXYSRN"
   },
   "source": [
    "##### The structure is transparent:\n",
    "\n",
    "<div style=\"float:left;margin:-12px 0 0 0\" markdown=\"1\">\n",
    "    <img src=\"https://github.com/bloemj/AUC_TMCI_2022/blob/main/notebooks/images/Indent.png?raw=1\" width=\"505\">\n",
    "</div>"
   ]
  },
  {
   "cell_type": "markdown",
   "metadata": {
    "id": "Dr7eWzzWYSRN"
   },
   "source": [
    "### Conditional Statements\n",
    "\n",
    "A lot of programming has to do with executing a block of code only if a certain condition is verified. \n",
    "\n",
    "In Python, the `if-then-else` construct has the form:\n",
    "\n",
    "```python\n",
    "if condition1:\n",
    "    statements\n",
    "elif condition2:\n",
    "    statements\n",
    "elif condition3:\n",
    "    statements\n",
    "else:\n",
    "    statements\n",
    "```\n",
    "\n",
    "Note that the `elif` and `else` clauses are optional. A conditional statement can contain a single `if` block, and nothing else."
   ]
  },
  {
   "cell_type": "code",
   "execution_count": null,
   "metadata": {
    "id": "0O_h4iUfYSRN",
    "outputId": "17947758-a53b-4fc5-db51-da0798f6f82f"
   },
   "outputs": [
    {
     "name": "stdout",
     "output_type": "stream",
     "text": [
      "odd\n"
     ]
    }
   ],
   "source": [
    "import random\n",
    "n = random.randrange(0,99)  # random number between 0 and 99\n",
    "if n == 0:\n",
    "    print(\"zero? why zero?\")\n",
    "elif n % 2 == 0:\n",
    "    print(\"even\")\n",
    "else:\n",
    "    print(\"odd\")"
   ]
  },
  {
   "cell_type": "markdown",
   "metadata": {
    "id": "6DdAYyb-YSRN"
   },
   "source": [
    "## Flow control\n",
    "\n",
    "### For Loops\n",
    "\n",
    "Programming is of little use if we cannot repeat an instruction for an intended number of times. \n",
    "\n",
    "The `for` statement allows us to define **iterations** (i.e.taking items from an iterable) by following this template:\n",
    "\n",
    "```python\n",
    "for variable in sequence:\n",
    "\tstatement\n",
    "else:\n",
    "\tstatement\n",
    "```\n",
    "\n",
    "The code in the optional `else` clause is executed if and only if the loop terminates successfully (i.e. without a **`break`**)"
   ]
  },
  {
   "cell_type": "code",
   "execution_count": null,
   "metadata": {
    "id": "yrHtudhNYSRN",
    "outputId": "4e3ce1a7-5878-4f32-d462-b04216e35655",
    "scrolled": true
   },
   "outputs": [
    {
     "name": "stdout",
     "output_type": "stream",
     "text": [
      "text\n",
      "23\n",
      "92\n",
      "another_text\n",
      "[1, 2, 3]\n"
     ]
    }
   ],
   "source": [
    "# let's iterate over our demo_list\n",
    "for el in demo_list:\n",
    "    print(el)"
   ]
  },
  {
   "cell_type": "markdown",
   "metadata": {
    "id": "2qA7PdNJYSRN"
   },
   "source": [
    "#### The enumerate function\n",
    "\n",
    "The `enumerate()` is problably the most used among the functions that supports the iteration of an iterable. This funtion return the current item plus **its index** in the iteration process."
   ]
  },
  {
   "cell_type": "code",
   "execution_count": null,
   "metadata": {
    "id": "balOFWGYYSRO",
    "outputId": "66f84039-adc9-41b9-8a86-2b79b6d8d93b"
   },
   "outputs": [
    {
     "name": "stdout",
     "output_type": "stream",
     "text": [
      "0 --> text\n",
      "1 --> 23\n",
      "2 --> 92\n",
      "3 --> another_text\n",
      "4 --> [1, 2, 3]\n"
     ]
    }
   ],
   "source": [
    "# use enumerate in the iteration over our demo_list\n",
    "for i, el in enumerate(demo_list):\n",
    "    print (i, \"-->\", el)"
   ]
  },
  {
   "cell_type": "markdown",
   "metadata": {
    "id": "M-njeR2jYSRO"
   },
   "source": [
    "#### The range construct\n",
    "\n",
    "The  `range()` construct can be used to control the iteration. It generate lists of numbers on the basis of the following three arguments:\n",
    "\n",
    "- `start` : the first integer of the list\n",
    "(default is 0)\n",
    "- `stop` : one larger the last integer of the list (list stop at n - 1)\n",
    "- `step`: the increment of the list (default is 1)"
   ]
  },
  {
   "cell_type": "code",
   "execution_count": null,
   "metadata": {
    "id": "zfoeRJY7YSRO",
    "outputId": "d296ecd5-96c1-4b15-daa7-116e7ab01858"
   },
   "outputs": [
    {
     "name": "stdout",
     "output_type": "stream",
     "text": [
      "range(0, 10)\n",
      "range(0, 10)\n",
      "range(1, 10, 2)\n"
     ]
    }
   ],
   "source": [
    "# let's play with range\n",
    "print(range(0,10))\n",
    "print(range(10))\n",
    "print(range(1,10,2))"
   ]
  },
  {
   "cell_type": "code",
   "execution_count": null,
   "metadata": {
    "id": "cHhCFxOsYSRO",
    "outputId": "999de444-b1d7-4001-8f16-98b37f22003c"
   },
   "outputs": [
    {
     "name": "stdout",
     "output_type": "stream",
     "text": [
      "1\n",
      "3\n",
      "5\n",
      "7\n",
      "9\n"
     ]
    }
   ],
   "source": [
    "# let's use range in a for loop\n",
    "for el in range(1, 10, 2):\n",
    "    print(el)"
   ]
  },
  {
   "cell_type": "markdown",
   "metadata": {
    "id": "chxniPVKYSRO"
   },
   "source": [
    "### While Loops\n",
    "\n",
    "The `while` statement allows us to control a loop on the basis of a condition. \n",
    "\n",
    "A `while` loop runs as long as a condition is verified. \n",
    "\n",
    "It has the following general form:\n",
    "\n",
    "```python\n",
    "while condition:\n",
    "\tstatement\n",
    "else:\n",
    "\tstatement\n",
    "```\n",
    "\n",
    "the code in the optional `else` clause is execute if and only if the loops terminates successfully (i.e., without a **`break`**)"
   ]
  },
  {
   "cell_type": "code",
   "execution_count": null,
   "metadata": {
    "id": "Z3iTszh1YSRP",
    "outputId": "c55b3f92-8094-49c2-9fc6-581e0e9edf7f"
   },
   "outputs": [
    {
     "name": "stdout",
     "output_type": "stream",
     "text": [
      "7\n",
      "64\n"
     ]
    }
   ],
   "source": [
    "n = 1\n",
    "while n % 2 != 0:\n",
    "    n = random.randrange(0,99)\n",
    "    print(n)"
   ]
  },
  {
   "cell_type": "markdown",
   "metadata": {
    "id": "I4IZD82MYSRP"
   },
   "source": [
    "### Break and Continue\n",
    "\n",
    "`break` and `continue` are two statements that allow for a more flexible control of a loop. Intuitively:\n",
    "\n",
    "- `continue` is used to pass to the next iteration of the loop\n",
    "- `break` is used to interrupt the loop abruptly"
   ]
  },
  {
   "cell_type": "code",
   "execution_count": null,
   "metadata": {
    "id": "09u41Mr1YSRQ",
    "outputId": "a63c1245-b051-4dd5-ed13-881b9ca07f1d"
   },
   "outputs": [
    {
     "name": "stdout",
     "output_type": "stream",
     "text": [
      "1\n",
      "3\n",
      "5\n",
      "9\n"
     ]
    }
   ],
   "source": [
    "# when we encounter 7 we skip to the next step\n",
    "for el in range(1, 10, 2):\n",
    "    if el == 7:\n",
    "        continue\n",
    "    print(el)"
   ]
  },
  {
   "cell_type": "code",
   "execution_count": null,
   "metadata": {
    "id": "9G7r7-5OYSRQ",
    "outputId": "ab755ee7-12e2-4711-8de1-6c0aca57606f"
   },
   "outputs": [
    {
     "name": "stdout",
     "output_type": "stream",
     "text": [
      "1\n",
      "3\n",
      "5\n"
     ]
    }
   ],
   "source": [
    "# when we encounter 7 we stop our loop \n",
    "for el in range(1, 10, 2):\n",
    "    if el == 7:\n",
    "        break\n",
    "    print(el)"
   ]
  },
  {
   "cell_type": "markdown",
   "metadata": {
    "id": "jLTfKR7VYSRQ"
   },
   "source": [
    "`break` influence the execution of the loop in yet another way: when a loop terminates due to a `break` statement, the code embedded in the option `else` clause is skipped."
   ]
  },
  {
   "cell_type": "code",
   "execution_count": null,
   "metadata": {
    "id": "ioqvxgYYYSRQ",
    "outputId": "9bc1e075-bb87-4ea6-9d5f-4bdf7d269af8"
   },
   "outputs": [
    {
     "name": "stdout",
     "output_type": "stream",
     "text": [
      "1\n",
      "3\n",
      "5\n",
      "(let's ignore the 7)\n",
      "9\n",
      ">>> the iteration ended with the number 9\n"
     ]
    }
   ],
   "source": [
    "# the continue statement does not influence the execution of the else block\n",
    "for el in range(1, 10, 2):\n",
    "    if el == 7:\n",
    "        print (\"(let's ignore the \" + str(el) + \")\")\n",
    "        continue\n",
    "    print(el)\n",
    "else:\n",
    "    print (\">>> the iteration ended with the number \" + str(el))"
   ]
  },
  {
   "cell_type": "code",
   "execution_count": null,
   "metadata": {
    "id": "pXbB44glYSRQ",
    "outputId": "df9da9fb-afb7-4fcc-c7b1-572e0bc7833d"
   },
   "outputs": [
    {
     "name": "stdout",
     "output_type": "stream",
     "text": [
      "1\n",
      "3\n",
      "5\n",
      "(we encountered the number 7, let's break the loop)\n"
     ]
    }
   ],
   "source": [
    "# what if we replace continue with break\n",
    "for el in range(1, 10, 2):\n",
    "    if el == 7:\n",
    "        print (\"(we encountered the number \" + str(el) + \", let's break the loop)\")\n",
    "        break\n",
    "    print(el)\n",
    "else:\n",
    "    print (\">>> the iteration ended with the number \" + str(el))"
   ]
  },
  {
   "cell_type": "markdown",
   "metadata": {
    "id": "9p_9zx56YSRQ"
   },
   "source": [
    "### The Pass Statement\n",
    "\n",
    "Given the importance of indentation for Python, sometimes we may need a placeholder that allows us to write down a condition for an `if-then-else` construct or for a `while` loop without writing any statement (maybe just a comment). This is the case in which the `pass` statement comes in handy. \n",
    "\n",
    "In what follows, **nothing happens**:\n",
    "\n",
    "```python\n",
    "if condition1:\n",
    "    pass\n",
    "else:\n",
    "    pass\n",
    "```\n"
   ]
  },
  {
   "cell_type": "markdown",
   "metadata": {
    "id": "shnPIjN8YSRR"
   },
   "source": [
    "### List Comprehensions\n",
    "\n",
    "A list comprehension is a syntactic construct that allows us to create lists by applying a function on another list, in just **one line** of code. \n",
    "\n",
    "Even if the reverse isn't always true, list comprehensions can always be (inefficiently) expressed as loops. We will exploit this family resemblance for introducing this construct."
   ]
  },
  {
   "cell_type": "markdown",
   "metadata": {
    "id": "S_a5Kje9YSRR"
   },
   "source": [
    "In what follows, we start with a list of numbers and we want to square all of its elements and save our final values in a new list."
   ]
  },
  {
   "cell_type": "code",
   "execution_count": null,
   "metadata": {
    "id": "pTo2a5vBYSRR"
   },
   "outputs": [],
   "source": [
    "# our source list\n",
    "source_list = [1,2,3,4,5,6,7,8,9]"
   ]
  },
  {
   "cell_type": "code",
   "execution_count": null,
   "metadata": {
    "id": "5BUnZBlMYSRR",
    "outputId": "47c78343-cf8e-4474-f965-0fa8316a2c19"
   },
   "outputs": [
    {
     "name": "stdout",
     "output_type": "stream",
     "text": [
      "[1, 4, 9, 16, 25, 36, 49, 64, 81]\n"
     ]
    }
   ],
   "source": [
    "# we can solve this problem with a for loop...\n",
    "final_list = []\n",
    "for el in source_list:\n",
    "    final_list.append(el ** 2)\n",
    "print(final_list)"
   ]
  },
  {
   "cell_type": "code",
   "execution_count": null,
   "metadata": {
    "id": "VrGBDtO_YSRR",
    "outputId": "126169d1-a19e-4c2c-c575-c124bea09085"
   },
   "outputs": [
    {
     "name": "stdout",
     "output_type": "stream",
     "text": [
      "[1, 4, 9, 16, 25, 36, 49, 64, 81]\n"
     ]
    }
   ],
   "source": [
    "# ... or by using list comprehension\n",
    "final_list = [el ** 2 for el in source_list]\n",
    "print(final_list)"
   ]
  },
  {
   "cell_type": "markdown",
   "metadata": {
    "id": "6dETInNLYSRR"
   },
   "source": [
    "**Conditional statements may be implemented**\n",
    "\n",
    "In what follows we want to ignore all the odd numbers"
   ]
  },
  {
   "cell_type": "code",
   "execution_count": null,
   "metadata": {
    "id": "elxFwbkCYSRR",
    "outputId": "b1689ccd-486e-46fc-fd44-aeffa62f4815"
   },
   "outputs": [
    {
     "name": "stdout",
     "output_type": "stream",
     "text": [
      "[4, 16, 36, 64]\n"
     ]
    }
   ],
   "source": [
    "# we can solve this problem with a for loop...\n",
    "final_list = []\n",
    "for el in source_list:\n",
    "    if el % 2 == 0:\n",
    "        final_list.append(el ** 2)\n",
    "print(final_list)"
   ]
  },
  {
   "cell_type": "code",
   "execution_count": null,
   "metadata": {
    "id": "BQrWCl8oYSRS",
    "outputId": "768d8a53-4e16-4805-d834-cc057e6e7cf1"
   },
   "outputs": [
    {
     "name": "stdout",
     "output_type": "stream",
     "text": [
      "[4, 16, 36, 64]\n"
     ]
    }
   ],
   "source": [
    "# ... or by using list comprehension\n",
    "final_list = [el ** 2 for el in source_list if el % 2 == 0]\n",
    "print(final_list)"
   ]
  },
  {
   "cell_type": "markdown",
   "metadata": {
    "id": "2WOmfaDWYSRS"
   },
   "source": [
    "**If you want to implement an else clause the syntax changes slightly**\n",
    "\n",
    "In what follows we want to leave the odd numbers unchanged"
   ]
  },
  {
   "cell_type": "code",
   "execution_count": null,
   "metadata": {
    "id": "lkEKFMmlYSRS",
    "outputId": "674f24a3-71e1-40b0-919d-b040092e4689"
   },
   "outputs": [
    {
     "name": "stdout",
     "output_type": "stream",
     "text": [
      "[1, 4, 3, 16, 5, 36, 7, 64, 9]\n"
     ]
    }
   ],
   "source": [
    "# we can solve this problem with a for loop...\n",
    "final_list = []\n",
    "for el in source_list:\n",
    "    if el % 2 == 0:\n",
    "        final_list.append(el ** 2)\n",
    "    else:\n",
    "        final_list.append(el)\n",
    "print(final_list)"
   ]
  },
  {
   "cell_type": "code",
   "execution_count": null,
   "metadata": {
    "id": "ngDvRVJKYSRS",
    "outputId": "83682999-3b9b-4d06-c530-e0bc932302f3"
   },
   "outputs": [
    {
     "name": "stdout",
     "output_type": "stream",
     "text": [
      "[1, 4, 3, 16, 5, 36, 7, 64, 9]\n"
     ]
    }
   ],
   "source": [
    "# ... or by using list comprehension\n",
    "final_list = [el ** 2 if el % 2 == 0 else el for el in source_list]\n",
    "print(final_list)"
   ]
  },
  {
   "cell_type": "markdown",
   "metadata": {
    "id": "ZUproSOIYSRS"
   },
   "source": [
    "---"
   ]
  },
  {
   "cell_type": "markdown",
   "metadata": {
    "id": "CA9B-HP9YSRS"
   },
   "source": [
    "### Quiz\n",
    "\n",
    "The list `random_numbers` contains 20 randomly generated integers. \n",
    "\n",
    "Create a new list containing only the positive numbers from the list"
   ]
  },
  {
   "cell_type": "code",
   "execution_count": null,
   "metadata": {
    "id": "XfMvc2ljYSRS"
   },
   "outputs": [],
   "source": [
    "random_numbers = [81, -36, 15, -96, 14, 51, 70, 40, -15, -64, -25, 82, -88, 7, -13, -30, 12, 32, 96, -55]"
   ]
  },
  {
   "cell_type": "code",
   "execution_count": null,
   "metadata": {
    "id": "XRqwsD83YSRT"
   },
   "outputs": [],
   "source": [
    "# your code here"
   ]
  },
  {
   "cell_type": "markdown",
   "metadata": {
    "id": "mG33u2INYSRT"
   },
   "source": [
    "---"
   ]
  },
  {
   "cell_type": "markdown",
   "metadata": {
    "id": "NlIQ0PPDYSRT"
   },
   "source": [
    "**Here's something you might find useful:**\n",
    "\n",
    "[Python Cheat Sheet](https://www.cheatography.com/davechild/cheat-sheets/python/)\n",
    "\n",
    "Collects much of the syntax we used today."
   ]
  },
  {
   "cell_type": "markdown",
   "metadata": {
    "id": "_ok-Y7uYYSRT"
   },
   "source": [
    "---"
   ]
  },
  {
   "cell_type": "markdown",
   "metadata": {
    "id": "z9mDJmB5YSRT"
   },
   "source": [
    "### Exercise 1.\n",
    "\n",
    "The code in the next cell creates a variable called `zen_text`, and assigns it a nicely formatted version of the textual elements of the Zen of Python.\n",
    "\n",
    "**Count the number of non-empty lines** of this manifesto."
   ]
  },
  {
   "cell_type": "code",
   "execution_count": null,
   "metadata": {
    "id": "VxC_ZIM4YSRT"
   },
   "outputs": [],
   "source": [
    "import this\n",
    "zen_text = ''.join(this.d.get(el, el) for el in this.s)"
   ]
  },
  {
   "cell_type": "code",
   "execution_count": null,
   "metadata": {
    "id": "0ODm3rymYSRT"
   },
   "outputs": [],
   "source": [
    "# your code here"
   ]
  },
  {
   "cell_type": "markdown",
   "metadata": {
    "id": "fC8fpswbYSRT"
   },
   "source": [
    "### Exercise 2.\n",
    "\n",
    "The dictionary in the following cell reports, for each Scrubs character, a nested dictionary containing the name of the actor, the age of the character and its credentials.\n",
    "\n",
    "Write code to answer the following questions:\n",
    "\n",
    "- what are the **names of the actors** of the cast?\n",
    "\n",
    "\n",
    "- what is the **average age** of the characters?\n",
    "\n",
    "\n",
    "- how **many M.D.s** are there in the main cast?"
   ]
  },
  {
   "cell_type": "code",
   "execution_count": null,
   "metadata": {
    "id": "vGZe1SF0YSRU"
   },
   "outputs": [],
   "source": [
    "scrubs_main = {'Bob Kelso': {'actor': 'Ken Jenkins', 'age': 70, 'credentials': 'M.D.'},\n",
    "               'Carla Espinosa-Turk': {'actor': 'Judy Reyes', 'age': 36, 'credentials': 'RN'},\n",
    "               'Christopher Turk': {'actor': 'Donald Faison', 'age': 31, 'credentials': 'M.D.'},\n",
    "               'Elliot Reid': {'actor': 'Sarah Chalke', 'age': 29, 'credentials': 'M.D.'},\n",
    "               'J.D.': {'actor': 'Zach Braff', 'age': 31, 'credentials': 'M.D.'},\n",
    "               'Janitor': {'actor': 'Neil Flynn', 'age': 40, 'credentials': None},\n",
    "               'Perry Cox': {'actor': 'John C. McGinley', 'age': 45, 'credentials': 'M.D.'}}"
   ]
  },
  {
   "cell_type": "code",
   "execution_count": null,
   "metadata": {
    "id": "GepXuck8YSRU"
   },
   "outputs": [],
   "source": [
    "# your code here"
   ]
  },
  {
   "cell_type": "markdown",
   "metadata": {
    "id": "zxg8a1p3YSRU"
   },
   "source": [
    "---"
   ]
  }
 ],
 "metadata": {
  "colab": {
   "name": "1_Fundamentals.ipynb",
   "provenance": []
  },
  "kernelspec": {
   "display_name": "Python 3 (ipykernel)",
   "language": "python",
   "name": "python3"
  },
  "language_info": {
   "codemirror_mode": {
    "name": "ipython",
    "version": 3
   },
   "file_extension": ".py",
   "mimetype": "text/x-python",
   "name": "python",
   "nbconvert_exporter": "python",
   "pygments_lexer": "ipython3",
   "version": "3.8.13"
  },
  "toc": {
   "base_numbering": 1,
   "nav_menu": {},
   "number_sections": true,
   "sideBar": true,
   "skip_h1_title": false,
   "title_cell": "Table of Contents",
   "title_sidebar": "Contents",
   "toc_cell": false,
   "toc_position": {},
   "toc_section_display": true,
   "toc_window_display": true
  }
 },
 "nbformat": 4,
 "nbformat_minor": 4
}
