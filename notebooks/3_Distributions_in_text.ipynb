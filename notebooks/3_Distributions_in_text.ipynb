{
 "cells": [
  {
   "cell_type": "markdown",
   "metadata": {
    "id": "fhiH_vR7jR7T"
   },
   "source": [
    "# Distributions in Text"
   ]
  },
  {
   "cell_type": "markdown",
   "metadata": {
    "id": "Sc51CBRGjR7V"
   },
   "source": [
    ">- [Corpora in NLTK](#Corpora-in-NLTK)\n",
    ">\n",
    ">\n",
    ">- [Word Frequencies](#Word-Frequencies)\n",
    ">\n",
    ">\n",
    ">- [The-Zipf's Law](#The-Zipf's-Law)"
   ]
  },
  {
   "cell_type": "markdown",
   "metadata": {
    "id": "rj1p5ZB2jR7W"
   },
   "source": [
    "---"
   ]
  },
  {
   "cell_type": "code",
   "execution_count": 6,
   "metadata": {
    "id": "9nYH5PCujR7X"
   },
   "outputs": [],
   "source": [
    "%matplotlib inline\n",
    "import matplotlib as plt"
   ]
  },
  {
   "cell_type": "markdown",
   "metadata": {
    "id": "q5ZsqnG-jR7b"
   },
   "source": [
    "## Corpora in NLTK\n",
    "\n",
    "The `nltk.corpus` package defines a collection of `corpus reader` classes, which can be used to access the contents of a diverse set of corpora:"
   ]
  },
  {
   "cell_type": "code",
   "execution_count": 7,
   "metadata": {
    "id": "Q2lcZD7VjR7c"
   },
   "outputs": [],
   "source": [
    "import nltk.corpus"
   ]
  },
  {
   "cell_type": "markdown",
   "metadata": {
    "id": "AUVQGUkNjR7d"
   },
   "source": [
    "Some of the `corpus reader` classes:"
   ]
  },
  {
   "cell_type": "code",
   "execution_count": 8,
   "metadata": {
    "id": "Xp54rJP1jR7e",
    "outputId": "81f596c9-c32b-496b-da71-b8981e026d61"
   },
   "outputs": [
    {
     "name": "stdout",
     "output_type": "stream",
     "text": [
      "<CategorizedTaggedCorpusReader in '.../corpora/brown' (not loaded yet)>\n",
      "<BracketParseCorpusReader in '.../corpora/treebank/combined' (not loaded yet)>\n",
      "<WordListCorpusReader in '.../corpora/names' (not loaded yet)>\n",
      "<PlaintextCorpusReader in '.../corpora/gutenberg' (not loaded yet)>\n"
     ]
    }
   ],
   "source": [
    "# The Brown corpus\n",
    "print(nltk.corpus.brown)\n",
    "\n",
    "# The Penn Treebank Corpus\n",
    "print(nltk.corpus.treebank)\n",
    "\n",
    "# The Name Genders Corpus\n",
    "print(nltk.corpus.names)\n",
    "\n",
    "# The Gutenberg Corpus\n",
    "print(nltk.corpus.gutenberg)"
   ]
  },
  {
   "cell_type": "markdown",
   "metadata": {
    "id": "q9Cl3p8KjR7g"
   },
   "source": [
    "### Corpus Readers\n",
    "\n",
    "Each corpus reader provides a variety of methods implementing a wide range of functionalities, depending on the format of the corpus."
   ]
  },
  {
   "cell_type": "markdown",
   "metadata": {
    "id": "LfPYzWkSjR7i"
   },
   "source": [
    "- Want to know more about a corpus? Use the method `readme()` to access the corpus `ReadMe`"
   ]
  },
  {
   "cell_type": "code",
   "execution_count": 11,
   "metadata": {
    "id": "8gbfgVD0jR7j",
    "outputId": "35021871-eb22-464c-b516-13275b16bb9c"
   },
   "outputs": [
    {
     "name": "stdout",
     "output_type": "stream",
     "text": [
      "BROWN CORPUS\n",
      "\n",
      "A Standard Corpus of Present-Day Edited American\n",
      "English, for use with Digital Computers.\n",
      "\n",
      "by W. N. Francis and H. Kucera (1964)\n",
      "Department of Linguistics, Brown University\n",
      "Providence, Rhode Island, USA\n",
      "\n",
      "Revised 1971, Revised and Amplified 1979\n",
      "\n",
      "http://www.hit.uib.no/icame/brown/bcm.html\n",
      "\n",
      "Distributed with the permission of the copyright holder,\n",
      "redistribution permitted.\n",
      "\n"
     ]
    }
   ],
   "source": [
    "# Do you remember the Brown corpus?\n",
    "print(nltk.corpus.brown.readme())"
   ]
  },
  {
   "cell_type": "markdown",
   "metadata": {
    "id": "tc66_fZcjR7l"
   },
   "source": [
    "- Most plaintext and tagged corpora support methods to read the corpus as raw text, a list of words, a list of sentences, or a list of paragraphs."
   ]
  },
  {
   "cell_type": "code",
   "execution_count": 14,
   "metadata": {
    "id": "DVRcpH_SjR7l",
    "outputId": "25ab9197-bc68-484e-d6e6-8cb57d7f1211"
   },
   "outputs": [
    {
     "name": "stdout",
     "output_type": "stream",
     "text": [
      "[Emma by Jane Austen 1816]\n",
      "\n",
      "VOLUME I\n",
      "\n",
      "CHAPTER I\n",
      "\n",
      "\n",
      "Emma Woodhouse, handsome, clever, and rich, with a comfortable home\n",
      "and happy disposition, seemed to unite some of the best blessings\n",
      "of existence; and had lived nearly twenty-one years in the world\n",
      "with very little to distress or vex her.\n"
     ]
    }
   ],
   "source": [
    "# `nltk.corpus.gutenberg` is a subset of the full Project Gutenberg corpus, starting with Jane Austen's 'Emma'\n",
    "\n",
    "# Accessing corpus as raw text\n",
    "print(nltk.corpus.gutenberg.raw()[:289])"
   ]
  },
  {
   "cell_type": "code",
   "execution_count": 15,
   "metadata": {
    "id": "2YhEoskJjR7m",
    "outputId": "7f450552-21c6-48f0-9c44-f5bfd0da95c2"
   },
   "outputs": [
    {
     "name": "stdout",
     "output_type": "stream",
     "text": [
      "['[', 'Emma', 'by', 'Jane', 'Austen', '1816', ']', 'VOLUME', 'I', 'CHAPTER', 'I', 'Emma', 'Woodhouse', ',', 'handsome', ',', 'clever', ',', 'and', 'rich', ',', 'with', 'a', 'comfortable', 'home', 'and', 'happy', 'disposition', ',', 'seemed', 'to', 'unite', 'some', 'of', 'the', 'best', 'blessings', 'of', 'existence', ';', 'and', 'had', 'lived', 'nearly', 'twenty', '-', 'one', 'years', 'in', 'the', 'world', 'with', 'very', 'little', 'to', 'distress', 'or', 'vex', 'her', '.']\n"
     ]
    }
   ],
   "source": [
    "# list of words\n",
    "print(nltk.corpus.gutenberg.words()[:60])"
   ]
  },
  {
   "cell_type": "code",
   "execution_count": 16,
   "metadata": {
    "id": "eux4ey4gjR7n",
    "outputId": "ee56a7ac-b586-4218-81ae-390f77b0c72a"
   },
   "outputs": [
    {
     "name": "stdout",
     "output_type": "stream",
     "text": [
      "[['[', 'Emma', 'by', 'Jane', 'Austen', '1816', ']'], ['VOLUME', 'I'], ['CHAPTER', 'I'], ['Emma', 'Woodhouse', ',', 'handsome', ',', 'clever', ',', 'and', 'rich', ',', 'with', 'a', 'comfortable', 'home', 'and', 'happy', 'disposition', ',', 'seemed', 'to', 'unite', 'some', 'of', 'the', 'best', 'blessings', 'of', 'existence', ';', 'and', 'had', 'lived', 'nearly', 'twenty', '-', 'one', 'years', 'in', 'the', 'world', 'with', 'very', 'little', 'to', 'distress', 'or', 'vex', 'her', '.']]\n"
     ]
    }
   ],
   "source": [
    "# list of sentences\n",
    "print(nltk.corpus.gutenberg.sents()[:4])"
   ]
  },
  {
   "cell_type": "code",
   "execution_count": 17,
   "metadata": {
    "id": "6I2W25cGjR7n",
    "outputId": "4427c5b2-c4ef-4c5e-ba28-b59d1a2a4134"
   },
   "outputs": [
    {
     "name": "stdout",
     "output_type": "stream",
     "text": [
      "[[['[', 'Emma', 'by', 'Jane', 'Austen', '1816', ']']], [['VOLUME', 'I']], [['CHAPTER', 'I']], [['Emma', 'Woodhouse', ',', 'handsome', ',', 'clever', ',', 'and', 'rich', ',', 'with', 'a', 'comfortable', 'home', 'and', 'happy', 'disposition', ',', 'seemed', 'to', 'unite', 'some', 'of', 'the', 'best', 'blessings', 'of', 'existence', ';', 'and', 'had', 'lived', 'nearly', 'twenty', '-', 'one', 'years', 'in', 'the', 'world', 'with', 'very', 'little', 'to', 'distress', 'or', 'vex', 'her', '.']]]\n"
     ]
    }
   ],
   "source": [
    "# list of paragraphs\n",
    "print(nltk.corpus.gutenberg.paras()[:4])"
   ]
  },
  {
   "cell_type": "markdown",
   "metadata": {
    "id": "kBtEiRfZjR7p"
   },
   "source": [
    "- Most corpora are composed by set of files, whose id can be retrieved by using the `fileids()` method"
   ]
  },
  {
   "cell_type": "code",
   "execution_count": 18,
   "metadata": {
    "id": "avIPJJe3jR7q",
    "outputId": "bda3ac02-db72-4b59-e99f-759f591b9025"
   },
   "outputs": [
    {
     "name": "stdout",
     "output_type": "stream",
     "text": [
      "['austen-emma.txt', 'austen-persuasion.txt', 'austen-sense.txt', 'bible-kjv.txt', 'blake-poems.txt', 'bryant-stories.txt', 'burgess-busterbrown.txt', 'carroll-alice.txt', 'chesterton-ball.txt', 'chesterton-brown.txt', 'chesterton-thursday.txt', 'edgeworth-parents.txt', 'melville-moby_dick.txt', 'milton-paradise.txt', 'shakespeare-caesar.txt', 'shakespeare-hamlet.txt', 'shakespeare-macbeth.txt', 'whitman-leaves.txt']\n"
     ]
    }
   ],
   "source": [
    "print(nltk.corpus.gutenberg.fileids())"
   ]
  },
  {
   "cell_type": "markdown",
   "metadata": {
    "id": "1RtvXG73jR7s"
   },
   "source": [
    "- The above methods methods accept a single file name (or a list of file names) to restrict their scope:"
   ]
  },
  {
   "cell_type": "code",
   "execution_count": 19,
   "metadata": {
    "id": "9yMNhuxvjR7s",
    "outputId": "4564e0c3-4042-4d70-b2e9-9829f59465f8"
   },
   "outputs": [
    {
     "name": "stdout",
     "output_type": "stream",
     "text": [
      "[['[', 'Alice', \"'\", 's', 'Adventures', 'in', 'Wonderland', 'by', 'Lewis', 'Carroll', '1865', ']'], ['CHAPTER', 'I', '.'], ['Down', 'the', 'Rabbit', '-', 'Hole'], ['Alice', 'was', 'beginning', 'to', 'get', 'very', 'tired', 'of', 'sitting', 'by', 'her', 'sister', 'on', 'the', 'bank', ',', 'and', 'of', 'having', 'nothing', 'to', 'do', ':', 'once', 'or', 'twice', 'she', 'had', 'peeped', 'into', 'the', 'book', 'her', 'sister', 'was', 'reading', ',', 'but', 'it', 'had', 'no', 'pictures', 'or', 'conversations', 'in', 'it', ',', \"'\", 'and', 'what', 'is', 'the', 'use', 'of', 'a', 'book', \",'\", 'thought', 'Alice', \"'\", 'without', 'pictures', 'or', 'conversation', \"?'\"], ['So', 'she', 'was', 'considering', 'in', 'her', 'own', 'mind', '(', 'as', 'well', 'as', 'she', 'could', ',', 'for', 'the', 'hot', 'day', 'made', 'her', 'feel', 'very', 'sleepy', 'and', 'stupid', '),', 'whether', 'the', 'pleasure', 'of', 'making', 'a', 'daisy', '-', 'chain', 'would', 'be', 'worth', 'the', 'trouble', 'of', 'getting', 'up', 'and', 'picking', 'the', 'daisies', ',', 'when', 'suddenly', 'a', 'White', 'Rabbit', 'with', 'pink', 'eyes', 'ran', 'close', 'by', 'her', '.']]\n"
     ]
    }
   ],
   "source": [
    "# the first 5 sentences of Alice in Wonderland\n",
    "print(nltk.corpus.gutenberg.sents(\"carroll-alice.txt\")[:5])"
   ]
  },
  {
   "cell_type": "markdown",
   "metadata": {
    "id": "XNFJbXX9jR7t"
   },
   "source": [
    "- Categorized corpora accept the `categories()` methods and the categorize tags can be used to restrict the scope of text accessing methods:"
   ]
  },
  {
   "cell_type": "code",
   "execution_count": 20,
   "metadata": {
    "id": "lNenCSR3jR7u",
    "outputId": "41649019-5886-43c5-c138-43f54f091f96"
   },
   "outputs": [
    {
     "name": "stdout",
     "output_type": "stream",
     "text": [
      "['adventure', 'belles_lettres', 'editorial', 'fiction', 'government', 'hobbies', 'humor', 'learned', 'lore', 'mystery', 'news', 'religion', 'reviews', 'romance', 'science_fiction']\n"
     ]
    }
   ],
   "source": [
    "print(nltk.corpus.brown.categories())"
   ]
  },
  {
   "cell_type": "code",
   "execution_count": 21,
   "metadata": {
    "id": "DPl9TazRjR7v",
    "outputId": "c7243110-0db8-4dc4-f878-a0a7166e3292"
   },
   "outputs": [
    {
     "name": "stdout",
     "output_type": "stream",
     "text": [
      "['cn01', 'cn02', 'cn03', 'cn04', 'cn05', 'cn06', 'cn07', 'cn08', 'cn09', 'cn10', 'cn11', 'cn12', 'cn13', 'cn14', 'cn15', 'cn16', 'cn17', 'cn18', 'cn19', 'cn20', 'cn21', 'cn22', 'cn23', 'cn24', 'cn25', 'cn26', 'cn27', 'cn28', 'cn29']\n"
     ]
    }
   ],
   "source": [
    "# fileids of category 'adventure'\n",
    "print(nltk.corpus.brown.fileids('adventure'))"
   ]
  },
  {
   "cell_type": "code",
   "execution_count": 22,
   "metadata": {
    "id": "vl0pIE_RjR7w",
    "outputId": "3bb53133-4199-45e4-8e33-f9964c889cd8"
   },
   "outputs": [
    {
     "name": "stdout",
     "output_type": "stream",
     "text": [
      "61604\n",
      "100554\n"
     ]
    }
   ],
   "source": [
    "# the editorial section of the Brown corpus is composed by fewer words than the news one\n",
    "print(len(nltk.corpus.brown.words(categories = \"editorial\")))\n",
    "print(len(nltk.corpus.brown.words(categories = \"news\")))"
   ]
  },
  {
   "cell_type": "markdown",
   "metadata": {
    "id": "5KBDxJwJjR7y"
   },
   "source": [
    "- Some corpora may have overlapping categories, so that the possibility of interplaying between category names and filenames can be useful:"
   ]
  },
  {
   "cell_type": "code",
   "execution_count": 23,
   "metadata": {
    "id": "x2I9EY0VjR7y",
    "outputId": "7133bee9-4a85-4eec-b025-d832478604b8"
   },
   "outputs": [
    {
     "name": "stdout",
     "output_type": "stream",
     "text": [
      "['acq', 'alum', 'barley', 'bop', 'carcass', 'castor-oil', 'cocoa', 'coconut', 'coconut-oil', 'coffee', 'copper', 'copra-cake', 'corn', 'cotton', 'cotton-oil', 'cpi', 'cpu', 'crude', 'dfl', 'dlr', 'dmk', 'earn', 'fuel', 'gas', 'gnp', 'gold', 'grain', 'groundnut', 'groundnut-oil', 'heat', 'hog', 'housing', 'income', 'instal-debt', 'interest', 'ipi', 'iron-steel', 'jet', 'jobs', 'l-cattle', 'lead', 'lei', 'lin-oil', 'livestock', 'lumber', 'meal-feed', 'money-fx', 'money-supply', 'naphtha', 'nat-gas', 'nickel', 'nkr', 'nzdlr', 'oat', 'oilseed', 'orange', 'palladium', 'palm-oil', 'palmkernel', 'pet-chem', 'platinum', 'potato', 'propane', 'rand', 'rape-oil', 'rapeseed', 'reserves', 'retail', 'rice', 'rubber', 'rye', 'ship', 'silver', 'sorghum', 'soy-meal', 'soy-oil', 'soybean', 'strategic-metal', 'sugar', 'sun-meal', 'sun-oil', 'sunseed', 'tea', 'tin', 'trade', 'veg-oil', 'wheat', 'wpi', 'yen', 'zinc']\n"
     ]
    }
   ],
   "source": [
    "# categories of the Reuters corpus\n",
    "print(nltk.corpus.reuters.categories())"
   ]
  },
  {
   "cell_type": "code",
   "execution_count": 24,
   "metadata": {
    "id": "Th37OREmjR76",
    "outputId": "d0c77fb6-f006-45a6-a2bf-a95f072a4bc7"
   },
   "outputs": [
    {
     "name": "stdout",
     "output_type": "stream",
     "text": [
      "['test/14842', 'test/15411', 'test/15471', 'test/15481', 'test/15803', 'test/15811', 'test/16009', 'test/16149', 'test/16162', 'test/16212', 'test/16248', 'test/16286', 'test/16589', 'test/16604', 'test/17457', 'test/17622', 'test/17632', 'test/17654', 'test/17714', 'test/18013', 'test/18176', 'test/19152', 'test/19764', 'test/19802', 'test/19808', 'test/20096', 'test/20699', 'test/21293', 'test/21314', 'test/21576', 'training/10214', 'training/10216', 'training/10485', 'training/10546', 'training/10662', 'training/1072', 'training/10811', 'training/1082', 'training/10868', 'training/10969', 'training/10994', 'training/11627', 'training/11638', 'training/11830', 'training/11839', 'training/11852', 'training/12442', 'training/12796', 'training/12963', 'training/12987', 'training/13116', 'training/13690', 'training/13757', 'training/13791', 'training/14572', 'training/1607', 'training/1897', 'training/1918', 'training/1942', 'training/2073', 'training/2411', 'training/2559', 'training/2762', 'training/2782', 'training/2785', 'training/2880', 'training/2983', 'training/309', 'training/314', 'training/3322', 'training/3327', 'training/3574', 'training/3625', 'training/3646', 'training/3704', 'training/3793', 'training/3997', 'training/4058', 'training/4066', 'training/4407', 'training/448', 'training/4648', 'training/4708', 'training/4816', 'training/488', 'training/5209', 'training/5255', 'training/5323', 'training/5481', 'training/5526', 'training/5541', 'training/5558', 'training/5564', 'training/5567', 'training/5932', 'training/5958', 'training/6218', 'training/6658', 'training/6872', 'training/6957', 'training/697', 'training/6985', 'training/7023', 'training/7088', 'training/7166', 'training/7629', 'training/7645', 'training/7775', 'training/7823', 'training/7985', 'training/8068', 'training/8331', 'training/8757', 'training/8854', 'training/8857', 'training/8877', 'training/8948', 'training/9104', 'training/9190', 'training/9453', 'training/9489', 'training/9799', 'training/9853', 'training/9866']\n"
     ]
    }
   ],
   "source": [
    "# which files of the Reuters corpus belong to category \"gold\"?\n",
    "print(nltk.corpus.reuters.fileids(\"gold\"))"
   ]
  },
  {
   "cell_type": "code",
   "execution_count": 25,
   "metadata": {
    "id": "aTe7wgNcjR78",
    "outputId": "80eebff1-ef67-45dd-dbaa-d1f263b066a2"
   },
   "outputs": [
    {
     "name": "stdout",
     "output_type": "stream",
     "text": [
      "['cotton', 'gold', 'grain', 'livestock', 'money-fx', 'silver']\n"
     ]
    }
   ],
   "source": [
    "# what are the topics of the file called \"test/16009\"?\n",
    "print(nltk.corpus.reuters.categories(\"test/16009\"))"
   ]
  },
  {
   "cell_type": "code",
   "execution_count": 26,
   "metadata": {
    "id": "34kdDmfejR79",
    "outputId": "98a4944f-8b91-4b3e-f6bd-d83f6f7f5338"
   },
   "outputs": [
    {
     "data": {
      "text/plain": [
       "'U.S. DOLLAR LOSSES PROPEL BROAD COMMODITY GAINS\\n  Commodities from gold to grains to\\n  cotton posted solid gains in a flurry of buying today as losses\\n  in the U.S. dollar and rising interest rates kindled fears of\\n  inflation and economic instability.\\n      Gains were most pronounced on the Commodity Exchange in New\\n  York, where gold jumped 12.40 dlrs and closed at 436.50 dlrs a\\n  troy ounce, and silver 22.5 cents to 6.86 dlrs a troy ounce.\\n      A key factor behind the advance was anticipation that\\n  inflation will be the only way for the major industrial nations\\n  to halt the slide in the value of the U.S. dollar, said Steve\\n  Chronowitz, director of commodity research with Smith Barney,\\n  Harris Upham and Co., in New York.\\n      The dollar tumbled one day after top finance officials from\\n  the seven largest industrial nations reaffirmed their\\n  commitment to support its value, and despite reports of\\n  intervention by the U.S. Federal Reserve Bank, traders said.\\n      Traders said it appears that the industrial nations, known\\n  as the Group of Seven, lack the ability to change the long-term\\n  direction of the currency markets.\\n      \"Maybe they have some ideas or plans,\" said Chronowitz. \"If\\n  they do, it\\'s not evident.\"\\n      \"It looks like there\\'s no cure but to let the free market\\n  take values to where they should be.\\n      \"One way or another, we will force our major trading\\n  partners to stimulate their economies,\" as a measure to correct\\n  the mounting U.S. trade deficit, Chronowitz said.\\n      \"I think the markets believe, and have believed for a long\\n  time, that the only recourse is to reflate at some point. It\\'s\\n  going to be a long and tedious process, but that\\'s what\\'s\\n  happening,\" he said.\\n      The falling value of the dollar makes U.S. commodities\\n  cheaper for foreign buyers, stimulating demand.\\n      At the same time, traders who are holding stocks and bonds\\n  saw the value of their investments falling and many are turning\\n  to commodities such as precious metals as a hedge, said Marty\\n  McNeill, a metals analyst in New York with the trading house of\\n  Dominick and Dominick.\\n      The reaction in the metal markets reverberated throughout\\n  the commodities markets, as grains, livestock, and cotton\\n  posted broad gains.\\n      Traders at the Chicago Board of Trade said attention in the\\n  grain markets has shifted from concern about burdensome\\n  supplies to the outlook that a lower dollar will stimulate\\n  export demand.\\n      After the close of trading, the Agriculture Department\\n  raised its estimate for grain imports by the Soviet Union by\\n  two mln tonnes from the month-earlier report.\\n      Live hogs and frozen pork bellies posted sharp gains on the\\n  Chicago Mercantile Exchange, while live cattle were moderately\\n  higher.\\n      Analysts said several factors boosted hog prices. They said\\n  hogs haven\\'t been making the weight gains that are normal at\\n  this time of year, and farmers have been too busy with field\\n  work to market animals.\\n  \\n\\n'"
      ]
     },
     "execution_count": 26,
     "metadata": {},
     "output_type": "execute_result"
    }
   ],
   "source": [
    "# the raw file\n",
    "nltk.corpus.reuters.raw(\"test/16009\")"
   ]
  },
  {
   "cell_type": "markdown",
   "metadata": {
    "id": "BHQoiqLtjR79"
   },
   "source": [
    "### Loading your Corpus\n",
    "\n",
    "If you want to access a corpus that is not part of the NLTK distribution or to access an existing corpus by using a customized reader (e.g. a customize tokenizer), you may want to create a new corpus reader."
   ]
  },
  {
   "cell_type": "markdown",
   "metadata": {
    "id": "1s75g12PjR7-"
   },
   "source": [
    "Different corpus readers have different constructor signatures. For instance, the folder `./data/gutenberg-extension` contains a selection of 5 (additional) books from the Gutenberg collection, plus a readme file. We can treat these text files as a nltk corpus by using the `PlaintextCorpusReader()` method to import them."
   ]
  },
  {
   "cell_type": "markdown",
   "metadata": {
    "id": "TnQOcNhfjR7-"
   },
   "source": [
    "Arguments of the `PlaintextCorpusReader()` method are the root of the corpus folder plus a list of files (e.g. `[\"austen-pride.txt\", \"doyle-sherlock.txt\"]`) or a pattern matching fileids."
   ]
  },
  {
   "cell_type": "code",
   "execution_count": 27,
   "metadata": {
    "id": "L-UNiP95jR7-"
   },
   "outputs": [],
   "source": [
    "# all (txt) files\n",
    "gutenberg_extension = nltk.corpus.PlaintextCorpusReader(\"./data/gutenberg-extension\", '.*.txt')\n",
    "\n",
    "## all files containing 'austen'\n",
    "# gutenberg_extension = nltk.corpus.PlaintextCorpusReader(\"./data/gutenberg-extension\", 'austen.*')"
   ]
  },
  {
   "cell_type": "code",
   "execution_count": 28,
   "metadata": {
    "id": "13GJ-IJLjR7_",
    "outputId": "66aa5473-a014-44fa-ba61-0c601eeddff3"
   },
   "outputs": [
    {
     "data": {
      "text/plain": [
       "['austen-pride.txt',\n",
       " 'doyle-sherlock.txt',\n",
       " 'joyce-dubliners.txt',\n",
       " 'shelley-frankestein.txt',\n",
       " 'stoker-dracula.txt']"
      ]
     },
     "execution_count": 28,
     "metadata": {},
     "output_type": "execute_result"
    }
   ],
   "source": [
    "# note that the README file is not part of the corpus...\n",
    "gutenberg_extension.fileids()"
   ]
  },
  {
   "cell_type": "code",
   "execution_count": 29,
   "metadata": {
    "id": "yCLkYUd7jR8A",
    "outputId": "9ba2be0b-006b-4e0e-9b25-81a8a35e014f"
   },
   "outputs": [
    {
     "name": "stdout",
     "output_type": "stream",
     "text": [
      "Project Gutenberg Extension\n",
      "http://gutenberg.net/\n",
      "\n",
      "This corpus contains etexts from from Project Gutenberg,\n",
      "by the following authors:\n",
      "\n",
      "* Jane Austen\n",
      "* Arthur Conan Doyle\n",
      "* James Joyce\n",
      "* Mary Wollstonecraft (Godwin) Shelley\n",
      "* Bram Stoker\n",
      "\n",
      "This is just of toy-example for educational purposes. \n",
      "The same legal conditions as the gutenberg corpus in the NLTK\n",
      "distribution apply.\n"
     ]
    }
   ],
   "source": [
    "# ... yet it has been handled in a special way\n",
    "print(gutenberg_extension.readme())"
   ]
  },
  {
   "cell_type": "markdown",
   "metadata": {
    "id": "Wt4U-elWjR8A"
   },
   "source": [
    "> For the full list of corpus reader methods see the [Corpus Readers HowTo](http://www.nltk.org/howto/corpus.html) or the official documentation (i.e. `help(nltk.corpus.reader)`)."
   ]
  },
  {
   "cell_type": "markdown",
   "metadata": {
    "id": "Igz9_4rEjR8C"
   },
   "source": [
    "---"
   ]
  },
  {
   "cell_type": "markdown",
   "metadata": {
    "id": "cPMCqc3bjR8C"
   },
   "source": [
    "### Text Objects\n",
    "\n",
    "The NLTK `Text` class is a wrapper around a sequence of simple (string) tokens that offers a series of usefull methods supporting the **initial exploration** of text.\n",
    "\n",
    "A `Text` is typically initialized from a given document or corpus:"
   ]
  },
  {
   "cell_type": "code",
   "execution_count": 32,
   "metadata": {
    "id": "tw8mHdYJjR8C"
   },
   "outputs": [],
   "source": [
    "us_inaugural_addresses = nltk.text.Text(nltk.corpus.inaugural.words())"
   ]
  },
  {
   "cell_type": "markdown",
   "metadata": {
    "id": "F0wvGvZzjR8D"
   },
   "source": [
    "The `concordance(self, word, width=79, lines=25)` method allows you to visually inspect the occurrences of a given \"`word`\", returned in the so-called **KWIC** (Keyword in Context) format. Optional arguments: \n",
    "\n",
    "- \"`lines`\": number of returned occurrences\n",
    "\n",
    "\n",
    "- \"`width`\": width of the context of presentation (i.e. \"line width\")\n"
   ]
  },
  {
   "cell_type": "code",
   "execution_count": 33,
   "metadata": {
    "id": "P1evOomkjR8D",
    "outputId": "aa0bd5e8-8ee9-421a-8245-68b3d83af1b2"
   },
   "outputs": [
    {
     "name": "stdout",
     "output_type": "stream",
     "text": [
      "Displaying 10 of 56 matches:\n",
      "years under the administration of a citizen who , by a long course of great act\n",
      "ll its branches , under which every citizen may by his merit obtain the highest\n",
      "; a Government which protects every citizen in the full enjoyment of his rights\n",
      "untry , it is the interest of every citizen to maintain it . What are the dange\n",
      " The sentiment in the mind of every citizen is national strength . It ought the\n",
      "ill to perform , the heart of every citizen must expand with joy when he reflec\n",
      "ese promises , made by that eminent citizen at the time of his first induction \n",
      "s the obligation imposed upon every citizen , in his own sphere of action , whe\n",
      "ssessed by each individual American citizen which in his compact with the other\n",
      " . The boasted privilege of a Roman citizen was to him a shield only against a \n"
     ]
    }
   ],
   "source": [
    "us_inaugural_addresses.concordance(\"citizen\", width = 80, lines = 10)"
   ]
  },
  {
   "cell_type": "code",
   "execution_count": 34,
   "metadata": {
    "id": "4DOad0A7jR8E",
    "outputId": "aa4fa050-a766-47aa-8034-62476ac4e83c"
   },
   "outputs": [
    {
     "name": "stdout",
     "output_type": "stream",
     "text": [
      "Displaying 10 of 248 matches:\n",
      "Fellow - Citizens of the Senate and of the House of R\n",
      " wisest and most experienced of her citizens a distrustful scrutiny into his qua\n",
      "roof of the confidence of my fellow citizens , and have thence too little consul\n",
      "han my own , nor those of my fellow citizens at large less than either . No peop\n",
      "which can win the affections of its citizens and command the respect of the worl\n",
      "his Government must depend . Fellow citizens , I am again called upon by the voi\n",
      "ffrage , in common with my fellow - citizens , in the adoption or rejection of a\n",
      " the Legislature , are exercised by citizens selected at regular periods by thei\n",
      "rited the gratitude of his fellow - citizens , commanded the highest praises of \n",
      "to be more friendly to us , and our citizens to be more friendly to them ; if an\n"
     ]
    }
   ],
   "source": [
    "# Note: we're matching tokens, so \"citizens\" != \"citizen\"\n",
    "us_inaugural_addresses.concordance(\"citizens\", width = 80, lines = 10)"
   ]
  },
  {
   "cell_type": "markdown",
   "metadata": {
    "id": "KBeWDk4bjR8E"
   },
   "source": [
    "The `.similar()` method allows to look for tokens that appear in similar contexts:"
   ]
  },
  {
   "cell_type": "code",
   "execution_count": 35,
   "metadata": {
    "id": "FYinTIAwjR8F",
    "outputId": "3d104eb2-f5c9-4355-ec48-ca1a200581e7"
   },
   "outputs": [
    {
     "name": "stdout",
     "output_type": "stream",
     "text": [
      "people states country nation executive\n"
     ]
    }
   ],
   "source": [
    "# show 5 other words appearing in similar contexts as \"citizen\"\n",
    "us_inaugural_addresses.similar(\"citizen\", 5)"
   ]
  },
  {
   "cell_type": "markdown",
   "metadata": {
    "id": "Ealw3ddAjR8F"
   },
   "source": [
    "The method `.common_contexts()` can give us an idea of a frequently encountered context of a given word:"
   ]
  },
  {
   "cell_type": "code",
   "execution_count": 36,
   "metadata": {
    "id": "WHkLAQ8vjR8F",
    "outputId": "70ed12d2-b6ce-4c73-bc03-714958733810"
   },
   "outputs": [
    {
     "name": "stdout",
     "output_type": "stream",
     "text": [
      "the_of fellow_to fellow_of fellow_i fellow_the fellow_and fellow_in\n",
      "fellow_we fellow_at fellow_on\n"
     ]
    }
   ],
   "source": [
    "us_inaugural_addresses.common_contexts([\"citizens\"], 10)"
   ]
  },
  {
   "cell_type": "markdown",
   "metadata": {
    "id": "qflQkeXojR8G"
   },
   "source": [
    "Or we can use it to find contexts shared by **two** words:"
   ]
  },
  {
   "cell_type": "code",
   "execution_count": 37,
   "metadata": {
    "id": "81sq9qWUjR8G",
    "outputId": "cb4a1832-dca9-4b96-84dc-300ce7a79a18"
   },
   "outputs": [
    {
     "name": "stdout",
     "output_type": "stream",
     "text": [
      "the_of a_may the_is the_by\n"
     ]
    }
   ],
   "source": [
    "us_inaugural_addresses.common_contexts([\"citizen\", \"president\"])"
   ]
  },
  {
   "cell_type": "markdown",
   "metadata": {
    "id": "glmTyZ4zjR8G"
   },
   "source": [
    "We can easily create a dispersion plot to have a rough idea of where in the corpus our word are used:"
   ]
  },
  {
   "cell_type": "code",
   "execution_count": 38,
   "metadata": {
    "id": "BXunjZdfjR8H",
    "outputId": "87b62b62-96fa-45bc-993b-da843b5ae92f"
   },
   "outputs": [
    {
     "data": {
      "image/png": "[encoded data removed]",
      "text/plain": [
       "<Figure size 640x480 with 1 Axes>"
      ]
     },
     "metadata": {},
     "output_type": "display_data"
    }
   ],
   "source": [
    "# Lexical Dispersion Plot for Words in U.S. Presidential Inaugural Addresses\n",
    "us_inaugural_addresses.dispersion_plot([\"citizens\", \"democracy\", \"freedom\", \"duties\", \"America\"])"
   ]
  },
  {
   "cell_type": "markdown",
   "metadata": {
    "id": "thBQzt1cjR8H"
   },
   "source": [
    "---"
   ]
  },
  {
   "cell_type": "markdown",
   "metadata": {
    "id": "jlNWhGmSjR8H"
   },
   "source": [
    "## Word Frequencies\n",
    "\n",
    "> The frequency of words and other linguistic units plays a central role in all branches of corpus linguistics. Indeed, the use of frequency information is what distinguishes corpus-based methodologies from other approaches to language (Baroni, 2009)."
   ]
  },
  {
   "cell_type": "markdown",
   "metadata": {
    "id": "CDwZ4ub2jR8I"
   },
   "source": [
    "- The **ABSOLUTE FREQUENCY** of a *type* $v_i$ word, $f(v_i)$, is its number of occurrences (i.e. *tokens*) in a corpus"
   ]
  },
  {
   "cell_type": "markdown",
   "metadata": {
    "id": "qjaDYiszjR8I"
   },
   "source": [
    "![alt text](https://github.com/bloemj/AUC_TMCI_2022/blob/main/notebooks/images/tokens-types.png?raw=1)"
   ]
  },
  {
   "cell_type": "markdown",
   "metadata": {
    "id": "dEBgV_CUjR8I"
   },
   "source": [
    "We already know how to compute frequencies by using the `Counter()` method from the `collections` module:"
   ]
  },
  {
   "cell_type": "code",
   "execution_count": 39,
   "metadata": {
    "id": "GCz47juvjR8I"
   },
   "outputs": [],
   "source": [
    "from collections import Counter"
   ]
  },
  {
   "cell_type": "code",
   "execution_count": 40,
   "metadata": {
    "id": "bUwfgVCljR8J"
   },
   "outputs": [],
   "source": [
    "# case sensitive counts \n",
    "fdist_raw = Counter(nltk.corpus.brown.words())"
   ]
  },
  {
   "cell_type": "code",
   "execution_count": 41,
   "metadata": {
    "id": "JV-EGdWHjR8J",
    "outputId": "7fbd9188-9128-4216-c0ad-f2b1f19774a2"
   },
   "outputs": [
    {
     "data": {
      "text/plain": [
       "[('the', 62713),\n",
       " (',', 58334),\n",
       " ('.', 49346),\n",
       " ('of', 36080),\n",
       " ('and', 27915),\n",
       " ('to', 25732),\n",
       " ('a', 21881),\n",
       " ('in', 19536),\n",
       " ('that', 10237),\n",
       " ('is', 10011)]"
      ]
     },
     "execution_count": 41,
     "metadata": {},
     "output_type": "execute_result"
    }
   ],
   "source": [
    "# top-10 most frequent words\n",
    "fdist_raw.most_common(10)"
   ]
  },
  {
   "cell_type": "code",
   "execution_count": 42,
   "metadata": {
    "id": "WI6N3V5cjR8L"
   },
   "outputs": [],
   "source": [
    "# let's ignore non-alphanumeric words\n",
    "fdist = Counter([word for word in nltk.corpus.brown.words() if word.isalnum()])"
   ]
  },
  {
   "cell_type": "code",
   "execution_count": 43,
   "metadata": {
    "id": "c4mVeBOrjR8M",
    "outputId": "8f6f4a63-c4fc-48ee-88ab-7c175b6608e6"
   },
   "outputs": [
    {
     "data": {
      "text/plain": [
       "[('the', 62713),\n",
       " ('of', 36080),\n",
       " ('and', 27915),\n",
       " ('to', 25732),\n",
       " ('a', 21881),\n",
       " ('in', 19536),\n",
       " ('that', 10237),\n",
       " ('is', 10011),\n",
       " ('was', 9777),\n",
       " ('for', 8841)]"
      ]
     },
     "execution_count": 43,
     "metadata": {},
     "output_type": "execute_result"
    }
   ],
   "source": [
    "fdist.most_common(10)"
   ]
  },
  {
   "cell_type": "code",
   "execution_count": 44,
   "metadata": {
    "id": "MZ5Ro4H_jR8N"
   },
   "outputs": [],
   "source": [
    "# If we want the case insensitive counts of the results above...\n",
    "fdist_insensitive = Counter([word.lower() for word in nltk.corpus.brown.words() if word.isalnum()])"
   ]
  },
  {
   "cell_type": "code",
   "execution_count": 45,
   "metadata": {
    "id": "94MuAYxVjR8N",
    "outputId": "e853480d-e913-4b01-a62a-de321908bf5e"
   },
   "outputs": [
    {
     "data": {
      "text/plain": [
       "[('the', 69971),\n",
       " ('of', 36412),\n",
       " ('and', 28853),\n",
       " ('to', 26158),\n",
       " ('a', 23195),\n",
       " ('in', 21337),\n",
       " ('that', 10594),\n",
       " ('is', 10109),\n",
       " ('was', 9815),\n",
       " ('he', 9548)]"
      ]
     },
     "execution_count": 45,
     "metadata": {},
     "output_type": "execute_result"
    }
   ],
   "source": [
    "fdist_insensitive.most_common(10)"
   ]
  },
  {
   "cell_type": "markdown",
   "metadata": {
    "id": "W6P_y8SnjR8O"
   },
   "source": [
    "---"
   ]
  },
  {
   "cell_type": "markdown",
   "metadata": {
    "id": "KZEOdHebjR8O"
   },
   "source": [
    "How about a fancy frequency list that is easy to manipulate? There are many modules in the `pandas` package that can help you doing that."
   ]
  },
  {
   "cell_type": "code",
   "execution_count": 46,
   "metadata": {
    "id": "71NyuyaDjR8P"
   },
   "outputs": [],
   "source": [
    "# convert our dictionary into a dataframe\n",
    "import pandas as pd\n",
    "\n",
    "df = pd.DataFrame.from_dict(fdist, orient='index')\n",
    "df.columns = ['fq']"
   ]
  },
  {
   "cell_type": "code",
   "execution_count": 47,
   "metadata": {
    "id": "bBMNP1Y0jR8P",
    "outputId": "fe1ccb22-790e-4032-9da3-8a09e2dec7bd"
   },
   "outputs": [
    {
     "data": {
      "text/html": [
       "<div>\n",
       "<style scoped>\n",
       "    .dataframe tbody tr th:only-of-type {\n",
       "        vertical-align: middle;\n",
       "    }\n",
       "\n",
       "    .dataframe tbody tr th {\n",
       "        vertical-align: top;\n",
       "    }\n",
       "\n",
       "    .dataframe thead th {\n",
       "        text-align: right;\n",
       "    }\n",
       "</style>\n",
       "<table border=\"1\" class=\"dataframe\">\n",
       "  <thead>\n",
       "    <tr style=\"text-align: right;\">\n",
       "      <th></th>\n",
       "      <th>fq</th>\n",
       "    </tr>\n",
       "  </thead>\n",
       "  <tbody>\n",
       "    <tr>\n",
       "      <th>the</th>\n",
       "      <td>62713</td>\n",
       "    </tr>\n",
       "    <tr>\n",
       "      <th>of</th>\n",
       "      <td>36080</td>\n",
       "    </tr>\n",
       "    <tr>\n",
       "      <th>and</th>\n",
       "      <td>27915</td>\n",
       "    </tr>\n",
       "    <tr>\n",
       "      <th>to</th>\n",
       "      <td>25732</td>\n",
       "    </tr>\n",
       "    <tr>\n",
       "      <th>a</th>\n",
       "      <td>21881</td>\n",
       "    </tr>\n",
       "    <tr>\n",
       "      <th>in</th>\n",
       "      <td>19536</td>\n",
       "    </tr>\n",
       "    <tr>\n",
       "      <th>that</th>\n",
       "      <td>10237</td>\n",
       "    </tr>\n",
       "    <tr>\n",
       "      <th>is</th>\n",
       "      <td>10011</td>\n",
       "    </tr>\n",
       "    <tr>\n",
       "      <th>was</th>\n",
       "      <td>9777</td>\n",
       "    </tr>\n",
       "    <tr>\n",
       "      <th>for</th>\n",
       "      <td>8841</td>\n",
       "    </tr>\n",
       "  </tbody>\n",
       "</table>\n",
       "</div>"
      ],
      "text/plain": [
       "         fq\n",
       "the   62713\n",
       "of    36080\n",
       "and   27915\n",
       "to    25732\n",
       "a     21881\n",
       "in    19536\n",
       "that  10237\n",
       "is    10011\n",
       "was    9777\n",
       "for    8841"
      ]
     },
     "execution_count": 47,
     "metadata": {},
     "output_type": "execute_result"
    }
   ],
   "source": [
    "# let's sort our frequencies in descending order\n",
    "dfs = df.sort_values('fq', ascending = False)\n",
    "dfs.head(10)"
   ]
  },
  {
   "cell_type": "markdown",
   "metadata": {
    "id": "Tn60x-RDjR8Q"
   },
   "source": [
    "A useful piece of information we want to visualize is the **RANK** of each item, i.e. its position in our sorted frequency list"
   ]
  },
  {
   "cell_type": "code",
   "execution_count": 48,
   "metadata": {
    "id": "YDzsUIGHjR8Q",
    "outputId": "c5474734-72ab-4fc9-e4be-cf520d265252"
   },
   "outputs": [
    {
     "data": {
      "text/html": [
       "<div>\n",
       "<style scoped>\n",
       "    .dataframe tbody tr th:only-of-type {\n",
       "        vertical-align: middle;\n",
       "    }\n",
       "\n",
       "    .dataframe tbody tr th {\n",
       "        vertical-align: top;\n",
       "    }\n",
       "\n",
       "    .dataframe thead th {\n",
       "        text-align: right;\n",
       "    }\n",
       "</style>\n",
       "<table border=\"1\" class=\"dataframe\">\n",
       "  <thead>\n",
       "    <tr style=\"text-align: right;\">\n",
       "      <th></th>\n",
       "      <th>fq</th>\n",
       "      <th>rank</th>\n",
       "    </tr>\n",
       "  </thead>\n",
       "  <tbody>\n",
       "    <tr>\n",
       "      <th>the</th>\n",
       "      <td>62713</td>\n",
       "      <td>1.0</td>\n",
       "    </tr>\n",
       "    <tr>\n",
       "      <th>of</th>\n",
       "      <td>36080</td>\n",
       "      <td>2.0</td>\n",
       "    </tr>\n",
       "    <tr>\n",
       "      <th>and</th>\n",
       "      <td>27915</td>\n",
       "      <td>3.0</td>\n",
       "    </tr>\n",
       "    <tr>\n",
       "      <th>to</th>\n",
       "      <td>25732</td>\n",
       "      <td>4.0</td>\n",
       "    </tr>\n",
       "    <tr>\n",
       "      <th>a</th>\n",
       "      <td>21881</td>\n",
       "      <td>5.0</td>\n",
       "    </tr>\n",
       "    <tr>\n",
       "      <th>in</th>\n",
       "      <td>19536</td>\n",
       "      <td>6.0</td>\n",
       "    </tr>\n",
       "    <tr>\n",
       "      <th>that</th>\n",
       "      <td>10237</td>\n",
       "      <td>7.0</td>\n",
       "    </tr>\n",
       "    <tr>\n",
       "      <th>is</th>\n",
       "      <td>10011</td>\n",
       "      <td>8.0</td>\n",
       "    </tr>\n",
       "    <tr>\n",
       "      <th>was</th>\n",
       "      <td>9777</td>\n",
       "      <td>9.0</td>\n",
       "    </tr>\n",
       "    <tr>\n",
       "      <th>for</th>\n",
       "      <td>8841</td>\n",
       "      <td>10.0</td>\n",
       "    </tr>\n",
       "  </tbody>\n",
       "</table>\n",
       "</div>"
      ],
      "text/plain": [
       "         fq  rank\n",
       "the   62713   1.0\n",
       "of    36080   2.0\n",
       "and   27915   3.0\n",
       "to    25732   4.0\n",
       "a     21881   5.0\n",
       "in    19536   6.0\n",
       "that  10237   7.0\n",
       "is    10011   8.0\n",
       "was    9777   9.0\n",
       "for    8841  10.0"
      ]
     },
     "execution_count": 48,
     "metadata": {},
     "output_type": "execute_result"
    }
   ],
   "source": [
    "df[\"rank\"] = df['fq'].rank(ascending = False, method = 'first') # add column 'rank' with values of 'fq'\n",
    "df.sort_values('rank', ascending = True, inplace=True)  # sorting our frequencies IN PLACE\n",
    "df.head(10)"
   ]
  },
  {
   "cell_type": "markdown",
   "metadata": {
    "id": "XYUQJx33jR8Q"
   },
   "source": [
    "- The **CONDITIONAL FREQUENCY** of a *type* $v_i$ word in the condition $X$, $f(v_i|X)$, is its number of occurrences (i.e. *tokens*) in the corpus sections where the target condition is satisfied."
   ]
  },
  {
   "cell_type": "markdown",
   "metadata": {
    "id": "LMYIkPKdjR8R"
   },
   "source": [
    "The NLTK `nltk.ConditionalFreqDist()` builds a conditional frequency object by counting the instances in a list of pairs (each pair being a given occurrence in a given condition)"
   ]
  },
  {
   "cell_type": "code",
   "execution_count": 49,
   "metadata": {
    "id": "7bSgAzDgjR8R",
    "outputId": "72853d5a-388c-46ba-fbde-b5c124b51cf8"
   },
   "outputs": [
    {
     "data": {
      "text/plain": [
       "[('adventure', 'Dan'),\n",
       " ('adventure', 'Morgan'),\n",
       " ('adventure', 'told'),\n",
       " ('adventure', 'himself'),\n",
       " ('adventure', 'he'),\n",
       " ('adventure', 'would'),\n",
       " ('adventure', 'forget'),\n",
       " ('adventure', 'Ann'),\n",
       " ('adventure', 'Turner'),\n",
       " ('adventure', '.')]"
      ]
     },
     "execution_count": 49,
     "metadata": {},
     "output_type": "execute_result"
    }
   ],
   "source": [
    "# let's build our (condition, word) pairings\n",
    "cond_word_pairs = [(genre, word) for genre in nltk.corpus.brown.categories() for word in nltk.corpus.brown.words(categories = genre)]\n",
    "cond_word_pairs[:10]"
   ]
  },
  {
   "cell_type": "code",
   "execution_count": 50,
   "metadata": {
    "id": "k1mX-f1IjR8R",
    "outputId": "ae5e306a-29cb-4f89-f445-bee548d4a88f"
   },
   "outputs": [
    {
     "data": {
      "text/plain": [
       "[('belles_lettres', 'a'),\n",
       " ('belles_lettres', 'stream'),\n",
       " ('belles_lettres', 'that'),\n",
       " ('belles_lettres', 'turns'),\n",
       " ('belles_lettres', 'a'),\n",
       " ('belles_lettres', 'mill-wheel'),\n",
       " ('belles_lettres', 'there'),\n",
       " ('belles_lettres', 'is'),\n",
       " ('belles_lettres', 'a'),\n",
       " ('belles_lettres', 'lot')]"
      ]
     },
     "execution_count": 50,
     "metadata": {},
     "output_type": "execute_result"
    }
   ],
   "source": [
    "cond_word_pairs[100000:100010]"
   ]
  },
  {
   "cell_type": "code",
   "execution_count": 51,
   "metadata": {
    "id": "tMbybncrjR8S"
   },
   "outputs": [],
   "source": [
    "# create our conditional frequency object\n",
    "cfd = nltk.ConditionalFreqDist(cond_word_pairs)"
   ]
  },
  {
   "cell_type": "code",
   "execution_count": 52,
   "metadata": {
    "id": "J1fZKaJ3jR8S",
    "outputId": "a90fc17d-80d8-4025-97ec-5fc84f77f47d"
   },
   "outputs": [
    {
     "data": {
      "text/plain": [
       "['adventure',\n",
       " 'belles_lettres',\n",
       " 'editorial',\n",
       " 'fiction',\n",
       " 'government',\n",
       " 'hobbies',\n",
       " 'humor',\n",
       " 'learned',\n",
       " 'lore',\n",
       " 'mystery',\n",
       " 'news',\n",
       " 'religion',\n",
       " 'reviews',\n",
       " 'romance',\n",
       " 'science_fiction']"
      ]
     },
     "execution_count": 52,
     "metadata": {},
     "output_type": "execute_result"
    }
   ],
   "source": [
    "# check the conditions in the conditional frequency object\n",
    "cfd.conditions()"
   ]
  },
  {
   "cell_type": "markdown",
   "metadata": {
    "id": "LaTrgCtbjR8S"
   },
   "source": [
    "Condition values can be accessed individually, and the return objects are simple frequency distributions"
   ]
  },
  {
   "cell_type": "code",
   "execution_count": 53,
   "metadata": {
    "id": "-7b_sZIpjR8T",
    "outputId": "accfd381-5739-4aec-a661-6b1e5e22e014"
   },
   "outputs": [
    {
     "data": {
      "text/plain": [
       "[('the', 3508),\n",
       " (',', 2766),\n",
       " ('.', 2481),\n",
       " ('of', 1976),\n",
       " ('to', 1554),\n",
       " ('and', 1302),\n",
       " ('a', 1095),\n",
       " ('in', 1001),\n",
       " ('is', 744),\n",
       " ('that', 578)]"
      ]
     },
     "execution_count": 53,
     "metadata": {},
     "output_type": "execute_result"
    }
   ],
   "source": [
    "cfd['editorial'].most_common(10)"
   ]
  },
  {
   "cell_type": "markdown",
   "metadata": {
    "id": "pw_16EOhjR8T"
   },
   "source": [
    "The `plot()` and `tabulate()` methods can be used to plot the frequency distributions in the different conditions and to create a contingency table (a.k.a. a two-way table). Optional parameters `conditions` and `samples` can be used to focus on a given set of condition values or samples. This makes possible to load large quantity of data once, and then to focus only on meaningful portions of them."
   ]
  },
  {
   "cell_type": "markdown",
   "metadata": {
    "id": "6x1QwlMEjR8T"
   },
   "source": [
    "For instance, let's contrast how frequently modal verbs are used in some of the brown corpus sections."
   ]
  },
  {
   "cell_type": "code",
   "execution_count": 54,
   "metadata": {
    "id": "Y-wTivHmjR8T"
   },
   "outputs": [],
   "source": [
    "genres = ['news', 'religion', 'science_fiction', 'romance', 'humor']\n",
    "modals = ['can', 'could', 'may', 'might', 'must', 'will']"
   ]
  },
  {
   "cell_type": "code",
   "execution_count": 55,
   "metadata": {
    "id": "6lOLDYWXjR8T",
    "outputId": "d4a6c3b0-98d1-4925-96de-e4efb690a2ec"
   },
   "outputs": [
    {
     "name": "stdout",
     "output_type": "stream",
     "text": [
      "                  can could   may might  must  will \n",
      "           news    93    86    66    38    50   389 \n",
      "       religion    82    59    78    12    54    71 \n",
      "science_fiction    16    49     4    12     8    16 \n",
      "        romance    74   193    11    51    45    43 \n",
      "          humor    16    30     8     8     9    13 \n"
     ]
    }
   ],
   "source": [
    "cfd.tabulate(conditions = genres, samples = modals)"
   ]
  },
  {
   "cell_type": "markdown",
   "metadata": {
    "id": "CexWejKhjR8U"
   },
   "source": [
    "---"
   ]
  },
  {
   "cell_type": "markdown",
   "metadata": {
    "id": "58CXkvi9jR8U"
   },
   "source": [
    "- the **CORPUS SIZE** is the total number of occurrences (tokens) in the text: \n",
    "\n",
    "\n",
    "$$|C| = f(v_1) + f(v_2) + f(v_3) + ... + f(v_n)$$"
   ]
  },
  {
   "cell_type": "code",
   "execution_count": 66,
   "metadata": {
    "id": "M1Z5YJyCjR8U",
    "outputId": "115e4bd0-db43-4a2c-e505-6afdde6920b1"
   },
   "outputs": [
    {
     "name": "stdout",
     "output_type": "stream",
     "text": [
      "Wall time: 998 µs\n"
     ]
    },
    {
     "data": {
      "text/plain": [
       "988331"
      ]
     },
     "execution_count": 66,
     "metadata": {},
     "output_type": "execute_result"
    }
   ],
   "source": [
    "%%time\n",
    "# Recall: keys = words, values = their counts\n",
    "corpus_size = sum(fdist.values())\n",
    "corpus_size"
   ]
  },
  {
   "cell_type": "code",
   "execution_count": 67,
   "metadata": {
    "id": "PamLga5DjR8V",
    "outputId": "0432b5b5-563a-4995-d200-89818f40a19e"
   },
   "outputs": [
    {
     "name": "stdout",
     "output_type": "stream",
     "text": [
      "Wall time: 5.21 s\n"
     ]
    },
    {
     "data": {
      "text/plain": [
       "988331"
      ]
     },
     "execution_count": 67,
     "metadata": {},
     "output_type": "execute_result"
    }
   ],
   "source": [
    "%%time\n",
    "# equivalent, fully explicit...\n",
    "corpus_size = len([word for word in nltk.corpus.brown.words() if word.isalnum()])\n",
    "corpus_size"
   ]
  },
  {
   "cell_type": "markdown",
   "metadata": {
    "id": "3aPebsxDjR8V"
   },
   "source": [
    "- The **RELATIVE FREQUENCY** of a *type* $v_i$ word is its absolute frequency divided by the corpus size:\n",
    "\n",
    "\n",
    "$$f_{rel}(v_i) = \\dfrac{f(v_i)}{|C|}$$"
   ]
  },
  {
   "cell_type": "code",
   "execution_count": 68,
   "metadata": {
    "id": "cCIdBWQ8jR8V",
    "outputId": "eccb0a1f-c827-40ed-ff64-17c0bac13548"
   },
   "outputs": [
    {
     "name": "stdout",
     "output_type": "stream",
     "text": [
      "('the', 62713, 0.063453)\n",
      "('of', 36080, 0.036506)\n",
      "('and', 27915, 0.028245)\n",
      "('to', 25732, 0.026036)\n",
      "('a', 21881, 0.022139)\n",
      "('in', 19536, 0.019767)\n",
      "('that', 10237, 0.010358)\n",
      "('is', 10011, 0.010129)\n",
      "('was', 9777, 0.009892)\n",
      "('for', 8841, 0.008945)\n"
     ]
    }
   ],
   "source": [
    "for word, abs_freq in fdist.most_common(10):\n",
    "    print( (word, abs_freq, round(abs_freq / corpus_size, 6)))"
   ]
  },
  {
   "cell_type": "markdown",
   "metadata": {
    "id": "FG-Kbj13jR8V"
   },
   "source": [
    "- The **VOCABULARY**, $V_c$, is the total number of *types* instantiated in the corpus (instead of *tokens* above)"
   ]
  },
  {
   "cell_type": "code",
   "execution_count": 69,
   "metadata": {
    "id": "2NJU-ZqgjR8W",
    "outputId": "8a804594-883d-48ec-9093-dfde04efb2db"
   },
   "outputs": [
    {
     "name": "stdout",
     "output_type": "stream",
     "text": [
      "46969\n"
     ]
    }
   ],
   "source": [
    "vocabulary = fdist.keys()\n",
    "print(len(vocabulary))"
   ]
  },
  {
   "cell_type": "markdown",
   "metadata": {
    "id": "u2WsGcA9jR8W"
   },
   "source": [
    "- The **FREQUENCY CLASS** $V_i$ is the set of *types* occurring $i$ times"
   ]
  },
  {
   "cell_type": "code",
   "execution_count": 70,
   "metadata": {
    "id": "cHJYdjlRjR8W"
   },
   "outputs": [],
   "source": [
    "from collections import defaultdict\n",
    "\n",
    "frequency_classes = defaultdict(set)\n",
    "\n",
    "for atype, freq in fdist.items():    \n",
    "    frequency_classes[freq].add(atype)"
   ]
  },
  {
   "cell_type": "code",
   "execution_count": 71,
   "metadata": {
    "id": "XJK8_qSYjR8W",
    "outputId": "7435a2ab-31fa-42d2-d969-f67d25132e61"
   },
   "outputs": [
    {
     "name": "stdout",
     "output_type": "stream",
     "text": [
      "{'price', 'Thomas', 'race', 'figures', 'rates', 'meant'}\n",
      "{'the'}\n"
     ]
    }
   ],
   "source": [
    "# a dictionary, where a frequency maps to a set of words occuring that often\n",
    "print(frequency_classes[100])\n",
    "print(frequency_classes[62713])"
   ]
  },
  {
   "cell_type": "markdown",
   "metadata": {
    "id": "OqvqoPQIjR8X"
   },
   "source": [
    "$V_1$ is the set of items occurring just one time, they are called **hapax legomena**"
   ]
  },
  {
   "cell_type": "code",
   "execution_count": 72,
   "metadata": {
    "id": "DYoumU27jR8X",
    "outputId": "a660cd88-0766-4118-ae1d-bbac9fd52529"
   },
   "outputs": [
    {
     "name": "stdout",
     "output_type": "stream",
     "text": [
      "['introductions', 'unrestrictedly', 'Alternately', 'dipping', 'hatted', 'sugared', 'antennas', 'sustaining', 'drawbridge', 'unproductive', 'pistachio', 'Overt', 'epigraph', 'incitements', 'Lichtenstein', 'Bottega', 'assai', 'Clive', 'platted', 'Arequipa']\n",
      "19052\n"
     ]
    },
    {
     "name": "stderr",
     "output_type": "stream",
     "text": [
      "C:\\Users\\Jelke\\AppData\\Local\\Temp\\ipykernel_10320\\3595912559.py:3: DeprecationWarning: Sampling from a set deprecated\n",
      "since Python 3.9 and will be removed in a subsequent version.\n",
      "  print(random.sample(frequency_classes[1], 20))\n"
     ]
    }
   ],
   "source": [
    "import random\n",
    "\n",
    "print(random.sample(list(frequency_classes[1]), 20))\n",
    "print(len(frequency_classes[1]))"
   ]
  },
  {
   "cell_type": "markdown",
   "metadata": {
    "id": "Ia4VHpSRjR8X"
   },
   "source": [
    "A **frequency spectrum** reports all the frequency classes of a corpus"
   ]
  },
  {
   "cell_type": "code",
   "execution_count": 73,
   "metadata": {
    "id": "93s60buVjR8X",
    "outputId": "02b32f2f-a8c1-4b99-cd3b-44b18a1b9a5e"
   },
   "outputs": [
    {
     "data": {
      "text/plain": [
       "19052"
      ]
     },
     "execution_count": 73,
     "metadata": {},
     "output_type": "execute_result"
    }
   ],
   "source": [
    "frequency_spectrum = Counter(fdist.values()) \n",
    "frequency_spectrum[1]"
   ]
  },
  {
   "cell_type": "markdown",
   "metadata": {
    "id": "soKJwch3jR8Y"
   },
   "source": [
    "A frequency spectrum can be visually inspected by plotting the class cardinality as a function of the increasing class frequency"
   ]
  },
  {
   "cell_type": "code",
   "execution_count": 74,
   "metadata": {
    "id": "jHpNMpxejR8Y"
   },
   "outputs": [],
   "source": [
    "import matplotlib.pyplot as plt\n",
    "\n",
    "sorted_classes_freqs_tuples = sorted(frequency_spectrum.items())\n",
    "\n",
    "# zip() returns a list of tuples, where each tuple contains the i-th element from each of the argument sequences\n",
    "# the single star * unpacks a sequence/collection into positional arguments\n",
    "x, y = zip(*sorted_classes_freqs_tuples)  # unpack a list of pairs into two tuples"
   ]
  },
  {
   "cell_type": "code",
   "execution_count": 75,
   "metadata": {
    "id": "vD2BWeCMjR8Y",
    "outputId": "434813ab-2740-4bc8-8daf-2d4f75b47f2c"
   },
   "outputs": [
    {
     "data": {
      "image/png": "[encoded data removed]",
      "text/plain": [
       "<Figure size 640x480 with 1 Axes>"
      ]
     },
     "metadata": {},
     "output_type": "display_data"
    }
   ],
   "source": [
    "plt.plot(x, y, \"o\", color = \"black\", markerfacecolor='None')\n",
    "\n",
    "plt.xscale('log')  # log tranfor the x axis (but not the x values, note the tick values)\n",
    "\n",
    "plt.ylabel(\"$|V_i|$\")\n",
    "plt.xlabel(\"$i$ (i.e. type frequency)\")\n",
    "\n",
    "plt.title(\"Brown Corpus Frequency Spectrum\")\n",
    "\n",
    "# try this\n",
    "#plt.loglog()\n",
    "\n",
    "plt.show()"
   ]
  },
  {
   "cell_type": "markdown",
   "metadata": {
    "id": "wj1tCo8ajR8a"
   },
   "source": [
    "The sum of the cardinality of each frequency class equals the vocabulary size: \n",
    "$|V_c| = |V_1| + |V_2| + |V_3| + ... + |V_{max(f)}|$"
   ]
  },
  {
   "cell_type": "code",
   "execution_count": 76,
   "metadata": {
    "id": "Q4nb6sBhjR8c",
    "outputId": "88801f67-dac9-46df-cfd4-ef569b235776"
   },
   "outputs": [
    {
     "name": "stdout",
     "output_type": "stream",
     "text": [
      "46969\n",
      "46969\n"
     ]
    }
   ],
   "source": [
    "print (sum(frequency_spectrum.values()))\n",
    "print (len(vocabulary))"
   ]
  },
  {
   "cell_type": "markdown",
   "metadata": {
    "id": "98iuipiGjR8e"
   },
   "source": [
    "- When dealing with datatypes that can be **meaningfully** ordered (e.g. age, weekdays, length), the **CUMULATIVE FREQUENCY** for the category $i$ is obtained by summing the absolute frequency of $i$ together with all absolute frequencies of all the events below it:\n",
    "\n",
    "$$f^c(v_i) = f(v_1) + f(v_2) + f(v_3) + ... + f(v_i)$$"
   ]
  },
  {
   "cell_type": "markdown",
   "metadata": {
    "id": "hrbo14wejR8e"
   },
   "source": [
    "For instance, let's count how many words of different length are used in some of the translations of the \"Universal Declaration of Human Rights\":"
   ]
  },
  {
   "cell_type": "code",
   "execution_count": 79,
   "metadata": {
    "id": "H4dWQ_mwjR8e"
   },
   "outputs": [],
   "source": [
    "# let's calculate the frequency of each \n",
    "languages = ['Chickasaw', 'English', 'German_Deutsch', 'Dutch_Nederlands', 'Italian']\n",
    "\n",
    "cfd = nltk.ConditionalFreqDist((lang, len(word)) \n",
    "                               for lang in languages\n",
    "                               for word in nltk.corpus.udhr.words(lang + '-Latin1'))"
   ]
  },
  {
   "cell_type": "markdown",
   "metadata": {
    "id": "gOhrqbe6jR8e"
   },
   "source": [
    "It is easy to see how the contingency table reporting the cumulative frequencies gives us a different information than the one reporting the absolute frequencies:"
   ]
  },
  {
   "cell_type": "code",
   "execution_count": 80,
   "metadata": {
    "id": "dpAkQ0XzjR8e",
    "outputId": "a92b21b4-9297-4b6b-f365-3fe44f8a0329"
   },
   "outputs": [
    {
     "name": "stdout",
     "output_type": "stream",
     "text": [
      "                   1   2   3   4   5   6   7   8   9  10  11  12  13  14  15 \n",
      "       Chickasaw 411  99  41  68  91  89  77  70  49  33  16  28  45  10   6 \n",
      "Dutch_Nederlands 173 321 287 141 166 125 118  86  79  56  66  26  20  13   9 \n",
      "         English 185 340 358 114 169 117 157 118  80  63  50  12  11   6   1 \n",
      "  German_Deutsch 171  92 351 103 177 119  97 103  62  58  53  32  27  29  15 \n",
      "         Italian 336 265 142 119 166 129 170 107 109  68  39  33  15  16   9 \n"
     ]
    }
   ],
   "source": [
    "cfd.tabulate(cumulative = False, samples = range(1, 16))"
   ]
  },
  {
   "cell_type": "code",
   "execution_count": 81,
   "metadata": {
    "id": "iMcoQ4DjjR8f",
    "outputId": "94d493e2-6bad-47a1-f0cd-247f13105767"
   },
   "outputs": [
    {
     "name": "stdout",
     "output_type": "stream",
     "text": [
      "                    1    2    3    4    5    6    7    8    9   10   11   12   13   14   15 \n",
      "       Chickasaw  411  510  551  619  710  799  876  946  995 1028 1044 1072 1117 1127 1133 \n",
      "Dutch_Nederlands  173  494  781  922 1088 1213 1331 1417 1496 1552 1618 1644 1664 1677 1686 \n",
      "         English  185  525  883  997 1166 1283 1440 1558 1638 1701 1751 1763 1774 1780 1781 \n",
      "  German_Deutsch  171  263  614  717  894 1013 1110 1213 1275 1333 1386 1418 1445 1474 1489 \n",
      "         Italian  336  601  743  862 1028 1157 1327 1434 1543 1611 1650 1683 1698 1714 1723 \n"
     ]
    }
   ],
   "source": [
    "cfd.tabulate(cumulative = True, samples = range(1, 16))"
   ]
  },
  {
   "cell_type": "markdown",
   "metadata": {
    "id": "vfYueEeKjR8f"
   },
   "source": [
    "---"
   ]
  },
  {
   "cell_type": "markdown",
   "metadata": {
    "id": "oOkMi22KjR8f"
   },
   "source": [
    "## Zipf's Law\n",
    "\n",
    "To have a look at the frequency distribution in the Brown corpus we can plot word frequencies as a function of word ranks."
   ]
  },
  {
   "cell_type": "code",
   "execution_count": 82,
   "metadata": {
    "id": "0F284tV1jR8f",
    "outputId": "d2de6f61-0d72-44e0-c3cc-de1fb4d0abc2"
   },
   "outputs": [
    {
     "data": {
      "image/png": "[encoded data removed]",
      "text/plain": [
       "<Figure size 640x480 with 1 Axes>"
      ]
     },
     "metadata": {},
     "output_type": "display_data"
    }
   ],
   "source": [
    "y = sorted(fdist.values(), reverse = True)\n",
    "x = range(1, len(y) + 1)\n",
    "\n",
    "plt.plot(x, y, \"o\", color = \"black\", markerfacecolor='None')\n",
    "plt.yscale('log')  # log tranfor the y axis (but not the x values, note the tick values)\n",
    "\n",
    "plt.ylabel(\"frequency\")\n",
    "plt.xlabel(\"rank\")\n",
    "\n",
    "plt.title(\"Brown Corpus Rank/Frequency Profile\")\n",
    "\n",
    "plt.show()"
   ]
  },
  {
   "cell_type": "markdown",
   "metadata": {
    "id": "rkIrfU2ajR8g"
   },
   "source": [
    "#### [Zipf's Law] The FREQUENCY of a word is inversely proportion to its RANK"
   ]
  },
  {
   "cell_type": "markdown",
   "metadata": {
    "id": "iOLHZFNmjR8g"
   },
   "source": [
    "$$f(z) = \\dfrac{C}{z^a} $$\n",
    "\n",
    "\n",
    "- $f(z)$: frequency of the rank-$z$ word\n",
    "\n",
    "\n",
    "- $C$ is the frequency of the top-frequent word (it depends on the corpus length and on the vocabulary size)\n",
    "\n",
    "\n",
    "- $a$ is an index that is inversely proportional to the corpus richness (the richer the corpus, the lower its $a$ value)\n",
    "\n",
    "    - according to Zipf, $a \\approx 1$"
   ]
  },
  {
   "cell_type": "markdown",
   "metadata": {
    "id": "EEjboWDCjR8g"
   },
   "source": [
    "The difference $C/n -C/(n-1)$ between the frequencies of the rank $n$ and the rank $n-1$ words decreases **progressively** as a function of the rank\n",
    "\n",
    "\n",
    "- $a = 1 \\ \\Rightarrow \\ f(1) = C \\ \\Rightarrow\\ f(2) = \\dfrac{C}{2}\\ \\Rightarrow\\ f(3) = \\dfrac{C}{3}\\ ...$ \n",
    "\n",
    "\n",
    "- that is: the rank 1 word should occur twice as frequently as the rank 2 word\n",
    "\n",
    "\n",
    "- words in the lower tail tend to have similar frequencies\n",
    "\n",
    "\n",
    "- Zipf’s curve tail is populated by a lot of very rare words: the **hapax legomena**"
   ]
  },
  {
   "cell_type": "markdown",
   "metadata": {
    "id": "rfqopNRQjR8i"
   },
   "source": [
    "#### Scale Invariance (optional)\n",
    "\n",
    "- Zip’s law is a power law distribution with integer values: $y = ax^{-k}$\n",
    "\n",
    "\n",
    "- one attribute of power laws is their scale invariance: \n",
    "\n",
    "    - scaling the argument by a constant factor $c$ causes only a porportionate scaling of the function itself of a $c^{-k}$ factor\n",
    "    \n",
    "    - $f(cx) = a(cx)^{-k} = c^{-k}f(x) \\propto f(x)$\n",
    "    \n",
    "\n",
    "\n",
    "- as a consequence, **a change in corpus size does not affect the shape of the distribution, but only its scale**.\n",
    "\n"
   ]
  },
  {
   "cell_type": "code",
   "execution_count": 85,
   "metadata": {
    "id": "Wo3AcueujR8i",
    "outputId": "913844f2-e8bb-4299-9f5c-e6e03c39b670"
   },
   "outputs": [
    {
     "data": {
      "image/png": "[encoded data removed]",
      "text/plain": [
       "<Figure size 640x480 with 4 Axes>"
      ]
     },
     "metadata": {},
     "output_type": "display_data"
    }
   ],
   "source": [
    "corpora = [nltk.corpus.brown, nltk.corpus.genesis, nltk.corpus.inaugural, nltk.corpus.switchboard]\n",
    "corpora_titles = [\"Brown\",\"Genesis\",\"Inaugural\",\"Switchboard\"]\n",
    "\n",
    "for i, corpus in enumerate(corpora):\n",
    "    plt.subplot(2, 2, i+1)\n",
    "    \n",
    "    y = sorted(Counter([word for word in corpus.words() if word.isalnum()]).values(), reverse = True)\n",
    "    x = range(1, len(y) + 1)\n",
    "    \n",
    "    plt.plot(x, y, \"o\", color = \"black\", markerfacecolor='None')\n",
    "    plt.yscale('log')\n",
    "    \n",
    "    plt.ylabel(\"frequency\")\n",
    "    plt.xlabel(\"rank\")\n",
    "    \n",
    "    plt.title(corpora_titles[i])\n",
    "\n",
    "plt.tight_layout()  # adjust spacing between subplots to minimize the overlaps.\n",
    "plt.show()   "
   ]
  },
  {
   "cell_type": "markdown",
   "metadata": {
    "id": "lbx7GVrkjR8i"
   },
   "source": [
    "#### Log-log Space (optional)\n",
    "\n",
    "If we plot our data so that both axes are on a logarithmic scale, Zipf’s law can be reformulated as a **straight line**:"
   ]
  },
  {
   "cell_type": "markdown",
   "metadata": {
    "id": "vgCr2859jR8j"
   },
   "source": [
    "$$log(f(z)) = log(C) - a\\ log(z)$$\n",
    "\n",
    "\n",
    "\n",
    "- intercept if the log-frequency of the most frequent word\n",
    "\n",
    "\n",
    "- slope is a function of the corpus richness (i.e. $a$)"
   ]
  },
  {
   "cell_type": "code",
   "execution_count": 86,
   "metadata": {
    "id": "qHo_CXTHjR8j",
    "outputId": "9575338d-c832-4626-8616-e14d09dfc961"
   },
   "outputs": [
    {
     "data": {
      "image/png": "[encoded data removed]",
      "text/plain": [
       "<Figure size 640x480 with 1 Axes>"
      ]
     },
     "metadata": {},
     "output_type": "display_data"
    }
   ],
   "source": [
    "import numpy as np\n",
    "\n",
    "log_y = np.log(sorted(fdist.values(), reverse = True))\n",
    "log_x = np.log(range(1, len(fdist.values()) + 1))\n",
    "\n",
    "plt.plot(log_x, log_y, \"o\", color = \"black\", markerfacecolor='None');"
   ]
  },
  {
   "cell_type": "code",
   "execution_count": 87,
   "metadata": {
    "id": "1Qbu9sL-jR8j",
    "outputId": "d663ff3d-9045-45d7-ed8d-723883e8b2ea"
   },
   "outputs": [
    {
     "data": {
      "image/png": "[encoded data removed]",
      "text/plain": [
       "<Figure size 640x480 with 1 Axes>"
      ]
     },
     "metadata": {},
     "output_type": "display_data"
    }
   ],
   "source": [
    "# we use the least squares method to estimate the slope (i.e. Zipf’s law’s parameters a)\n",
    "import scipy.optimize \n",
    "\n",
    "c = np.log(max(fdist.values()))  # intercept if the log-frequency of the most frequent word\n",
    "\n",
    "def func(x, a):\n",
    "    return c - a * x\n",
    "\n",
    "a = scipy.optimize.curve_fit(func, log_x, log_y)[0]  # estimated Zipf's law's a coefficient\n",
    "\n",
    "zipf_fit = [func(x, a) for x in log_x]\n",
    "\n",
    "plt.plot(log_x, log_y, \"o\", color = \"blue\", markerfacecolor='None');\n",
    "plt.plot(log_x, zipf_fit, linestyle = \"--\", color = \"red\")\n",
    "plt.ylabel(\"log frequency\")\n",
    "plt.xlabel(\"log rank\")\n",
    "\n",
    "plt.title(\"Brown Corpus Log Rank/Log Frequency Plot\")\n",
    "\n",
    "plt.show()"
   ]
  },
  {
   "cell_type": "markdown",
   "metadata": {
    "id": "FhRLbA6hjR8j"
   },
   "source": [
    "Zipf’s law only **approximates** the relation between rank and frequency in an actual corpus:\n",
    "\n",
    "- the approximation works better for **middle range data**\n",
    "\n",
    "\n",
    "- **low fit** for lowest and higher ranks\n",
    "\n",
    "\n",
    "- the highest ranks of the actual counts are composed by increasingly wider frequency ranges\n",
    "\n",
    "\n",
    "- However it is **universal**: the word distribution of each text (in every language, approximately) follows the Zipf’s law"
   ]
  },
  {
   "cell_type": "markdown",
   "metadata": {
    "id": "Qafs4zkOjR8k"
   },
   "source": [
    "#### Zipf’s Law(s?)\n",
    "\n",
    "The frequency of a word is correlated with other properties:\n",
    "\n",
    "\n",
    "- the most frequent words are shorter ($l$ = length in characters): $f_v \\propto \\frac{1}{l_v}$\n",
    "\n",
    "\n",
    "- the most frequent words are more ambiguos ($s$ = number of senses): $s_v \\propto \\sqrt{f_v}$\n",
    "\n",
    "\n",
    "- many other phenomena follow the Zipf’s law: number of website accesses; world city populations; social networks; income distribution\n"
   ]
  },
  {
   "cell_type": "markdown",
   "metadata": {
    "id": "XvKswlKxjR8k"
   },
   "source": [
    "#### OK, but Why?\n",
    "\n",
    "- According to Zipf, word distributions follows this law due to a principle of **economy of communication**\n",
    "\n",
    "\n",
    "- Both the speaker and the listener try to minimize their efforts:\n",
    "\n",
    "    - the speaker’s effort is minimized in using a **small vocabulary** of very common words\n",
    "    - the listener’s effort is minimized in using a **big vocabulary** of rare (and unambiguos)  words\n",
    "\n",
    "\n",
    "- Zipf’s law is the best (i.e. the most economic) compromize between these two conflicting trends"
   ]
  },
  {
   "cell_type": "markdown",
   "metadata": {
    "id": "WGUJV7rcjR8k"
   },
   "source": [
    "#### OK, So What? (aka \"Practical Lessons from Zipf's law\")\n",
    "\n",
    "\n",
    "- Every (collections of) text uses a **small group of very frequent words**…\n",
    "\n",
    "    - usually “closed class” words (propositions, conjunctions, determinants…)\n",
    "\n",
    "\n",
    "\n",
    "- … and large groups of rare words and hapaxes (**Large Number of Rare Events**):\n",
    "\n",
    "    - the so-called “open class” words (i.e. nouns, adjectives, verbs and adverbs)\n",
    "    - they are informative of the semantic content of a document\n",
    "\n",
    "\n",
    "- novel topics introduce novel words\n",
    "\n",
    "    - the vocabulary is **open**\n",
    "\n",
    "\n",
    "- even large corpora are not sampling the full vocabulary of types\n",
    "\n",
    "    - Lingustic data are **sparse!**"
   ]
  },
  {
   "cell_type": "markdown",
   "metadata": {
    "id": "5T9grJBljR8l"
   },
   "source": [
    "---"
   ]
  },
  {
   "cell_type": "markdown",
   "metadata": {
    "id": "4dP_T0BxjR8l"
   },
   "source": [
    "## Exercise\n",
    "\n",
    "**Naive Bayes** is a method to do document classification."
   ]
  },
  {
   "cell_type": "markdown",
   "metadata": {
    "id": "_Gf_dQ1njR8l"
   },
   "source": [
    "At the core of the method, there is the estimation of two probabilities:\n",
    "    \n",
    "* Given $N_c$ as the number of documents from class $c$ and $N$ as the total number of documents: $\\hat{P}(c) = \\frac{N_c}{N}$\n",
    "\n",
    "* Define $f(w_{i},c)$ as the count of the occurrences of word $i$ in documents of class $c$: $\\hat{P}(w_i|c) = \\frac{f(w_{i},c)}{\\sum_{j \\in V}f(w_{j},c)}$"
   ]
  },
  {
   "cell_type": "markdown",
   "metadata": {
    "id": "uhSkNMGcjR8l"
   },
   "source": [
    "1. Consider any corpus you like from `nltk.corpus`, provided it has categories, e.g. Reuters.\n",
    "\n",
    "\n",
    "2. Prepare a dataset using the provided train and test splits. Do any pre-processing you deem necessary (and motivate your choices).\n",
    "\n",
    "\n",
    "3. Use the categories as classes and train a Naive Bayes model in order to predict the classes of new documents.\n",
    "\n",
    "\n",
    "4. Test it on your test data, and inspect the most discriminative features per class (hint: those are the highest probability words given a certain class)."
   ]
  },
  {
   "cell_type": "markdown",
   "metadata": {
    "id": "ChStm3kqjR8m"
   },
   "source": [
    "---\n",
    "In Google Colab, you may have to first download and unzip the corpus if it is a larger one, e.g. Reuters, by running the following code once:"
   ]
  },
  {
   "cell_type": "code",
   "execution_count": 88,
   "metadata": {
    "id": "GliO1t8xsLRL"
   },
   "outputs": [
    {
     "name": "stderr",
     "output_type": "stream",
     "text": [
      "[nltk_data] Downloading package reuters to\n",
      "[nltk_data]     C:\\Users\\Jelke\\AppData\\Roaming\\nltk_data...\n",
      "[nltk_data]   Package reuters is already up-to-date!\n",
      "'unzip' is not recognized as an internal or external command,\n",
      "operable program or batch file.\n"
     ]
    }
   ],
   "source": [
    "import nltk\n",
    "nltk.download('reuters')\n",
    "!unzip /root/nltk_data/corpora/reuters.zip -d /root/nltk_data/corpora"
   ]
  }
 ],
 "metadata": {
  "colab": {
   "name": "3_Distributions_in_text.ipynb",
   "provenance": []
  },
  "kernelspec": {
   "display_name": "Python 3 (ipykernel)",
   "language": "python",
   "name": "python3"
  },
  "language_info": {
   "codemirror_mode": {
    "name": "ipython",
    "version": 3
   },
   "file_extension": ".py",
   "mimetype": "text/x-python",
   "name": "python",
   "nbconvert_exporter": "python",
   "pygments_lexer": "ipython3",
   "version": "3.9.13"
  },
  "toc": {
   "base_numbering": 1,
   "nav_menu": {},
   "number_sections": true,
   "sideBar": true,
   "skip_h1_title": false,
   "title_cell": "Table of Contents",
   "title_sidebar": "Contents",
   "toc_cell": false,
   "toc_position": {},
   "toc_section_display": true,
   "toc_window_display": false
  }
 },
 "nbformat": 4,
 "nbformat_minor": 4
}
