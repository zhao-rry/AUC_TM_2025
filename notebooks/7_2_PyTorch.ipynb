{
 "cells": [
  {
   "cell_type": "markdown",
   "metadata": {
    "id": "S-7CJkKUuVSJ"
   },
   "source": [
    "# Intro to PyTorch & TorchText"
   ]
  },
  {
   "cell_type": "markdown",
   "metadata": {
    "id": "Agy2v1gBuVSM"
   },
   "source": [
    "_Main author: Konstantin Todorov_\n",
    "\n",
    "We used these resources for part of this tutorial:\n",
    "* https://pytorch.org/tutorials/beginner/deep_learning_60min_blitz.html\n",
    "* https://uvadlc-notebooks.readthedocs.io/en/latest/tutorial_notebooks/tutorial2/Introduction_to_PyTorch.html\n",
    "* http://web.stanford.edu/class/cs224n/materials/CS224N_PyTorch_Tutorial.html"
   ]
  },
  {
   "cell_type": "markdown",
   "metadata": {
    "id": "OasgqUeyuVSN"
   },
   "source": [
    "This laboratory is meant to teach you about the basics of [PyTorch](https://pytorch.org/), one of the most widely used Python libraries for machine learning. In addition to it, you will learn about [TorchText](https://pytorch.org/text/stable/index.html), one of PyTorch's integrated libraries that is meant to help when training Natural Language Processing (NLP) models. In addition to that, TorchText also provides readily available datasets such as the IMDB one that we will make use of.\n",
    "\n",
    "At the end of this lab, you will know how to train your own basic model, as well as evaluate and make use of techniques to improve your performance."
   ]
  },
  {
   "cell_type": "code",
   "execution_count": null,
   "metadata": {
    "colab": {
     "base_uri": "https://localhost:8080/"
    },
    "id": "8PEVd_BluVSN",
    "outputId": "a3628db0-a603-476c-f009-3818e413ade5"
   },
   "outputs": [],
   "source": [
    "%pylab inline\n",
    "\n",
    "plt.rcParams[\"figure.figsize\"] = [20,10]"
   ]
  },
  {
   "cell_type": "markdown",
   "metadata": {},
   "source": [
    "Apparently development on Torchtext has stopped, so this notebook no longer works on the latest version of Pytorch. You'll need the following version dependencies to run it:"
   ]
  },
  {
   "cell_type": "code",
   "execution_count": null,
   "metadata": {},
   "outputs": [],
   "source": [
    "#!pip install torch==2.3.1 torchvision==0.18.1 torchaudio==2.3.1\n",
    "#!pip install torchtext\n",
    "#!pip install torchdata==0.9.0\n",
    "#!pip install portalocker==2.8.2"
   ]
  },
  {
   "cell_type": "code",
   "execution_count": null,
   "metadata": {
    "id": "hCjvJ2HvuVSS"
   },
   "outputs": [],
   "source": [
    "import torch\n",
    "import torch.nn as nn\n",
    "\n",
    "import torchtext\n",
    "\n",
    "import numpy as np\n",
    "import matplotlib\n",
    "import sys\n",
    "import random\n",
    "import matplotlib.pyplot as plt"
   ]
  },
  {
   "cell_type": "code",
   "execution_count": null,
   "metadata": {
    "id": "vjCo9Z79uVST"
   },
   "outputs": [],
   "source": [
    "# We make use of a GPU if one is available on the current system\n",
    "# Using GPU can make the training process and matrix operations magnitudes faster\n",
    "\n",
    "device = torch.device(\"cuda\" if torch.cuda.is_available() else \"cpu\")"
   ]
  },
  {
   "cell_type": "code",
   "execution_count": null,
   "metadata": {
    "id": "750ry_4huVSU"
   },
   "outputs": [],
   "source": [
    "# We set a seed manually for replicability\n",
    "# This will ensure that every time you run the notebook on the same machine you will receive the same results\n",
    "\n",
    "SEED = 42\n",
    "\n",
    "torch.manual_seed(SEED)\n",
    "np.random.seed(SEED)\n",
    "random.seed(SEED)\n",
    "\n",
    "if device == 'cuda':\n",
    "    torch.backends.cudnn.benchmark = False\n",
    "    torch.cuda.manual_seed_all(SEED)"
   ]
  },
  {
   "cell_type": "markdown",
   "metadata": {
    "id": "ePuEJn8puVSV"
   },
   "source": [
    "## Tensors\n",
    "\n",
    "Tensors are the most basic building blocks of PyTorch. They are like matrices with extra properties. see here for more: https://pytorch.org/tutorials/beginner/blitz/tensor_tutorial.html#sphx-glr-beginner-blitz-tensor-tutorial-py."
   ]
  },
  {
   "cell_type": "code",
   "execution_count": null,
   "metadata": {
    "id": "9hv9WmAquVSV"
   },
   "outputs": [],
   "source": [
    "# from a list\n",
    "t = torch.tensor([[1,2,3],[4,5,6]], dtype=torch.long)"
   ]
  },
  {
   "cell_type": "code",
   "execution_count": null,
   "metadata": {
    "colab": {
     "base_uri": "https://localhost:8080/"
    },
    "id": "2F4XZSUzuVSV",
    "outputId": "06360213-a447-4112-a2c0-fc7f68faaf19"
   },
   "outputs": [
    {
     "data": {
      "text/plain": [
       "tensor([[1, 2, 3],\n",
       "        [4, 5, 6]])"
      ]
     },
     "execution_count": 368,
     "metadata": {},
     "output_type": "execute_result"
    }
   ],
   "source": [
    "t"
   ]
  },
  {
   "cell_type": "code",
   "execution_count": null,
   "metadata": {
    "id": "JM3XfSEyuVSW"
   },
   "outputs": [],
   "source": [
    "# from numpy\n",
    "n = np.ones(5)\n",
    "t = torch.from_numpy(n)"
   ]
  },
  {
   "cell_type": "code",
   "execution_count": null,
   "metadata": {
    "colab": {
     "base_uri": "https://localhost:8080/"
    },
    "id": "wnsrPZf5uVSW",
    "outputId": "414beddc-a275-447a-cd5c-0520adc32efe"
   },
   "outputs": [
    {
     "data": {
      "text/plain": [
       "tensor([1., 1., 1., 1., 1.], dtype=torch.float64)"
      ]
     },
     "execution_count": 370,
     "metadata": {},
     "output_type": "execute_result"
    }
   ],
   "source": [
    "t"
   ]
  },
  {
   "cell_type": "code",
   "execution_count": null,
   "metadata": {
    "colab": {
     "base_uri": "https://localhost:8080/"
    },
    "id": "qQGjiuuRuVSX",
    "outputId": "29ff5f67-21a3-4343-d454-8f13e2a687fe"
   },
   "outputs": [
    {
     "name": "stdout",
     "output_type": "stream",
     "text": [
      "Random Tensor: \n",
      " tensor([[0.8823, 0.9150, 0.3829],\n",
      "        [0.9593, 0.3904, 0.6009]]) \n",
      "\n",
      "Ones Tensor: \n",
      " tensor([[1., 1., 1.],\n",
      "        [1., 1., 1.]]) \n",
      "\n",
      "Zeros Tensor: \n",
      " tensor([[0., 0., 0.],\n",
      "        [0., 0., 0.]])\n"
     ]
    }
   ],
   "source": [
    "# prepoprulated tensors\n",
    "shape = (2,3,)\n",
    "rand_tensor = torch.rand(shape)\n",
    "ones_tensor = torch.ones(shape)\n",
    "zeros_tensor = torch.zeros(shape)\n",
    "\n",
    "print(f\"Random Tensor: \\n {rand_tensor} \\n\")\n",
    "print(f\"Ones Tensor: \\n {ones_tensor} \\n\")\n",
    "print(f\"Zeros Tensor: \\n {zeros_tensor}\")"
   ]
  },
  {
   "cell_type": "code",
   "execution_count": null,
   "metadata": {
    "colab": {
     "base_uri": "https://localhost:8080/"
    },
    "id": "zMxii1a9uVSX",
    "outputId": "c17a91f3-908a-4770-b1fd-74061edaaeea"
   },
   "outputs": [
    {
     "name": "stdout",
     "output_type": "stream",
     "text": [
      "tensor([[1., 0., 1., 1.],\n",
      "        [1., 0., 1., 1.],\n",
      "        [1., 0., 1., 1.],\n",
      "        [1., 0., 1., 1.]])\n"
     ]
    }
   ],
   "source": [
    "# slicing and indexing as in numpy\n",
    "tensor = torch.ones(4, 4)\n",
    "tensor[:,1] = 0\n",
    "print(tensor)"
   ]
  },
  {
   "cell_type": "code",
   "execution_count": null,
   "metadata": {
    "colab": {
     "base_uri": "https://localhost:8080/"
    },
    "id": "ErhVgdkXuVSX",
    "outputId": "8d3d0c2c-1489-43ee-9307-2ffb8f1bbaa2"
   },
   "outputs": [
    {
     "name": "stdout",
     "output_type": "stream",
     "text": [
      "tensor.mul(tensor) \n",
      " tensor([[1., 0., 1., 1.],\n",
      "        [1., 0., 1., 1.],\n",
      "        [1., 0., 1., 1.],\n",
      "        [1., 0., 1., 1.]]) \n",
      "\n",
      "tensor * tensor \n",
      " tensor([[1., 0., 1., 1.],\n",
      "        [1., 0., 1., 1.],\n",
      "        [1., 0., 1., 1.],\n",
      "        [1., 0., 1., 1.]])\n"
     ]
    }
   ],
   "source": [
    "# Operations\n",
    "# This computes the element-wise product\n",
    "print(f\"tensor.mul(tensor) \\n {tensor.mul(tensor)} \\n\")\n",
    "# Alternative syntax:\n",
    "print(f\"tensor * tensor \\n {tensor * tensor}\")"
   ]
  },
  {
   "cell_type": "code",
   "execution_count": null,
   "metadata": {
    "colab": {
     "base_uri": "https://localhost:8080/"
    },
    "id": "rXqw6R1DuVSY",
    "outputId": "7362f122-7656-4486-fb84-4f53809f7650"
   },
   "outputs": [
    {
     "name": "stdout",
     "output_type": "stream",
     "text": [
      "tensor.matmul(tensor.T) \n",
      " tensor([[3., 3., 3., 3.],\n",
      "        [3., 3., 3., 3.],\n",
      "        [3., 3., 3., 3.],\n",
      "        [3., 3., 3., 3.]]) \n",
      "\n",
      "tensor @ tensor.T \n",
      " tensor([[3., 3., 3., 3.],\n",
      "        [3., 3., 3., 3.],\n",
      "        [3., 3., 3., 3.],\n",
      "        [3., 3., 3., 3.]])\n"
     ]
    }
   ],
   "source": [
    "# This computes the matrix product\n",
    "print(f\"tensor.matmul(tensor.T) \\n {tensor.matmul(tensor.T)} \\n\")\n",
    "# Alternative syntax:\n",
    "print(f\"tensor @ tensor.T \\n {tensor @ tensor.T}\")"
   ]
  },
  {
   "cell_type": "code",
   "execution_count": null,
   "metadata": {
    "colab": {
     "base_uri": "https://localhost:8080/"
    },
    "id": "sLnITtuxuVSY",
    "outputId": "94b1deef-e436-46c7-a14f-10ce75872f2f"
   },
   "outputs": [
    {
     "name": "stdout",
     "output_type": "stream",
     "text": [
      "tensor([[1., 0., 1., 1.],\n",
      "        [1., 0., 1., 1.],\n",
      "        [1., 0., 1., 1.],\n",
      "        [1., 0., 1., 1.]]) \n",
      "\n",
      "tensor([[6., 5., 6., 6.],\n",
      "        [6., 5., 6., 6.],\n",
      "        [6., 5., 6., 6.],\n",
      "        [6., 5., 6., 6.]])\n"
     ]
    }
   ],
   "source": [
    "# in place operations require a _ suffix\n",
    "print(tensor, \"\\n\")\n",
    "tensor.add_(5)\n",
    "# same as tensor = tensor.add(5)\n",
    "print(tensor)"
   ]
  },
  {
   "cell_type": "markdown",
   "metadata": {
    "id": "0ap79NbOuVSY"
   },
   "source": [
    "## A super simple NN\n",
    "\n",
    "From https://pytorch.org/tutorials/beginner/blitz/autograd_tutorial.html."
   ]
  },
  {
   "cell_type": "code",
   "execution_count": null,
   "metadata": {
    "colab": {
     "base_uri": "https://localhost:8080/"
    },
    "id": "v7qe3z2puVSZ",
    "outputId": "6c3b0fc3-9dde-4260-edda-5ce888b68552"
   },
   "outputs": [
    {
     "name": "stderr",
     "output_type": "stream",
     "text": [
      "/usr/local/lib/python3.10/dist-packages/torchvision/models/_utils.py:208: UserWarning: The parameter 'pretrained' is deprecated since 0.13 and may be removed in the future, please use 'weights' instead.\n",
      "  warnings.warn(\n",
      "/usr/local/lib/python3.10/dist-packages/torchvision/models/_utils.py:223: UserWarning: Arguments other than a weight enum or `None` for 'weights' are deprecated since 0.13 and may be removed in the future. The current behavior is equivalent to passing `weights=ResNet18_Weights.IMAGENET1K_V1`. You can also use `weights=ResNet18_Weights.DEFAULT` to get the most up-to-date weights.\n",
      "  warnings.warn(msg)\n"
     ]
    }
   ],
   "source": [
    "import torch, torchvision\n",
    "# load a model, some data and labels\n",
    "# 45M\n",
    "model = torchvision.models.resnet18(pretrained=True)\n",
    "data = torch.rand(1, 3, 64, 64)\n",
    "labels = torch.rand(1, 1000)"
   ]
  },
  {
   "cell_type": "code",
   "execution_count": null,
   "metadata": {
    "id": "k7NXKOJguVSZ"
   },
   "outputs": [],
   "source": [
    "prediction = model(data) # forward pass"
   ]
  },
  {
   "cell_type": "code",
   "execution_count": null,
   "metadata": {
    "id": "KzJjo_VyuVSZ"
   },
   "outputs": [],
   "source": [
    "loss = (prediction - labels).sum() # calculates the loss\n",
    "loss.backward() # backward pass, stores the gradients in each parameter's .grad attribute"
   ]
  },
  {
   "cell_type": "code",
   "execution_count": null,
   "metadata": {
    "id": "gVtm7OqEuVSZ"
   },
   "outputs": [],
   "source": [
    "optim = torch.optim.SGD(model.parameters(), lr=1e-2, momentum=0.9) # loads an optimizers and passes the models parameters to it"
   ]
  },
  {
   "cell_type": "code",
   "execution_count": null,
   "metadata": {
    "id": "QZA5lQHIuVSa"
   },
   "outputs": [],
   "source": [
    "optim.step() # does one gradient descent step, and that's it!"
   ]
  },
  {
   "cell_type": "markdown",
   "metadata": {
    "id": "HN1Zbeq-uVSa"
   },
   "source": [
    "## Autograd\n",
    "\n",
    "From: http://web.stanford.edu/class/cs224n/materials/CS224N_PyTorch_Tutorial.html.\n",
    "\n",
    "Also see: https://pytorch.org/tutorials/beginner/blitz/autograd_tutorial.html."
   ]
  },
  {
   "cell_type": "code",
   "execution_count": null,
   "metadata": {
    "colab": {
     "base_uri": "https://localhost:8080/"
    },
    "id": "_OW-s91quVSb",
    "outputId": "76e7b3b8-8172-4e5c-ac09-67fd01b97e35"
   },
   "outputs": [
    {
     "name": "stdout",
     "output_type": "stream",
     "text": [
      "None\n"
     ]
    }
   ],
   "source": [
    "# Create an example tensor\n",
    "# requires_grad parameter tells PyTorch to store gradients\n",
    "x = torch.tensor([2.], requires_grad=True)\n",
    "\n",
    "# Print the gradient if it is calculated\n",
    "# Currently None since x is a scalar\n",
    "print(x.grad)"
   ]
  },
  {
   "cell_type": "code",
   "execution_count": null,
   "metadata": {
    "colab": {
     "base_uri": "https://localhost:8080/"
    },
    "id": "3yq30UTtuVSb",
    "outputId": "296f119d-d310-4bab-be81-5e994bed8e4d"
   },
   "outputs": [
    {
     "name": "stdout",
     "output_type": "stream",
     "text": [
      "tensor([12.])\n"
     ]
    }
   ],
   "source": [
    "# Calculating the gradient of y with respect to x\n",
    "y = x * x * 3 # 3x^2\n",
    "y.backward()\n",
    "print(x.grad) # d(y)/d(x) = d(3x^2)/d(x) = 6x = 12"
   ]
  },
  {
   "cell_type": "code",
   "execution_count": null,
   "metadata": {
    "colab": {
     "base_uri": "https://localhost:8080/"
    },
    "id": "7aFWh5nzuVSb",
    "outputId": "39d6995d-1d98-4f8a-99b6-f8eb31a32051"
   },
   "outputs": [
    {
     "name": "stdout",
     "output_type": "stream",
     "text": [
      "tensor([24.])\n"
     ]
    }
   ],
   "source": [
    "# Calculating the gradient of z with respect to x\n",
    "z = x * x * 3 # 3x^2\n",
    "z.backward()\n",
    "print(x.grad)"
   ]
  },
  {
   "cell_type": "markdown",
   "metadata": {
    "id": "ihs1FKL6uVSc"
   },
   "source": [
    "We can see that the `x.grad` is updated to be the sum of the gradients calculated so far. When we run backprop in a neural network, we sum up all the gradients for a particular neuron before making an update. This is also the reason why we need to run `zero_grad()` in every training iteration (more on this later). Otherwise our gradients would keep building up from one training iteration to the other, which would cause our updates to be wrong.\n",
    "\n",
    "Let us work towards a full model next, and introduce more advanced components."
   ]
  },
  {
   "cell_type": "markdown",
   "metadata": {
    "id": "JQgPKXgHuVSc"
   },
   "source": [
    "# Part I: Preparing the data\n",
    "\n",
    "We will use PyTorch and TorchText to create a **sentiment classifier using the IMDB dataset**. We first load it from the `torchtext.datasets` namespace. For the purpose of testing we can load only the `train` split. Note that different sets have different splits. You can see all available datasets and their properties [here](https://pytorch.org/text/stable/datasets.html#imdb)."
   ]
  },
  {
   "cell_type": "code",
   "execution_count": null,
   "metadata": {
    "id": "2I4Gf2xHuVSc"
   },
   "outputs": [],
   "source": [
    "# 84M\n",
    "from torchtext.datasets import IMDB\n",
    "from torch.utils.data import DataLoader\n",
    "from torchtext.data.functional import to_map_style_dataset\n",
    "train_imdb_iterator, _ = IMDB()\n",
    "train_dataset = to_map_style_dataset(train_imdb_iterator)"
   ]
  },
  {
   "cell_type": "code",
   "execution_count": null,
   "metadata": {
    "id": "ridYsMIaIcd9"
   },
   "outputs": [],
   "source": [
    "train_dataloader = DataLoader(train_dataset, batch_size=1, shuffle=True)"
   ]
  },
  {
   "cell_type": "markdown",
   "metadata": {
    "id": "iEsqwJJXuVSc"
   },
   "source": [
    "Next, let's see what kind of data we are working with. The `train_dataloader` can be looped through:"
   ]
  },
  {
   "cell_type": "code",
   "execution_count": null,
   "metadata": {
    "colab": {
     "base_uri": "https://localhost:8080/"
    },
    "id": "TuRzyy2auVSc",
    "outputId": "97766097-b649-4f75-8c3d-baccdf17bea7"
   },
   "outputs": [
    {
     "name": "stdout",
     "output_type": "stream",
     "text": [
      "Text sequence:\n",
      "The novelty of hearing clean-cut Jay Leno spout four-letter words is the only memorable aspect of this formulaic mismatched-police-partners caper. In COLLISION COURSE, the pelican-faced comedian teams up with the late Pat Morita to track down a stolen prototype turbocharger (think car lover Leno played a hand in the plot?). The two leads try hard, they really do, but Leno is no actor and Morita's fish-out-of-water routine gets old in a hurry. The film carries a bit of cheesy '80s appeal, but its worthy moments become increasingly scarce as it fills out its overlong 100-minute running time. Fans of Leno's considerable comedic talents will feel let down; everyone else will just be bored.\n",
      "Sentiment: 1\n",
      "Text sequence:\n",
      "Presenting Lily Mars is a real pleasant little film which showcases the comedy skills of actress Judy Garland, along with her standard singing moments. The plot consists of Lily Mars tagging along after producer John Thornway for her big break. I think the comedy is light and nothing too heavy here. I really recommend this film for everyone. Judy is breathtaking in this role!\n",
      "Sentiment: 2\n",
      "Text sequence:\n",
      "Unless you are mentally ill or the most die hard segal fan you will tire of this horrendous excuse for a film in under 5 minutes.<br /><br />The Plot - Even for a Seagal film, the plot is just stupid. I mean its not just bad, its barely coherent.<br /><br />The Acting - Unbelievably wooden. Literally seen better acting in porno's. Ironically this film tries to cash in on this audience which a 'lesbian love scene' which is utterly cringe-worthy.<br /><br />Special Effects - wouldn't look out of place in a 60's sword and sorcery flick.<br /><br />Unless you suffer from insomnia and have exhausted all other cures, don't make the same mistake as i did and buy this DVD, as you will be asking for that hour and a half of your life back.\n",
      "Sentiment: 1\n",
      "Text sequence:\n",
      "Recap: Doctor Markov has developed a new theory how to produce energy, knowledge that might unbalance the world. He keeps his knowledge coded and secret and desperately wants out of the Soviet Union. KGB on the other side desperately wants the new technology. So, they sets a scheme in motion. During a rescue attempt to free Markov, KGB steps in, takes Markov to a secret location and lures him to reveal his secret by saying they are in Sweden, and working for the UN. As a backup, KGB kidnaps Markov's estranged daughter. CIA now send their best agents, a team of (Swedish?) Ninjas to thwart KGB and rescue Markov and his daughter.<br /><br />Comments: A cult movie that despite not being very good needs seeing. The movie is quite ambitious but lacking in many areas. First off is that it is very dark, probably to conceal locations and bad effects, that some scenes are hard to comprehend. You can't see what is happening. The second thing that it is lacking is martial arts, despite being a ninja-movie. Sure there are some, of quite poor quality, but mostly the ninjas fires automatic guns or sets of explosions. The automatic guns pose a problem too as they seem to have a endless supply of ammunition. And the ninjas seem almost immune to bullets while Soviet guards die like flies.<br /><br />What does it have that speaks for it then? The idea and ambition foremost. Some actually, and especially for a Swedish movie, decent action-scenes albeit not of martial arts. Some nice slow-motion scenes and pretty much blood and gore. And some very interesting new weapons technology that makes the victims heart or brain explode. Mostly all parts that you look for in a B-movie.<br /><br />Because it definitely is a B-movie, no mistake could be made there. But if you expect it, and watch it like a B-movie, it is entertaining. But don't forget, it is not only a B-movie it is set in the eighties. Some girls, for example, besides wearing... lets say \"interesting\" clothes, have lethal doses of eye shadow and makeup.<br /><br />In all, see for the cult status and the ambition. Enjoy it, and then forget it.<br /><br />4/10\n",
      "Sentiment: 1\n",
      "Text sequence:\n",
      "This movie is a touching story about an adventure taken by 15-year-old Darius Weems. Darius has Duchenne Muscular Dystrophy, a still un-curable disease that took the life of his brother at age nineteen and is the number one killer of babies in the United States. Him and a few close friends travel across the country to Los Angeles with the goal of getting his wheelchair customized on MTV's, Pimp My Ride, one of his favorite shows. The journey begins in Georgia, where Darius grew up and has never left. The gang head west for a trip that all its participants will never forget. Darius gets to ride in a boat for the first time, ride in a hot air balloon, swim in the ocean and visit sights he's always wanted to see like the Grand Canyon and New Orleans. The filmmakers here clearly have an emotional connection to the material. They make no money from sales of the $20 dvds. $17 goes toward researching the disease and $3 goes toward making more copies. The film has won over 25 awards at festivals and I agree with the quote given to the film by Variety, \"Certain to stir hearts\".\n",
      "Sentiment: 2\n",
      "Text sequence:\n",
      "Writer/Director John Hughes covered all bases (as usual) with this bitter-sweet \"Sunday Afternoon\" family movie. \"Curly Sue\" is a sweet, precocious orphan, cared for from infancy by \"Bill\". The pair live off their wits as they travel the great US of A. Fate matches them with a \"very pretty\" yuppie lawyer, and the rest is predictable.<br /><br />Kids will love this film, as they can relate to the heroine, played by 9 year old Alisan Poter (who went on to be the \"you go girl!\" of Pepsi commercials). The character is supposed to be about 6 or 7, as she is urged to think about going to school. Some of her vocabulary suggests that she is every day of 9 or older.<br /><br />Similar to \"Home Alone\", there is plenty of slap-stick and little fists punching big fat chins. Again, this is \"formula\" film making, aimed at a young audience. Entertaining and heartwarming. Don't look for any surprises, but be prepared to shed a tear or two.\n",
      "Sentiment: 2\n",
      "Text sequence:\n",
      "I watched this hoping to find out something I didn`t know about modern history`s most infamous man and couldn`t help thinking that history has been rewritten in HITLER:THE RISE OF EVIL . Hitler was so obsessed with his niece that he threatened to have one of her admirer`s shot . Hitler turned up with a gun in his hand to arrest Ernst Rohm . Forgive me for asking but haven`t the writers confused Adolph Hitler with Tony Montana from SCARFACE ? That`s bad enough but what really offended me was that there`s entire chunks of historical context missing in this mini series . Germany lost the first world war and the allied powers made Germany pay a heavy price for doing so. It was this economic environment that led the German people to have someone - anyone - to restore their pride and that`s why they turned to Nazism . The German humiliation of the 1920s caused by the allied powers seems to be entirely missing therefore there is no way that HITLER:THE RISE OF EVIL can be taken seriously as a historical document, and I haven`t even mentioned that Himmler and Goering are conspicous by their absence <br /><br />There is one positive point about the mini series and that`s Robert Carlyle in the title role . Okay some of his mannerisms are wrong and his voice is a little too loud ( Archive recordings show that Hitler had a soft seductive voice ) but Carlyle is a charismatic actor and he does manage to communicate Hitler`s own charisma on screen . Comments in the British press that Carlyle resembles the synth player from Sparks more than Adolph Hitler are unfounded and he gives one of the better interpretations of Hitler.<br /><br />I liked the performance by Robert Carlyle but I hated everything else about this mini series and wondered why on earth it was made in the first place . There`s nothing to recommend it to serious history fans\n",
      "Sentiment: 1\n"
     ]
    }
   ],
   "source": [
    "for i, (label, text) in enumerate(train_dataloader):\n",
    "\n",
    "  print(f'Text sequence:\\n{text[0]}')\n",
    "  print(f'Sentiment: {label[0]}')\n",
    "  if i > 5:\n",
    "    break"
   ]
  },
  {
   "cell_type": "markdown",
   "metadata": {
    "id": "MVlwGftiuVSd"
   },
   "source": [
    "As you can see, each element from the dataset contains an IMDB review and a sentiment ground truth label. The label can be either positive (pos) or negative (neg). Our goal is to train a machine learning model which can predict the sentiment of a given text."
   ]
  },
  {
   "cell_type": "code",
   "execution_count": null,
   "metadata": {
    "id": "JliSHk4SKOlQ"
   },
   "outputs": [],
   "source": [
    "import torchtext\n",
    "from torchtext.vocab import build_vocab_from_iterator\n",
    "from torchtext.data.utils import get_tokenizer\n",
    "from collections import Counter\n",
    "\n",
    "def get_tokenized_data(tokenizer, vectors=None):\n",
    "    # load data\n",
    "    train_dataset = torchtext.datasets.IMDB(split='train')\n",
    "\n",
    "    counter = Counter() #Track vocab frequencies\n",
    "\n",
    "    #function that tokenizes and returns token-by-token\n",
    "    def yield_tokens(data_iter):\n",
    "        for _, line in data_iter:\n",
    "            tokens = tokenizer(line)\n",
    "            counter.update(tokens)\n",
    "            #print(tokens)\n",
    "            yield tokens\n",
    "\n",
    "    # Initialize tokenizer\n",
    "    tokenizer = get_tokenizer('basic_english')\n",
    "\n",
    "    # Build vocabulary from iterator\n",
    "    vocab = build_vocab_from_iterator(yield_tokens(train_dataset), specials=[\"<unk>\"])\n",
    "    vocab.set_default_index(vocab[\"<unk>\"])  # Set default index for unknown tokens\n",
    "\n",
    "    #Initialize pretrained embeddings if specified\n",
    "    if vectors:\n",
    "        e_dim = len(vectors[0])\n",
    "        pretrained_embeddings = torch.zeros(len(vocab), e_dim)\n",
    "        for i, token in enumerate(vocab.get_itos()):\n",
    "            if token in vectors.stoi:\n",
    "                pretrained_embeddings[i] = vectors.get_vecs_by_tokens(token)\n",
    "            else:\n",
    "                # Initialize with random values for missing tokens\n",
    "                pretrained_embeddings[i] = torch.randn(e_dim)\n",
    "        return vocab, counter, pretrained_embeddings\n",
    "\n",
    "    return vocab, counter"
   ]
  },
  {
   "cell_type": "code",
   "execution_count": null,
   "metadata": {
    "id": "L05ul80duVSd"
   },
   "outputs": [],
   "source": [
    "tokenizer = get_tokenizer('basic_english')\n",
    "vocab, counter = get_tokenized_data(tokenizer)"
   ]
  },
  {
   "cell_type": "code",
   "execution_count": null,
   "metadata": {
    "id": "K55cJ099uVSe"
   },
   "outputs": [],
   "source": [
    "def tokenize_text(text, vocab, tokenizer):\n",
    "    return [vocab[token] for token in tokenizer(text)]\n",
    "\n",
    "def tokenize_label(label):\n",
    "#in this dataset, 1 means negative and 2 means positive, we will change it to 0 and 1\n",
    "    if label == 1:\n",
    "        return 0\n",
    "    else:\n",
    "        return 1"
   ]
  },
  {
   "cell_type": "code",
   "execution_count": null,
   "metadata": {
    "colab": {
     "base_uri": "https://localhost:8080/"
    },
    "id": "T1m39r1GuVSe",
    "outputId": "158adcb3-09ea-4bd6-d976-9d67f645e2d0"
   },
   "outputs": [
    {
     "data": {
      "text/plain": [
       "[131, 9, 40, 464]"
      ]
     },
     "execution_count": 390,
     "metadata": {},
     "output_type": "execute_result"
    }
   ],
   "source": [
    "# example\n",
    "tokenize_text('here is an example', vocab, tokenizer)"
   ]
  },
  {
   "cell_type": "code",
   "execution_count": null,
   "metadata": {
    "colab": {
     "base_uri": "https://localhost:8080/"
    },
    "id": "wMHpCVfvuVSe",
    "outputId": "f0de1caf-2be4-46f0-c643-a7160e255639"
   },
   "outputs": [
    {
     "data": {
      "text/plain": [
       "1"
      ]
     },
     "execution_count": 391,
     "metadata": {},
     "output_type": "execute_result"
    }
   ],
   "source": [
    "# example\n",
    "tokenize_label('2')"
   ]
  },
  {
   "cell_type": "code",
   "execution_count": null,
   "metadata": {
    "colab": {
     "base_uri": "https://localhost:8080/"
    },
    "id": "1nfXVgKNuVSe",
    "outputId": "9158556e-579f-4d02-81a9-519f9a390285"
   },
   "outputs": [
    {
     "name": "stdout",
     "output_type": "stream",
     "text": [
      "Unique tokens in vocabulary: 100,683\n"
     ]
    }
   ],
   "source": [
    "# Let's see how many unique tokens we have in our vocabularies\n",
    "\n",
    "print(f\"Unique tokens in vocabulary: {len(vocab):,}\")"
   ]
  },
  {
   "cell_type": "code",
   "execution_count": null,
   "metadata": {
    "colab": {
     "base_uri": "https://localhost:8080/"
    },
    "id": "qtpKzlv7uVSf",
    "outputId": "0a1332a8-426c-469f-8baa-4ed4c53e7a56"
   },
   "outputs": [
    {
     "name": "stdout",
     "output_type": "stream",
     "text": [
      "[('the', 335746), ('.', 327192), (',', 276280), ('and', 163290), ('a', 162473), ('of', 145437), ('to', 135208), (\"'\", 133857), ('is', 107221), ('it', 96024), ('in', 93307), ('i', 87401), ('this', 75878), ('that', 73153), ('s', 62933), ('was', 48170), ('as', 46807), ('for', 44116), ('with', 44041), ('movie', 43421)]\n"
     ]
    }
   ],
   "source": [
    "# We can also check the most common tokens in our vocabulary, because we counted them:\n",
    "\n",
    "print(counter.most_common(20))"
   ]
  },
  {
   "cell_type": "markdown",
   "metadata": {
    "id": "yC_entYEuVSf"
   },
   "source": [
    "Vocabularies contain so called **i**ndex **to s**tring vector which is usually represented as a list of string where the index of an element represents the index of this token in the vocabulary. We can access this list in a TorchText data field using the `.itos` property"
   ]
  },
  {
   "cell_type": "code",
   "execution_count": null,
   "metadata": {
    "colab": {
     "base_uri": "https://localhost:8080/"
    },
    "id": "t6HuTo1kuVSg",
    "outputId": "fc225626-438b-441b-bf64-d2d9fa916287",
    "scrolled": true
   },
   "outputs": [
    {
     "name": "stdout",
     "output_type": "stream",
     "text": [
      "['<unk>', 'the', '.', ',', 'and', 'a', 'of', 'to', \"'\", 'is']\n"
     ]
    }
   ],
   "source": [
    "print(vocab.get_itos()[:10])"
   ]
  },
  {
   "cell_type": "markdown",
   "metadata": {
    "id": "xnDExorhuVSg"
   },
   "source": [
    "Similarly, vocabularies also contain the opposite mapping, namely **s**tring **to i**ndex which is a dictionary with the keys being the tokens and the values - the corresponding vocabulary indices. This can be examined using the `.stoi` property of a TorchText data field."
   ]
  },
  {
   "cell_type": "code",
   "execution_count": null,
   "metadata": {
    "colab": {
     "base_uri": "https://localhost:8080/"
    },
    "id": "UTK9Vy-luVSg",
    "outputId": "1559d365-f755-4833-9833-32baac18dc24"
   },
   "outputs": [
    {
     "name": "stdout",
     "output_type": "stream",
     "text": [
      "['₤250', '₤100', '“you’ve', '“x”', '“sanatorium”', '“playboy”', '“mr', '“jean', '“it’s', '“him”']\n"
     ]
    }
   ],
   "source": [
    "print(list(vocab.get_stoi())[:10])"
   ]
  },
  {
   "cell_type": "markdown",
   "metadata": {
    "id": "0-Am6YqpuVSh"
   },
   "source": [
    "The next step is to create a set of data loaders which organise our data into batches of datapoints, each contained into a tensor."
   ]
  },
  {
   "cell_type": "code",
   "execution_count": null,
   "metadata": {
    "id": "14crO5b1uVSh"
   },
   "outputs": [],
   "source": [
    "from torch.utils.data import DataLoader\n",
    "\n",
    "def collate_batch(batch, vocab, tokenizer):\n",
    "    # takes a batch of data, a vocabulary and tokenizers, and creates a tensor representation doing padding where needed\n",
    "    batch_size = len(batch)\n",
    "    label_list, text_list = [], []\n",
    "\n",
    "    # Tokenize labels and texts\n",
    "    for (label, text) in batch:\n",
    "        label_list.append(tokenize_label(label))\n",
    "        tokenized_text = tokenize_text(text, vocab, tokenizer)\n",
    "        text_list.append(tokenized_text)\n",
    "\n",
    "    # Put all texts into a single numpy array of uniform length\n",
    "    # For all sequences that are shorther than the maximum length, pad to the right with 0\n",
    "    lengths = [len(text) for text in text_list]\n",
    "    max_length = max(lengths)\n",
    "    padded_sequences = np.zeros((batch_size, max_length), dtype=np.int64)\n",
    "    for i, (length, text) in enumerate(zip(lengths, text_list)):\n",
    "        padded_sequences[i][0:length] = text_list[i][0:length]\n",
    "\n",
    "    # Finally transform the arrays into tensors and return to the dataloader\n",
    "    label_tensor = torch.tensor(label_list, dtype=torch.float32).to(device)\n",
    "    sequences_tensor = torch.from_numpy(padded_sequences).to(device)\n",
    "    return sequences_tensor, label_tensor"
   ]
  },
  {
   "cell_type": "code",
   "execution_count": null,
   "metadata": {
    "id": "YxD0FILQuVSh"
   },
   "outputs": [],
   "source": [
    "from torch.utils.data.dataset import random_split\n",
    "\n",
    "def get_dataloaders(batch_size, vocab, tokenizer):\n",
    "    # collates the data and puts it into a data loader\n",
    "\n",
    "    train_iter, test_iter = torchtext.datasets.IMDB()\n",
    "    train_dataset, test_dataset = list(train_iter), list(test_iter)\n",
    "    num_train = int(len(train_dataset) * 0.95)\n",
    "    split_train_, split_valid_ = random_split(\n",
    "        train_dataset,\n",
    "        [num_train, len(train_dataset) - num_train])\n",
    "\n",
    "    train_dataloader = DataLoader(\n",
    "        split_train_,\n",
    "        batch_size=batch_size,\n",
    "        shuffle=True,\n",
    "        collate_fn=lambda x: collate_batch(x, vocab, tokenizer))\n",
    "\n",
    "    valid_dataloader = DataLoader(\n",
    "        split_valid_,\n",
    "        batch_size=batch_size,\n",
    "        collate_fn=lambda x: collate_batch(x, vocab, tokenizer))\n",
    "\n",
    "    test_dataloader = DataLoader(\n",
    "        test_dataset,\n",
    "        batch_size=batch_size,\n",
    "        collate_fn=lambda x: collate_batch(x, vocab, tokenizer))\n",
    "\n",
    "    return train_dataloader, valid_dataloader, test_dataloader"
   ]
  },
  {
   "cell_type": "code",
   "execution_count": null,
   "metadata": {
    "id": "es_lh2eEuVSh"
   },
   "outputs": [],
   "source": [
    "BATCH_SIZE = 128\n",
    "\n",
    "train_dataloader, valid_dataloader, test_dataloader = get_dataloaders(BATCH_SIZE, vocab, tokenizer)"
   ]
  },
  {
   "cell_type": "markdown",
   "metadata": {
    "id": "aLsxD84luVSh"
   },
   "source": [
    "# Part II: The model"
   ]
  },
  {
   "cell_type": "markdown",
   "metadata": {
    "id": "BfhedKKpuVSi"
   },
   "source": [
    "### nn.Module vs nn.functional\n",
    "\n",
    "The `torch.nn.Module` or simply `nn.Module` is arguably one of the most important parts and what many refer to as the \"cornerstone\" of PyTorch. In order to build a machine learning model that is able to backpropagate automatically, one must define an `nn.Module` object and then invoke its `forward` method to run it. This is the Object Oriented way of doing things. On the other hand, people also make use of `nn.functional` which provides some layers/activations in the form of functions that can be directly called on the input rather than defining the an object. For example, in order to rescale an image tensor, you call `nn.functional.interpolate` on an image tensor."
   ]
  },
  {
   "cell_type": "markdown",
   "metadata": {
    "id": "MDnD1IZKuVSi"
   },
   "source": [
    "### Understanding stateful-ness\n",
    "\n",
    "Normally, any layer can be seen as a function. For example, a convolutional operation is just a bunch of multiplication and addition operations. So, it makes sense for us to just implement it as a function right? But wait, the layer holds weights which need to be stored and updated while we are training. Therefore, from a programmatic angle, a layer is more than function. It also needs to hold data (weights), which change as we train our network.\n",
    "\n",
    "It must be understood that the data held by the convolutional layer **changes**. This means that the layer has a state which changes as we train. For us to implement a function that does any operation, we would also need to define a data structure to hold the weights of the layer separately from the function itself. And then, make this external data structure an input to our function. Or we could just define a class to hold the data structure, and make convolutional operation as an member function. This would really ease up our job, as we don't have to worry about stateful variables existing outside of the function.\n",
    "\n",
    "This all seems rather complicated, but thankfully PyTorch comes to the rescue by exposing the `nn.Module` objects where we have weights or other pre-defined states which define the behaviour of the layers. In the cases where no state or weights are required, one could use the nn.functional, examples being resizing (`nn.functional.interpolate`) or average pooling (`nn.functional.AvgPool2d`)."
   ]
  },
  {
   "cell_type": "markdown",
   "metadata": {
    "id": "IvPS2h9nuVSi"
   },
   "source": [
    "### nn.Parameter\n",
    "\n",
    "Before we step towards writing our own model, we must look into one other important part of PyTorch, namely the `nn.Parameter` class.\n",
    "\n",
    "Each `nn.Module` has a `parameters()` function which returns its trainable parameters. We have to implicitly define what these parameters are. However, when we use internal `nn.Module` objects, all of the module training weights are implemented as `nn.Parameter`. If you try to assign a tensor to the `nn.Module` object, it won't show up in the `parameters()` unless you define it as `nn.Parameter` object. This has been done to facilitate scenarios where you might need to cache a non-differentiable tensor.\n",
    "\n",
    "Let's consider the following example:"
   ]
  },
  {
   "cell_type": "code",
   "execution_count": null,
   "metadata": {
    "id": "LFEV5wyPuVSi"
   },
   "outputs": [],
   "source": [
    "class net1(nn.Module):\n",
    "    def __init__(self):\n",
    "        super().__init__()\n",
    "        self.conv = nn.Linear(10,5)\n",
    "        self.tens = torch.ones(3,4)\n",
    "\n",
    "    def forward(self, x):\n",
    "        return self.linear(x)\n",
    "\n",
    "##########################################################\n",
    "\n",
    "class net2(nn.Module):\n",
    "    def __init__(self):\n",
    "        super().__init__()\n",
    "        self.conv = nn.Linear(10,5)\n",
    "        self.tens = nn.Parameter(torch.ones(3,4))\n",
    "\n",
    "    def forward(self, x):\n",
    "        return self.linear(x)\n",
    "\n",
    "##########################################################\n",
    "\n",
    "class net3(nn.Module):\n",
    "    def __init__(self):\n",
    "        super().__init__()\n",
    "        self.conv = nn.Linear(10,5)\n",
    "        self.net  = net2()\n",
    "\n",
    "    def forward(self, x):\n",
    "        return self.linear(x)"
   ]
  },
  {
   "cell_type": "markdown",
   "metadata": {
    "id": "EbAD6w6EuVSi"
   },
   "source": [
    "Having defined those simple networks, let's invoke the `named_parameters` function of each. This calls the `parameters` function and also returns the name of each parameter. Notice how the parameters differ across the three networks."
   ]
  },
  {
   "cell_type": "code",
   "execution_count": null,
   "metadata": {
    "colab": {
     "base_uri": "https://localhost:8080/"
    },
    "id": "FSrddomfuVSj",
    "outputId": "e986c1b7-ed2a-431a-afd2-51ba11be69a5"
   },
   "outputs": [
    {
     "name": "stdout",
     "output_type": "stream",
     "text": [
      "# Net 1:\n",
      " ** conv.weight: Parameter containing:\n",
      "tensor([[ 0.0886,  0.0415,  0.2994, -0.2252,  0.0365,  0.1212, -0.0201, -0.2129,\n",
      "          0.1633, -0.2027],\n",
      "        [-0.2562, -0.0417, -0.1582, -0.2581, -0.1789,  0.1360,  0.1099,  0.2290,\n",
      "         -0.2491,  0.1853],\n",
      "        [-0.0509,  0.2958,  0.1447,  0.2031,  0.2510,  0.1785,  0.3085,  0.1068,\n",
      "         -0.0279,  0.1930],\n",
      "        [-0.3132, -0.2018,  0.0512,  0.0253,  0.2034, -0.2902,  0.3150, -0.0549,\n",
      "          0.0293,  0.1395],\n",
      "        [-0.0781,  0.0798,  0.1646, -0.2603,  0.1447,  0.0493,  0.0336, -0.2970,\n",
      "         -0.0305, -0.2056]], requires_grad=True)\n",
      " ** conv.bias: Parameter containing:\n",
      "tensor([-0.2913,  0.2052,  0.1945, -0.2798,  0.1627], requires_grad=True)\n",
      "\n",
      "# Net 2:\n",
      " ** tens: Parameter containing:\n",
      "tensor([[1., 1., 1., 1.],\n",
      "        [1., 1., 1., 1.],\n",
      "        [1., 1., 1., 1.]], requires_grad=True)\n",
      " ** conv.weight: Parameter containing:\n",
      "tensor([[-0.1865, -0.1522,  0.1489,  0.1266, -0.1740,  0.2763, -0.2544, -0.1162,\n",
      "         -0.0898,  0.0713],\n",
      "        [-0.0114, -0.0268,  0.1767,  0.2342, -0.2289, -0.3159,  0.1120,  0.2594,\n",
      "          0.1986,  0.3110],\n",
      "        [ 0.0966,  0.1875,  0.0206,  0.0258, -0.1533,  0.0475, -0.0191,  0.1512,\n",
      "          0.0501,  0.2956],\n",
      "        [ 0.2956,  0.1227, -0.0098,  0.0353,  0.1631,  0.0899,  0.0877, -0.0303,\n",
      "          0.2345, -0.3009],\n",
      "        [ 0.2963,  0.0588,  0.0311, -0.0347,  0.1523,  0.0905,  0.3044, -0.1282,\n",
      "         -0.2129, -0.2659]], requires_grad=True)\n",
      " ** conv.bias: Parameter containing:\n",
      "tensor([ 0.1686, -0.2400, -0.0488, -0.2572, -0.2322], requires_grad=True)\n",
      "\n",
      "# Net 3:\n",
      " ** conv.weight: Parameter containing:\n",
      "tensor([[ 0.1272, -0.3065, -0.2141, -0.2003,  0.1588, -0.3095,  0.1708,  0.1892,\n",
      "          0.2798,  0.2833],\n",
      "        [-0.0927,  0.0782, -0.1285, -0.1659, -0.1825,  0.2123,  0.3146, -0.3006,\n",
      "          0.1803,  0.0910],\n",
      "        [ 0.2396,  0.2985,  0.1658, -0.2730, -0.2033,  0.0276,  0.0016,  0.2699,\n",
      "         -0.0537,  0.2431],\n",
      "        [ 0.0522, -0.0593, -0.2136,  0.1945,  0.2759, -0.1905,  0.1594,  0.0720,\n",
      "         -0.2431,  0.2086],\n",
      "        [ 0.1984,  0.0775,  0.0085,  0.2901, -0.0687,  0.0304, -0.0275, -0.0819,\n",
      "         -0.2260,  0.2229]], requires_grad=True)\n",
      " ** conv.bias: Parameter containing:\n",
      "tensor([ 0.1800,  0.2201, -0.2491, -0.2028,  0.2680], requires_grad=True)\n",
      " ** net.tens: Parameter containing:\n",
      "tensor([[1., 1., 1., 1.],\n",
      "        [1., 1., 1., 1.],\n",
      "        [1., 1., 1., 1.]], requires_grad=True)\n",
      " ** net.conv.weight: Parameter containing:\n",
      "tensor([[ 0.0558, -0.1564,  0.0773, -0.2203, -0.1437, -0.2360, -0.1762, -0.0436,\n",
      "          0.1186,  0.1677],\n",
      "        [ 0.0303,  0.3042,  0.2814, -0.0180, -0.1675,  0.3069,  0.0200, -0.0973,\n",
      "          0.1662, -0.0961],\n",
      "        [-0.2949, -0.0638,  0.1430, -0.2570, -0.0836, -0.1626, -0.2739,  0.0511,\n",
      "         -0.0263,  0.1537],\n",
      "        [ 0.0517, -0.1993, -0.1959, -0.1586,  0.0623, -0.3070,  0.0454,  0.3072,\n",
      "          0.1040,  0.1880],\n",
      "        [-0.2496, -0.2027,  0.1148,  0.0265,  0.0166, -0.3104, -0.1281,  0.3001,\n",
      "         -0.0518, -0.0339]], requires_grad=True)\n",
      " ** net.conv.bias: Parameter containing:\n",
      "tensor([-0.3104, -0.2293,  0.2273,  0.0110,  0.1589], requires_grad=True)\n"
     ]
    }
   ],
   "source": [
    "def print_named_parameters(model):\n",
    "    for name, parameter in model.named_parameters():\n",
    "        print(f' ** {name}: {parameter}')\n",
    "\n",
    "print('# Net 1:')\n",
    "print_named_parameters(net1())\n",
    "\n",
    "print('\\n# Net 2:')\n",
    "print_named_parameters(net2())\n",
    "\n",
    "print('\\n# Net 3:')\n",
    "print_named_parameters(net3())"
   ]
  },
  {
   "cell_type": "markdown",
   "metadata": {
    "id": "599RBxDPuVSj"
   },
   "source": [
    "## Defining a \"real\" model\n",
    "\n",
    "Now it's time to define our own PyTorch model which we will train on sentiment analysis detection over the IMDB dataset.\n",
    "\n",
    "We will use the model defined in this example\n",
    "![Sentiment analysis model](https://pytorch.org/tutorials/_images/text_sentiment_ngrams_model.png \"Sentiment analysis model\")\n",
    "\\[[reference](https://pytorch.org/tutorials/beginner/text_sentiment_ngrams_tutorial.html#define-the-model)\\]\n",
    "\n",
    "For simplicity, we will not use an embedding bag but rather a simple embedding layer. This is the first inner module we define. It uses `input_dimension` and `embedding_dimension` arguments that can differ based on our use case or experiment. Afterwards, a fully connected linear layer maps down the `embedding_dimension` to an `output_dimension` which in our case would be 1 as we have two labels which can be either 0 or 1.\n",
    "\n",
    "We also add a uniform weight initialization. Appropriate initialization can often improve and/or speed up the training process. We also add an optional embeddings weight initialization from an external source (more on this later).\n",
    "\n",
    "Finally, the forward iteration must be implemented. First, a pass through the embedding layer must be performed before taking the average value of the embeddings. Finally, the output must be mapped down using the fully connected layer."
   ]
  },
  {
   "cell_type": "code",
   "execution_count": null,
   "metadata": {
    "id": "EX25-elcuVSj"
   },
   "outputs": [],
   "source": [
    "class SentimentAnalysisModel(nn.Module):\n",
    "    def __init__(\n",
    "        self,\n",
    "        input_dimension,\n",
    "        embedding_dimension,\n",
    "        output_dimension,\n",
    "        pretr_embeddings=None):\n",
    "        super().__init__()\n",
    "\n",
    "        self._embedding_layer = nn.Embedding(input_dimension, embedding_dimension)\n",
    "        self._fully_connected_layer = nn.Linear(embedding_dimension, output_dimension)\n",
    "        self._init_weights(pretr_embeddings)\n",
    "\n",
    "    # Use uniform initialization of the weights\n",
    "    def _init_weights(self, pretr_embeddings):\n",
    "        initrange = 0.5\n",
    "\n",
    "        # We add an option to initialize the embeddings from external source\n",
    "        if pretr_embeddings is not None:\n",
    "            self._embedding_layer.weight.data.copy_(pretr_embeddings)\n",
    "        else:\n",
    "            self._embedding_layer.weight.data.uniform_(-initrange, initrange)\n",
    "\n",
    "        self._fully_connected_layer.weight.data.uniform_(-initrange, initrange)\n",
    "        self._fully_connected_layer.bias.data.zero_()\n",
    "\n",
    "    def forward(self, input_batch):\n",
    "        # Process the input batch and return a result that can be processed from the loss function\n",
    "        # input_batch is of shape [ batch_size x max_length ]\n",
    "\n",
    "        embeddings = self._embedding_layer.forward(input_batch)\n",
    "        # embeddings are of shape [ batch_size x max_length x embedding_dimension ]\n",
    "\n",
    "        embeddings_mean = embeddings.mean(dim=1)\n",
    "        # embeddings_mean is now [ batch_size x embedding_dimension ]\n",
    "\n",
    "        result = self._fully_connected_layer.forward(embeddings_mean)\n",
    "        # finally, our result is [ batch_size x 1 ]\n",
    "\n",
    "        return result"
   ]
  },
  {
   "cell_type": "code",
   "execution_count": null,
   "metadata": {
    "id": "GQRcoQ2EuVSk"
   },
   "outputs": [],
   "source": [
    "INPUT_DIMENSION = len(vocab)\n",
    "EMBEDDING_DIMENSION = 300\n",
    "OUTPUT_DIMENSION = 1\n",
    "\n",
    "# We can now initialize our model. Note the .to(device) part.\n",
    "# This transfers the model to the previously defined device (could be a GPU) for faster computation.\n",
    "\n",
    "model = SentimentAnalysisModel(\n",
    "    INPUT_DIMENSION,\n",
    "    EMBEDDING_DIMENSION,\n",
    "    OUTPUT_DIMENSION).to(device)"
   ]
  },
  {
   "cell_type": "code",
   "execution_count": null,
   "metadata": {
    "colab": {
     "base_uri": "https://localhost:8080/"
    },
    "id": "9XS7RyDfuVSk",
    "outputId": "4eddc43f-8676-436d-c5b4-b5443ad278ac"
   },
   "outputs": [
    {
     "name": "stdout",
     "output_type": "stream",
     "text": [
      "SentimentAnalysisModel(\n",
      "  (_embedding_layer): Embedding(100683, 300)\n",
      "  (_fully_connected_layer): Linear(in_features=300, out_features=1, bias=True)\n",
      ")\n"
     ]
    }
   ],
   "source": [
    "# We can now check how our model looks like\n",
    "print(model)"
   ]
  },
  {
   "cell_type": "markdown",
   "metadata": {
    "id": "26_-gIqhuVSk"
   },
   "source": [
    "After we have the model, we must define a loss function. Here, we will make use of the [`BCEWithLogitsLoss`](https://pytorch.org/docs/stable/generated/torch.nn.BCEWithLogitsLoss.html) defined in PyTorch. This loss combines a Sigmoid layer and the Binary Cross Entropy Loss in one single class. This version is more numerically stable than using a plain Sigmoid followed by a BCELoss as, by combining the operations into one layer, we take advantage of the log-sum-exp trick for numerical stability."
   ]
  },
  {
   "cell_type": "code",
   "execution_count": null,
   "metadata": {
    "id": "CVbt54NNuVSk"
   },
   "outputs": [],
   "source": [
    "criterion = nn.BCEWithLogitsLoss().to(device)"
   ]
  },
  {
   "cell_type": "markdown",
   "metadata": {
    "id": "g9d3Lk5ruVSl"
   },
   "source": [
    "The next simple example shows how we use our loss function during training.\n",
    "\n",
    "Our model outputs a prediction for each entry (the logit, or the log-odds, modelled as a linear combination of the inputs). Let's assume we have three elements in our dataset. As our task is a binary classification one, our model outputs a value which is then transformed into a probability (value between 0 and 1) using a sigmoid function. See more [here](https://en.wikipedia.org/wiki/Logistic_regression).\n",
    "\n",
    "On the other side, our targets are usually integers. In the case of binary classification, they can be only 0 or 1. For the purpose of comparison with the probabilities which are floats, we use float type for the labels too.\n",
    "\n",
    "Finally, we pass the model output and the original targets to the loss function which computes a number that is our loss. The lower and closer to 0 the loss value is, the better are our model predictions resembling the true labels.\n",
    "\n",
    "During training, we must also call the `.backward()` function of the loss result in order to back-propagate through the model and update our weights.\n",
    "\n",
    "_Note: Execute the next cell multiple times to see how the loss changes depending on the different targets and model outputs_"
   ]
  },
  {
   "cell_type": "code",
   "execution_count": null,
   "metadata": {
    "colab": {
     "base_uri": "https://localhost:8080/"
    },
    "id": "yD3jCb2ouVSl",
    "outputId": "da183598-270c-4fba-c428-1b5ffa1e7ce7"
   },
   "outputs": [
    {
     "name": "stdout",
     "output_type": "stream",
     "text": [
      "Model output: tensor([-1.0712, -0.9243, -1.1278])\n",
      "Target: tensor([1., 1., 1.])\n",
      "Calculated loss: 1.3441957235336304\n"
     ]
    }
   ],
   "source": [
    "model_output = torch.randn(3)\n",
    "print(f'Model output: {model_output}')\n",
    "target = torch.empty(3).random_(2)\n",
    "print(f'Target: {target}')\n",
    "test_criterion = nn.BCEWithLogitsLoss()\n",
    "output = test_criterion.forward(model_output, target)\n",
    "print(f'Calculated loss: {output}')"
   ]
  },
  {
   "cell_type": "markdown",
   "metadata": {
    "id": "kJJ26M64uVSm"
   },
   "source": [
    "Finally, a `torch.optim` optimizer must be defined. This is used to traverse through the parameter space and find the optimal weights for the model. The [`Adam`](https://pytorch.org/docs/stable/optim.html#torch.optim.Adam) optimizer is a solid choice. Stick to the default arguments. Later, you can experiment with different learning rates that can change the training process."
   ]
  },
  {
   "cell_type": "code",
   "execution_count": null,
   "metadata": {
    "id": "F6OvBL5uuVSm"
   },
   "outputs": [],
   "source": [
    "optimizer = torch.optim.Adam(model.parameters())"
   ]
  },
  {
   "cell_type": "markdown",
   "metadata": {
    "id": "RefaQOMuuVSm"
   },
   "source": [
    "Before we go to the training process, we must prepare a function that can calculate the accuracy of the model. Due to the nature of the training, our model is outputting raw predictions while we also have ground truth values. These are both in the forms of vectors, although the predictions could be float numbers while the true values are usually integers.\n",
    "\n",
    "We then implement a function which takes these two vectors and calculates a value between 0 and 1 which corresponds to the accuracy. Even more so, we are working with batches and therefore have vectors of such values, e.g. if we have predicted [0, 1, 0, 1] and the ground truth is [1, 1, 1, 1], then the function should output 0.5. Keep in mind that the `calculate_accuracy` function accepts and works with tensors and not regular lists."
   ]
  },
  {
   "cell_type": "code",
   "execution_count": null,
   "metadata": {
    "id": "GzMd1oXduVSm"
   },
   "outputs": [],
   "source": [
    "def calculate_accuracy(predictions, ground_truth):\n",
    "    # Returns accuracy per batch\n",
    "\n",
    "    # transform the predictions into probabilities\n",
    "    predictions = torch.sigmoid(predictions)\n",
    "\n",
    "    # round the predictions into integers\n",
    "    rounded_predictions = torch.round(predictions)\n",
    "\n",
    "    # compare which of the predictions are equal to their corresponding true value\n",
    "    correct = (rounded_predictions == ground_truth).float()\n",
    "\n",
    "    # take the average for all elements in one batch\n",
    "    accuracy = correct.sum() / len(correct)\n",
    "    return accuracy"
   ]
  },
  {
   "cell_type": "markdown",
   "metadata": {
    "id": "gP_cp7SVuVSm"
   },
   "source": [
    "# Part III: Training\n",
    "\n",
    "We can now proceed to training our model.\n",
    "\n",
    "First you will see the `zero_optimizer_gradients` function. This is necessary during training to avoid problems with gradients accumulating. We usually execute this before we backpropagate to avoid using gradients from previous steps (see above, Autograd, for a simple example)."
   ]
  },
  {
   "cell_type": "code",
   "execution_count": null,
   "metadata": {
    "id": "OldscewkuVSn"
   },
   "outputs": [],
   "source": [
    "def zero_optimizer_gradients(optimizer):\n",
    "    optimizer.zero_grad()"
   ]
  },
  {
   "cell_type": "markdown",
   "metadata": {
    "id": "Qe-rs8qluVSn"
   },
   "source": [
    "We now proceed to the training process. We define one _epoch_ to be the period where we iterate over **all** elements (or batches) in our dataset. Usually, during training we can iterate over many epochs until we are comfortable with our results. Starting, with the smallest iteration, we a function which works on batch-level. The most important steps during one such pass are:\n",
    "* Perform a forward pass through the model\n",
    "* Perform a forward pass through the loss function using the predicted labels from the model\n",
    "* Calculate the accuracy by comparing the predictions and the ground truth\n",
    "\n",
    "This function can be used both during training (when we update the parameters of the network) and during evaluation (where we only want to predict labels). To distinguish the two modes, we use the `eval_mode` argument. When we are training (i.e. `eval_mode == False`) we must perform a backpropagation from the loss function and perform a step in the parameter space using the optimizer"
   ]
  },
  {
   "cell_type": "code",
   "execution_count": null,
   "metadata": {
    "id": "ofOqW4VOuVSn"
   },
   "outputs": [],
   "source": [
    "def perform_batch_iteration(\n",
    "    batch,\n",
    "    model,\n",
    "    criterion,\n",
    "    optimizer,\n",
    "    eval_mode):\n",
    "\n",
    "    if not eval_mode:\n",
    "        # reset gradients\n",
    "        zero_optimizer_gradients(optimizer)\n",
    "\n",
    "    text, label = batch\n",
    "\n",
    "    predictions = model.forward(text).squeeze(1)\n",
    "    loss = criterion.forward(predictions, label)\n",
    "    accuracy = calculate_accuracy(predictions, label)\n",
    "\n",
    "    if not eval_mode:\n",
    "        loss.backward()\n",
    "        optimizer.step()\n",
    "\n",
    "    return loss.item(), accuracy.item()"
   ]
  },
  {
   "cell_type": "markdown",
   "metadata": {
    "id": "0EinEwKyuVSn"
   },
   "source": [
    "Having passed through one bach, we then define a function which takes care for a whole epoch iteration. In one epoch, we must process _all_ batches of our data and save the loss and accuracy values that we compute for each batch."
   ]
  },
  {
   "cell_type": "code",
   "execution_count": null,
   "metadata": {
    "id": "GEYx8bz0uVSn"
   },
   "outputs": [],
   "source": [
    "def perform_epoch_iteration(\n",
    "    model,\n",
    "    dataloader,\n",
    "    criterion,\n",
    "    optimizer,\n",
    "    eval_mode):\n",
    "\n",
    "    epoch_losses = []\n",
    "    epoch_accuracies = []\n",
    "\n",
    "    if not eval_mode:\n",
    "        model.train()\n",
    "    else:\n",
    "        model.eval()\n",
    "\n",
    "    for batch in dataloader:\n",
    "        loss, accuracy = perform_batch_iteration(batch, model, criterion, optimizer, eval_mode)\n",
    "        epoch_losses.append(loss)\n",
    "        epoch_accuracies.append(accuracy)\n",
    "\n",
    "    return np.mean(epoch_losses), np.mean(epoch_accuracies)"
   ]
  },
  {
   "cell_type": "markdown",
   "metadata": {
    "id": "BN4HsxktuVSn"
   },
   "source": [
    "Finally, for the full training process, we perform multiple epoch iterations for both the training and the validation datasets. We keep the best validation score as a reference. In practice, one must keep reference to the model state and best validation results at the time but for simplicity reasons we skip this.\n",
    "\n",
    "_Note: As an optional exercise, you can try to define your own `train_model_v2` function where you do this._"
   ]
  },
  {
   "cell_type": "code",
   "execution_count": null,
   "metadata": {
    "id": "-m45QQCIuVSo"
   },
   "outputs": [],
   "source": [
    "def train_model(model, train_dataloader, valid_dataloader, criterion, optimizer, epochs):\n",
    "    print('Starting training...')\n",
    "\n",
    "    train_losses, train_accuracies = [], []\n",
    "    valid_losses, valid_accuracies = [], []\n",
    "    for epoch in range(epochs):\n",
    "\n",
    "        # iterate over the train data\n",
    "        loss, accuracy = perform_epoch_iteration(\n",
    "            model,\n",
    "            train_dataloader,\n",
    "            criterion,\n",
    "            optimizer,\n",
    "            eval_mode=False)\n",
    "\n",
    "        # store the train loss and accuracy for later\n",
    "        train_losses.append(loss)\n",
    "        train_accuracies.append(accuracy)\n",
    "\n",
    "        print(f'Epoch: {epoch:02}')\n",
    "        print(f'\\tTrain Loss: {loss:.3f} | Train Acc: {accuracy*100:.2f}%', end='')\n",
    "\n",
    "        # iterate over the train data\n",
    "        valid_loss, valid_accuracy = perform_epoch_iteration(\n",
    "            model,\n",
    "            valid_dataloader,\n",
    "            criterion,\n",
    "            None,\n",
    "            eval_mode=True)\n",
    "\n",
    "        # store the train loss and accuracy for later\n",
    "        valid_losses.append(valid_loss)\n",
    "        valid_accuracies.append(valid_accuracy)\n",
    "\n",
    "        print(f'| Valid Loss: {valid_loss:.3f} | Valid Acc: {valid_accuracy*100:.2f}%')\n",
    "\n",
    "    # finally, return the stored lists\n",
    "    return train_losses, train_accuracies, valid_losses, valid_accuracies"
   ]
  },
  {
   "cell_type": "code",
   "execution_count": null,
   "metadata": {
    "colab": {
     "base_uri": "https://localhost:8080/"
    },
    "id": "-Yl83-2EuVSo",
    "outputId": "c40d7ce0-3c0f-4f04-e1e5-ea5288ebe292"
   },
   "outputs": [
    {
     "name": "stdout",
     "output_type": "stream",
     "text": [
      "Starting training...\n",
      "Epoch: 00\n",
      "\tTrain Loss: 0.662 | Train Acc: 64.79%| Valid Loss: 0.638 | Valid Acc: 75.57%\n",
      "Epoch: 01\n",
      "\tTrain Loss: 0.601 | Train Acc: 76.96%| Valid Loss: 0.594 | Valid Acc: 70.93%\n",
      "Epoch: 02\n",
      "\tTrain Loss: 0.545 | Train Acc: 81.44%| Valid Loss: 0.547 | Valid Acc: 80.44%\n",
      "Epoch: 03\n",
      "\tTrain Loss: 0.490 | Train Acc: 84.37%| Valid Loss: 0.506 | Valid Acc: 82.18%\n",
      "Epoch: 04\n",
      "\tTrain Loss: 0.441 | Train Acc: 86.88%| Valid Loss: 0.473 | Valid Acc: 82.03%\n",
      "Epoch: 05\n",
      "\tTrain Loss: 0.398 | Train Acc: 88.25%| Valid Loss: 0.440 | Valid Acc: 85.51%\n",
      "Epoch: 06\n",
      "\tTrain Loss: 0.360 | Train Acc: 89.53%| Valid Loss: 0.415 | Valid Acc: 86.14%\n",
      "Epoch: 07\n",
      "\tTrain Loss: 0.331 | Train Acc: 90.55%| Valid Loss: 0.396 | Valid Acc: 86.84%\n"
     ]
    }
   ],
   "source": [
    "# train the model\n",
    "\n",
    "N_EPOCHS = 8\n",
    "\n",
    "train_losses, train_accuracies, valid_losses, valid_accuracies = train_model(\n",
    "    model,\n",
    "    train_dataloader,\n",
    "    valid_dataloader,\n",
    "    criterion,\n",
    "    optimizer,\n",
    "    N_EPOCHS)"
   ]
  },
  {
   "cell_type": "code",
   "execution_count": null,
   "metadata": {
    "colab": {
     "base_uri": "https://localhost:8080/",
     "height": 872
    },
    "id": "yQUy03eFuVSo",
    "outputId": "49422a23-2be2-457f-ab34-89db97f11b64"
   },
   "outputs": [
    {
     "data": {
      "image/png": "[encoded data removed]",
      "text/plain": [
       "<Figure size 2000x1000 with 1 Axes>"
      ]
     },
     "metadata": {},
     "output_type": "display_data"
    }
   ],
   "source": [
    "# Let's compare the train and validation losses and how they changed during the different epochs\n",
    "\n",
    "plt.plot(train_losses, label='Train')\n",
    "plt.plot(valid_losses, label='Validation')\n",
    "plt.title('Loss during training')\n",
    "plt.xlabel('Epochs')\n",
    "plt.ylabel('Loss')\n",
    "plt.legend(fontsize=15)\n",
    "plt.show()"
   ]
  },
  {
   "cell_type": "code",
   "execution_count": null,
   "metadata": {
    "colab": {
     "base_uri": "https://localhost:8080/",
     "height": 872
    },
    "id": "QJmot4rjuVSo",
    "outputId": "c7fcc6ee-2083-4cb7-88b1-f472cf827975"
   },
   "outputs": [
    {
     "data": {
      "image/png": "[encoded data removed]",
      "text/plain": [
       "<Figure size 2000x1000 with 1 Axes>"
      ]
     },
     "metadata": {},
     "output_type": "display_data"
    }
   ],
   "source": [
    "# We can do the same thing with the accuracy\n",
    "\n",
    "plt.plot(train_accuracies, label='Train')\n",
    "plt.plot(valid_accuracies, label='Validation')\n",
    "plt.title('Accuracy during training')\n",
    "plt.xlabel('Epochs')\n",
    "plt.ylabel('Accuracy')\n",
    "plt.legend(fontsize=15)\n",
    "plt.show()"
   ]
  },
  {
   "cell_type": "markdown",
   "metadata": {
    "id": "eR3gjaK5uVSp"
   },
   "source": [
    "You can see that as training progresses, the performance over the validation dataset stops improving as much. If we continue to train, we risk overfitting. This is what happens when our model learns the training data too well and starts forgetting about generic features that are required when dealing with unseen data (which is the case with the validation data). This is something that we must be careful about in practice as it can prevent us from applying our model on actual real world problems."
   ]
  },
  {
   "cell_type": "code",
   "execution_count": null,
   "metadata": {
    "colab": {
     "base_uri": "https://localhost:8080/"
    },
    "id": "kqlLkUj4uVSp",
    "outputId": "a643209e-417d-467f-c542-e5b97f3913a4"
   },
   "outputs": [
    {
     "name": "stdout",
     "output_type": "stream",
     "text": [
      "Test Loss: 0.374 | Test Acc: 87.14%\n"
     ]
    }
   ],
   "source": [
    "# After we have fully trained our model,\n",
    "# we can let it run over the test data and check the results that we receive\n",
    "\n",
    "test_loss, test_acc = perform_epoch_iteration(model, test_dataloader, criterion, None, True)\n",
    "print(f'Test Loss: {test_loss:.3f} | Test Acc: {test_acc*100:.2f}%')"
   ]
  },
  {
   "cell_type": "markdown",
   "metadata": {
    "id": "tr-NMOXQuVSp"
   },
   "source": [
    "# Part IV: Pre-trained embeddings\n",
    "\n",
    "In recent years, pre-trained embeddings have emerged as a very powerful tool for quickly optimizing the training process. When you define an embedding layer simply as it is, its weights are initialized _randomly_. This means that in order to learn which words are contextually close to one another, we must train the model from scratch, often for long periods of time. To overcome this limitation, pre-trained embeddings can be used. If we replace the randomly initialized embeddings with ones that have already been trained in another model, then we might gain some benefits and saving time/compute.\n",
    "\n",
    "As a starting point, we use GloVe which comes built in TorchText. They can be accessed using the `vectors` argument during building the vocabulary. The most commonly used GloVe vectors are `glove.6B.300d` meaning that they have been trained on 6 billion tokens and have dimensionality of 300."
   ]
  },
  {
   "cell_type": "code",
   "execution_count": null,
   "metadata": {
    "id": "IYxb-kXfuVSp"
   },
   "outputs": [],
   "source": [
    "# Watch out: 862M\n",
    "# Let's build a new vocabulary, this time using pre-trained vectors\n",
    "from torchtext.vocab import GloVe\n",
    "\n",
    "# Load GloVe vectors\n",
    "glove_vectors = GloVe(name='6B', dim=300)\n",
    "\n",
    "vocab, counter, pretrained_embeddings = get_tokenized_data(tokenizer, glove_vectors)\n"
   ]
  },
  {
   "cell_type": "code",
   "execution_count": null,
   "metadata": {
    "id": "0y9WoMSxuVSp"
   },
   "outputs": [],
   "source": [
    "# Build dataloaders, this time using the new vocabulary\n",
    "pretr_train_dataloader, pretr_valid_dataloader, pretr_test_dataloader = \\\n",
    "    get_dataloaders(BATCH_SIZE, vocab, tokenizer)"
   ]
  },
  {
   "cell_type": "code",
   "execution_count": null,
   "metadata": {
    "id": "Ve6xmqSEuVSp"
   },
   "outputs": [],
   "source": [
    "# We define a new SentimentAnalysisModel, this time using pretrained embeddings\n",
    "pretr_model = SentimentAnalysisModel(\n",
    "    INPUT_DIMENSION,\n",
    "    EMBEDDING_DIMENSION,\n",
    "    OUTPUT_DIMENSION,\n",
    "    pretr_embeddings=pretrained_embeddings).to(device)\n",
    "\n",
    "pretr_optimizer = torch.optim.Adam(pretr_model.parameters())\n",
    "pretr_criterion = nn.BCEWithLogitsLoss().to(device)"
   ]
  },
  {
   "cell_type": "code",
   "execution_count": null,
   "metadata": {
    "colab": {
     "base_uri": "https://localhost:8080/"
    },
    "id": "UWfwjeM9uVSq",
    "outputId": "8d88ede9-cd6b-46b4-aeaf-b7ec7ca5653c"
   },
   "outputs": [
    {
     "name": "stdout",
     "output_type": "stream",
     "text": [
      "Starting training...\n",
      "Epoch: 00\n",
      "\tTrain Loss: 0.688 | Train Acc: 62.39%| Valid Loss: 0.643 | Valid Acc: 79.55%\n",
      "Epoch: 01\n",
      "\tTrain Loss: 0.616 | Train Acc: 76.70%| Valid Loss: 0.598 | Valid Acc: 78.99%\n",
      "Epoch: 02\n",
      "\tTrain Loss: 0.572 | Train Acc: 78.05%| Valid Loss: 0.556 | Valid Acc: 82.90%\n",
      "Epoch: 03\n",
      "\tTrain Loss: 0.526 | Train Acc: 83.71%| Valid Loss: 0.518 | Valid Acc: 84.64%\n",
      "Epoch: 04\n",
      "\tTrain Loss: 0.487 | Train Acc: 85.15%| Valid Loss: 0.485 | Valid Acc: 84.30%\n",
      "Epoch: 05\n",
      "\tTrain Loss: 0.450 | Train Acc: 86.67%| Valid Loss: 0.457 | Valid Acc: 85.37%\n",
      "Epoch: 06\n",
      "\tTrain Loss: 0.416 | Train Acc: 87.98%| Valid Loss: 0.426 | Valid Acc: 87.12%\n",
      "Epoch: 07\n",
      "\tTrain Loss: 0.384 | Train Acc: 89.38%| Valid Loss: 0.402 | Valid Acc: 87.48%\n"
     ]
    }
   ],
   "source": [
    "# Train the new model with pre-trained embeddings\n",
    "(pretr_train_losses, pretr_train_accuracies,\n",
    " pretr_valid_losses, pretr_valid_accuracies) = train_model(\n",
    "    pretr_model,\n",
    "    pretr_train_dataloader,\n",
    "    pretr_valid_dataloader,\n",
    "    pretr_criterion,\n",
    "    pretr_optimizer,\n",
    "    N_EPOCHS)"
   ]
  },
  {
   "cell_type": "code",
   "execution_count": null,
   "metadata": {
    "colab": {
     "base_uri": "https://localhost:8080/"
    },
    "id": "hSQRdiO4uVSq",
    "outputId": "a626b809-2880-4e52-ccb6-daf980983bd0"
   },
   "outputs": [
    {
     "name": "stdout",
     "output_type": "stream",
     "text": [
      "Test Loss: 0.416 | Test Acc: 86.34%\n"
     ]
    }
   ],
   "source": [
    "# Same as before, we perform an epoch iteration over the test dataset\n",
    "pretr_test_loss, pretr_test_acc = perform_epoch_iteration(\n",
    "    pretr_model,\n",
    "    pretr_test_dataloader,\n",
    "    pretr_criterion,\n",
    "    None,\n",
    "    True)\n",
    "\n",
    "# Print the results. Are those better than the non-pretrained ones?\n",
    "print(f'Test Loss: {pretr_test_loss:.3f} | Test Acc: {pretr_test_acc*100:.2f}%')"
   ]
  },
  {
   "cell_type": "code",
   "execution_count": null,
   "metadata": {
    "colab": {
     "base_uri": "https://localhost:8080/",
     "height": 1000
    },
    "id": "kCR6nkMJuVSq",
    "outputId": "06b00166-9a1e-45fe-e264-43be477c734e"
   },
   "outputs": [
    {
     "data": {
      "image/png": "[encoded data removed]",
      "text/plain": [
       "<Figure size 2000x1000 with 1 Axes>"
      ]
     },
     "metadata": {},
     "output_type": "display_data"
    },
    {
     "data": {
      "image/png": "[encoded data removed]",
      "text/plain": [
       "<Figure size 2000x1000 with 1 Axes>"
      ]
     },
     "metadata": {},
     "output_type": "display_data"
    }
   ],
   "source": [
    "# Let's compare the loss and accuracy values of the two models\n",
    "\n",
    "plt.plot(pretr_valid_losses, label='GloVe pre-trained')\n",
    "plt.plot(valid_losses, label='Randomly initialized')\n",
    "plt.legend(fontsize=15)\n",
    "plt.title('Comparison of validation loss during training')\n",
    "plt.xlabel('Epochs')\n",
    "plt.ylabel('Loss')\n",
    "plt.show()\n",
    "\n",
    "plt.plot(pretr_valid_accuracies, label='GloVe pre-trained')\n",
    "plt.plot(valid_accuracies, label='Randomly initialized')\n",
    "plt.legend(fontsize=15)\n",
    "plt.title('Comparison of validation accuracy during training')\n",
    "plt.xlabel('Epochs')\n",
    "plt.ylabel('Accuracy')\n",
    "plt.show()"
   ]
  },
  {
   "cell_type": "markdown",
   "metadata": {
    "id": "w40YCB7DuVSq"
   },
   "source": [
    "As you can see, GloVe embeddings significantly outperform the randomly initialized ones. Can you guess why is that?"
   ]
  },
  {
   "cell_type": "markdown",
   "metadata": {
    "id": "-Zbrv0d7uVSq"
   },
   "source": [
    "# Exercises\n",
    "\n",
    "## Play with the training parameters\n",
    "There is more than pre-trained weights that can change the outcome. Try to adjust some of the following parameters and report how this changes the outcome of your results:\n",
    "* batch size of the iterators\n",
    "* learning rate of the optimizer\n",
    "* increasing the number of epochs\n",
    "\n",
    " _Note: do not forget to re-initialize your variables (most importantly dataloader, model, optimizer). To be on the safe-side, you can use different namings for these variables in every experiment_"
   ]
  },
  {
   "cell_type": "code",
   "execution_count": null,
   "metadata": {
    "id": "7QYnyIbBuVSr"
   },
   "outputs": [],
   "source": [
    "# your code here"
   ]
  },
  {
   "cell_type": "markdown",
   "metadata": {
    "id": "_A7Cy9VIuVSr"
   },
   "source": [
    "## Pre-trained embeddings\n",
    "\n",
    "Try to use different pre-trained embeddings than the ones shown in this lab. You can use different versions of GloVe or entirely new pre-trained vectors. You can check what is currently available [here](https://pytorch.org/text/stable/_modules/torchtext/vocab.html#Vocab.load_vectors)."
   ]
  },
  {
   "cell_type": "code",
   "execution_count": null,
   "metadata": {
    "id": "pSiB0glsuVSr"
   },
   "outputs": [],
   "source": [
    "# your code here"
   ]
  },
  {
   "cell_type": "markdown",
   "metadata": {
    "id": "FeFd9cNXuVSr"
   },
   "source": [
    "## Improving the model (simple)\n",
    "\n",
    "Let us try to improve our `SentimentAnalysisModel`.\n",
    "\n",
    "In this exercise we took the mean of our embeddings after making a forward pass through the embedding layer. In practice, there is more efficient way by using an `torch.nn.EmbeddingBag` [link](https://pytorch.org/docs/stable/generated/torch.nn.EmbeddingBag.html#torch.nn.EmbeddingBag). This will make training faster and will also remove the need for taking the mean of the embeddings. Create a new class that contains the same layers as `SentimentAnalysisModel` but replacing the embedding layer with an embedding bag. Report if this changes the results in any way."
   ]
  },
  {
   "cell_type": "code",
   "execution_count": null,
   "metadata": {
    "id": "ilSsjk2juVSr"
   },
   "outputs": [],
   "source": [
    "# your code here"
   ]
  },
  {
   "cell_type": "markdown",
   "metadata": {
    "id": "Oaxqhxl-uVSr"
   },
   "source": [
    "Another simple improvement you can perform is adding another linear layer after the embeddings and before the final fully connected one. Try this with different dimensionalities and report the differences."
   ]
  },
  {
   "cell_type": "code",
   "execution_count": null,
   "metadata": {
    "id": "T6F00kdauVSr"
   },
   "outputs": [],
   "source": [
    "# your code here"
   ]
  },
  {
   "cell_type": "markdown",
   "metadata": {
    "id": "hI9tMErQuVSs"
   },
   "source": [
    "## Improving the model (advanced)\n",
    "\n",
    "These days, there are much more powerful components that researchers use instead of only embedding and linear layers. Recurrent Neural Networks (RNN) are one of the most popular ones. You can read about them here and specifically about PyTorch implementation [here](https://pytorch.org/docs/stable/generated/torch.nn.RNN.html).\n",
    "\n",
    "Try to improve your model by including a `torch.nn.RNN` module. Once this is working, you can also try a more sophisticated implementation, such as `torch.nn.LSTM` or `torch.nn.GRU`. You can experiment with the amount of layers and the bi-directionality. Practice shows that bi-directional RNNs usually perform better than uni-directional. Is this also valid for this model?\n",
    "\n",
    "_More on recurrent layers in the next lab._"
   ]
  },
  {
   "cell_type": "code",
   "execution_count": null,
   "metadata": {
    "id": "7DD1j1heuVSs"
   },
   "outputs": [],
   "source": [
    "# your code here"
   ]
  }
 ],
 "metadata": {
  "colab": {
   "provenance": []
  },
  "kernelspec": {
   "display_name": "Python 3 (ipykernel)",
   "language": "python",
   "name": "python3"
  },
  "language_info": {
   "codemirror_mode": {
    "name": "ipython",
    "version": 3
   },
   "file_extension": ".py",
   "mimetype": "text/x-python",
   "name": "python",
   "nbconvert_exporter": "python",
   "pygments_lexer": "ipython3",
   "version": "3.8.13"
  },
  "toc": {
   "base_numbering": 1,
   "nav_menu": {},
   "number_sections": true,
   "sideBar": true,
   "skip_h1_title": false,
   "title_cell": "Table of Contents",
   "title_sidebar": "Contents",
   "toc_cell": false,
   "toc_position": {},
   "toc_section_display": true,
   "toc_window_display": true
  }
 },
 "nbformat": 4,
 "nbformat_minor": 4
}
